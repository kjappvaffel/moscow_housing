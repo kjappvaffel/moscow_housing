{
 "cells": [
  {
   "cell_type": "markdown",
   "metadata": {
    "collapsed": true,
    "pycharm": {
     "name": "#%% md\n"
    }
   },
   "source": [
    "XGBoost"
   ]
  },
  {
   "cell_type": "code",
   "execution_count": 16,
   "metadata": {
    "pycharm": {
     "is_executing": true,
     "name": "#%%\n"
    }
   },
   "outputs": [],
   "source": [
    "import xgboost as xgb\n",
    "import numpy as np\n",
    "import matplotlib.pylab as plt\n",
    "plt.style.use('ggplot')\n",
    "import feature_engineering\n",
    "from sklearn.model_selection import train_test_split\n",
    "from display_data import import_data"
   ]
  },
  {
   "cell_type": "markdown",
   "metadata": {
    "pycharm": {
     "name": "#%% md\n"
    }
   },
   "source": [
    "I want to use import_data function from another directory, and make the data ready for the model. LightGBM accepts categorical values, but they have to be encoded as no-negative integers.\n"
   ]
  },
  {
   "cell_type": "code",
   "execution_count": 17,
   "metadata": {
    "pycharm": {
     "name": "#%%\n"
    }
   },
   "outputs": [
    {
     "name": "stdout",
     "output_type": "stream",
     "text": [
      "0         7139520.0\n",
      "1        10500000.0\n",
      "2         9019650.0\n",
      "3        10500000.0\n",
      "4        13900000.0\n",
      "            ...    \n",
      "23280    13300000.0\n",
      "23281    15854300.0\n",
      "23282    19800000.0\n",
      "23283    29999000.0\n",
      "23284    10950000.0\n",
      "Name: price, Length: 23285, dtype: float64\n"
     ]
    }
   ],
   "source": [
    "#We dont want our model to care about the id of the house or the seller\n",
    "data, data_test = import_data()\n",
    "Y = data.price\n",
    "print(Y)\n",
    "for column in data.columns:\n",
    "    column_type = data[column].dtype\n",
    "    if column_type == 'object':\n",
    "        break\n",
    "    data[column] = data[column].replace(np.NaN, data[column].mean())\n",
    "#print(data_test)\n",
    "#Features\n",
    "radius = False\n",
    "district_mean_price = True\n",
    "# Add radius \n",
    "if(radius):\n",
    "    data = feature_engineering.add_radius(data)\n",
    "    data_test = feature_engineering.add_radius(data_test)\n",
    "    coordinates = ['latitude', 'longitude']\n",
    "    data = data.drop(columns = coordinates)\n",
    "    data_test = data_test.drop(columns = coordinates)\n",
    "if(district_mean_price):\n",
    "    data = feature_engineering.group_by_feature_and_price(data,'district')\n",
    "    data_test = feature_engineering.group_by_feature_and_price(data_test,'district',data_train=data)\n",
    "#print(data_test)\n",
    "#Remove catdata\n",
    "data = data.drop(columns=['price', 'id','seller'])\n",
    "categorical_data = ['layout', 'windows_court', 'windows_street', 'condition', 'building_id','new','district','street',\n",
    "                    'address', 'material', 'elevator_without', 'elevator_passenger', 'elevator_service', 'parking','garbage_chute', 'heating']\n",
    "data = data.drop(columns = categorical_data)\n",
    "data_test = data_test.drop(columns=['id','seller'])\n",
    "data_test = data_test.drop(columns = categorical_data)\n",
    "\n",
    "X_train, X_test, y_train, y_test = train_test_split(data, Y, test_size=0.2, random_state=42)"
   ]
  },
  {
   "cell_type": "code",
   "execution_count": 18,
   "metadata": {},
   "outputs": [
    {
     "name": "stdout",
     "output_type": "stream",
     "text": [
      "first run 0.19084295853893113\n"
     ]
    },
    {
     "data": {
      "text/plain": [
       "\"\\nlightGBM_model = lgb.LGBMRegressor(\\n    categorical_feature=(0,1,2,8,9,10),\\n    num_leaves=256,\\n    max_depth=8,\\n    random_state=42,\\n    metric='rmsle',\\n    num_iterations=2000,\\n    learning_rate=0.09,\\n    bagging_freq = 5,\\n    bagging_fraction = 0.8)\\n\""
      ]
     },
     "execution_count": 18,
     "metadata": {},
     "output_type": "execute_result"
    }
   ],
   "source": [
    "\n",
    "\n",
    "def root_mean_squared_log_error(y_true, y_pred):\n",
    "    # Alternatively: sklearn.metrics.mean_squared_log_error(y_true, y_pred) ** 0.5\n",
    "    assert (y_true >= 0).all()\n",
    "    assert (y_pred >= 0).all()\n",
    "    log_error = np.log1p(y_pred) - np.log1p(y_true)  # Note: log1p(x) = log(1 + x)\n",
    "    return np.mean(log_error ** 2) ** 0.5\n",
    "\n",
    "#data.info()\n",
    "#print(len(Y))\n",
    "#print(data.corr())\n",
    "\n",
    "XGB_model = xgb.XGBRegressor(n_estimators = 10000)\n",
    "\n",
    "XGB_model.fit(X_train,y_train)\n",
    "prediction = XGB_model.predict(X_test)\n",
    "\n",
    "##############\n",
    "\n",
    "\n",
    "\n",
    "\n",
    "#lgb.plot_importance(lightGBM_model)\n",
    "\n",
    "count = 0\n",
    "for i in prediction:\n",
    "    if i < 0:\n",
    "        prediction[count] = prediction.mean()\n",
    "    count += 1\n",
    "\n",
    "rmsle = root_mean_squared_log_error(y_test,prediction)\n",
    "print(\"first run\", rmsle)\n",
    "\n",
    "\n",
    "\"\"\"\n",
    "lightGBM_model = lgb.LGBMRegressor(\n",
    "    categorical_feature=(0,1,2,8,9,10),\n",
    "    num_leaves=256,\n",
    "    max_depth=8,\n",
    "    random_state=42,\n",
    "    metric='rmsle',\n",
    "    num_iterations=2000,\n",
    "    learning_rate=0.09,\n",
    "    bagging_freq = 5,\n",
    "    bagging_fraction = 0.8)\n",
    "\"\"\""
   ]
  },
  {
   "cell_type": "markdown",
   "metadata": {},
   "source": [
    "Runs\n",
    "Only numeric, no feature engineered: 0.19744699138034857\n",
    "\n",
    "Radius added: 0.20967165360778273, Why worse\n",
    "\n",
    "Distric_mean: 0.19084295853893113"
   ]
  }
 ],
 "metadata": {
  "interpreter": {
   "hash": "63fd5069d213b44bf678585dea6b12cceca9941eaf7f819626cde1f2670de90d"
  },
  "kernelspec": {
   "display_name": "Python 3.9.4 64-bit",
   "name": "python3"
  },
  "language_info": {
   "codemirror_mode": {
    "name": "ipython",
    "version": 3
   },
   "file_extension": ".py",
   "mimetype": "text/x-python",
   "name": "python",
   "nbconvert_exporter": "python",
   "pygments_lexer": "ipython3",
   "version": "3.9.4"
  }
 },
 "nbformat": 4,
 "nbformat_minor": 1
}
