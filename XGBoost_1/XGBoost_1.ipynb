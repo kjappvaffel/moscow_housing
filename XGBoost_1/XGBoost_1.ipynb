{
 "cells": [
  {
   "cell_type": "markdown",
   "metadata": {
    "collapsed": true,
    "pycharm": {
     "name": "#%% md\n"
    }
   },
   "source": [
    "XGBoost"
   ]
  },
  {
   "cell_type": "code",
   "execution_count": 1,
   "metadata": {
    "pycharm": {
     "is_executing": true,
     "name": "#%%\n"
    }
   },
   "outputs": [],
   "source": [
    "import xgboost as xgb\n",
    "import numpy as np\n",
    "import matplotlib.pylab as plt\n",
    "plt.style.use('ggplot')"
   ]
  },
  {
   "cell_type": "markdown",
   "metadata": {
    "pycharm": {
     "name": "#%% md\n"
    }
   },
   "source": [
    "I want to use import_data function from another directory, and make the data ready for the model. LightGBM accepts categorical values, but they have to be encoded as no-negative integers.\n"
   ]
  },
  {
   "cell_type": "code",
   "execution_count": 2,
   "metadata": {
    "pycharm": {
     "name": "#%%\n"
    }
   },
   "outputs": [
    {
     "name": "stdout",
     "output_type": "stream",
     "text": [
      "<class 'pandas.core.frame.DataFrame'>\n",
      "RangeIndex: 23285 entries, 0 to 23284\n",
      "Data columns (total 15 columns):\n",
      " #   Column             Non-Null Count  Dtype  \n",
      "---  ------             --------------  -----  \n",
      " 0   area_total         23285 non-null  float64\n",
      " 1   area_kitchen       23285 non-null  float64\n",
      " 2   area_living        23285 non-null  float64\n",
      " 3   floor              23285 non-null  float64\n",
      " 4   rooms              23285 non-null  float64\n",
      " 5   ceiling            23285 non-null  float64\n",
      " 6   bathrooms_shared   23285 non-null  float64\n",
      " 7   bathrooms_private  23285 non-null  float64\n",
      " 8   balconies          23285 non-null  float64\n",
      " 9   loggias            23285 non-null  float64\n",
      " 10  phones             23285 non-null  float64\n",
      " 11  latitude           23285 non-null  float64\n",
      " 12  longitude          23285 non-null  float64\n",
      " 13  constructed        23285 non-null  float64\n",
      " 14  stories            23285 non-null  float64\n",
      "dtypes: float64(15)\n",
      "memory usage: 2.7 MB\n",
      "23285\n",
      "                   area_total  area_kitchen  area_living     floor     rooms  \\\n",
      "area_total           1.000000      0.371273     0.664203  0.177762  0.683526   \n",
      "area_kitchen         0.371273      1.000000     0.353517  0.123790  0.264130   \n",
      "area_living          0.664203      0.353517     1.000000  0.084006  0.630936   \n",
      "floor                0.177762      0.123790     0.084006  1.000000  0.072021   \n",
      "rooms                0.683526      0.264130     0.630936  0.072021  1.000000   \n",
      "ceiling              0.027285      0.007911     0.023030 -0.001763  0.033180   \n",
      "bathrooms_shared     0.294543      0.269136     0.291201  0.082059  0.178151   \n",
      "bathrooms_private    0.175461      0.113772     0.150844  0.017242  0.271162   \n",
      "balconies            0.064392     -0.041067     0.056357 -0.027100  0.091098   \n",
      "loggias              0.087190      0.106593     0.095261  0.063573  0.091286   \n",
      "phones               0.059443     -0.035852     0.087989 -0.009562  0.072205   \n",
      "latitude             0.062404      0.027326     0.064353  0.057541  0.072682   \n",
      "longitude           -0.078859     -0.096139    -0.074075 -0.054793 -0.054669   \n",
      "constructed          0.095555      0.344175    -0.001983  0.257628 -0.023203   \n",
      "stories              0.174020      0.190301     0.093745  0.673907  0.079107   \n",
      "\n",
      "                    ceiling  bathrooms_shared  bathrooms_private  balconies  \\\n",
      "area_total         0.027285          0.294543           0.175461   0.064392   \n",
      "area_kitchen       0.007911          0.269136           0.113772  -0.041067   \n",
      "area_living        0.023030          0.291201           0.150844   0.056357   \n",
      "floor             -0.001763          0.082059           0.017242  -0.027100   \n",
      "rooms              0.033180          0.178151           0.271162   0.091098   \n",
      "ceiling            1.000000          0.006598           0.014683  -0.004910   \n",
      "bathrooms_shared   0.006598          1.000000          -0.613813  -0.053217   \n",
      "bathrooms_private  0.014683         -0.613813           1.000000   0.052538   \n",
      "balconies         -0.004910         -0.053217           0.052538   1.000000   \n",
      "loggias            0.008187          0.105036           0.010440  -0.696588   \n",
      "phones             0.021108          0.048971          -0.062092   0.063955   \n",
      "latitude           0.009396          0.031906           0.018196   0.068454   \n",
      "longitude          0.009046         -0.062666          -0.003468   0.004770   \n",
      "constructed       -0.010961          0.144549           0.054916  -0.126981   \n",
      "stories           -0.005504          0.133044           0.012029  -0.053593   \n",
      "\n",
      "                    loggias    phones  latitude  longitude  constructed  \\\n",
      "area_total         0.087190  0.059443  0.062404  -0.078859     0.095555   \n",
      "area_kitchen       0.106593 -0.035852  0.027326  -0.096139     0.344175   \n",
      "area_living        0.095261  0.087989  0.064353  -0.074075    -0.001983   \n",
      "floor              0.063573 -0.009562  0.057541  -0.054793     0.257628   \n",
      "rooms              0.091286  0.072205  0.072682  -0.054669    -0.023203   \n",
      "ceiling            0.008187  0.021108  0.009396   0.009046    -0.010961   \n",
      "bathrooms_shared   0.105036  0.048971  0.031906  -0.062666     0.144549   \n",
      "bathrooms_private  0.010440 -0.062092  0.018196  -0.003468     0.054916   \n",
      "balconies         -0.696588  0.063955  0.068454   0.004770    -0.126981   \n",
      "loggias            1.000000 -0.001196 -0.023470  -0.018551     0.172345   \n",
      "phones            -0.001196  1.000000  0.019096   0.007286    -0.112165   \n",
      "latitude          -0.023470  0.019096  1.000000   0.076567    -0.053011   \n",
      "longitude         -0.018551  0.007286  0.076567   1.000000    -0.160599   \n",
      "constructed        0.172345 -0.112165 -0.053011  -0.160599     1.000000   \n",
      "stories            0.092142  0.002228  0.095693  -0.085766     0.396709   \n",
      "\n",
      "                    stories  \n",
      "area_total         0.174020  \n",
      "area_kitchen       0.190301  \n",
      "area_living        0.093745  \n",
      "floor              0.673907  \n",
      "rooms              0.079107  \n",
      "ceiling           -0.005504  \n",
      "bathrooms_shared   0.133044  \n",
      "bathrooms_private  0.012029  \n",
      "balconies         -0.053593  \n",
      "loggias            0.092142  \n",
      "phones             0.002228  \n",
      "latitude           0.095693  \n",
      "longitude         -0.085766  \n",
      "constructed        0.396709  \n",
      "stories            1.000000  \n",
      "first run 0.2057181551211841\n"
     ]
    },
    {
     "data": {
      "text/plain": [
       "\"\\nlightGBM_model = lgb.LGBMRegressor(\\n    categorical_feature=(0,1,2,8,9,10),\\n    num_leaves=256,\\n    max_depth=8,\\n    random_state=42,\\n    metric='rmsle',\\n    num_iterations=2000,\\n    learning_rate=0.09,\\n    bagging_freq = 5,\\n    bagging_fraction = 0.8)\\n\""
      ]
     },
     "execution_count": 2,
     "metadata": {},
     "output_type": "execute_result"
    }
   ],
   "source": [
    "from sklearn.model_selection import train_test_split\n",
    "from display_data import import_data\n",
    "\n",
    "#We dont want our model to care about the id of the house or the seller\n",
    "data, data_test = import_data()\n",
    "Y = data.price\n",
    "data = data.drop(columns=['price','id','seller'])\n",
    "categorical_data = ['layout', 'windows_court', 'windows_street', 'condition', 'building_id','new','district','street',\n",
    "                    'address', 'material', 'elevator_without', 'elevator_passenger', 'elevator_service', 'parking','garbage_chute', 'heating']\n",
    "data = data.drop(columns = categorical_data)\n",
    "data_test = data_test.drop(columns = categorical_data)\n",
    "\n",
    "for column in data.columns:\n",
    "    column_type = data[column].dtype\n",
    "    if column_type == 'object':\n",
    "        break\n",
    "    data[column] = data[column].replace(np.NaN, data[column].mean())\n",
    "\n",
    "X_train, X_test, y_train, y_test = train_test_split(data, Y, test_size=0.2, random_state=42)\n",
    "\n",
    "\n",
    "def root_mean_squared_log_error(y_true, y_pred):\n",
    "    # Alternatively: sklearn.metrics.mean_squared_log_error(y_true, y_pred) ** 0.5\n",
    "    assert (y_true >= 0).all()\n",
    "    assert (y_pred >= 0).all()\n",
    "    log_error = np.log1p(y_pred) - np.log1p(y_true)  # Note: log1p(x) = log(1 + x)\n",
    "    return np.mean(log_error ** 2) ** 0.5\n",
    "\n",
    "#data.info()\n",
    "#print(len(Y))\n",
    "#print(data.corr())\n",
    "\n",
    "XGB_model = xgb.XGBRegressor(n_estimators = 10000)\n",
    "\n",
    "XGB_model.fit(X_train,y_train)\n",
    "prediction = XGB_model.predict(X_test)\n",
    "\n",
    "##############\n",
    "\n",
    "\n",
    "\n",
    "\n",
    "#lgb.plot_importance(lightGBM_model)\n",
    "\n",
    "count = 0\n",
    "for i in prediction:\n",
    "    if i < 0:\n",
    "        prediction[count] = prediction.mean()\n",
    "    count += 1\n",
    "\n",
    "rmsle = root_mean_squared_log_error(y_test,prediction)\n",
    "print(\"first run\", rmsle)\n",
    "\n",
    "\n",
    "\"\"\"\n",
    "lightGBM_model = lgb.LGBMRegressor(\n",
    "    categorical_feature=(0,1,2,8,9,10),\n",
    "    num_leaves=256,\n",
    "    max_depth=8,\n",
    "    random_state=42,\n",
    "    metric='rmsle',\n",
    "    num_iterations=2000,\n",
    "    learning_rate=0.09,\n",
    "    bagging_freq = 5,\n",
    "    bagging_fraction = 0.8)\n",
    "\"\"\""
   ]
  }
 ],
 "metadata": {
  "interpreter": {
   "hash": "63fd5069d213b44bf678585dea6b12cceca9941eaf7f819626cde1f2670de90d"
  },
  "kernelspec": {
   "display_name": "Python 3.9.4 64-bit",
   "name": "python3"
  },
  "language_info": {
   "codemirror_mode": {
    "name": "ipython",
    "version": 3
   },
   "file_extension": ".py",
   "mimetype": "text/x-python",
   "name": "python",
   "nbconvert_exporter": "python",
   "pygments_lexer": "ipython3",
   "version": "3.9.4"
  }
 },
 "nbformat": 4,
 "nbformat_minor": 1
}
