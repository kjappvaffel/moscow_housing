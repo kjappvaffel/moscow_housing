{
 "cells": [
  {
   "cell_type": "markdown",
   "metadata": {
    "collapsed": true,
    "pycharm": {
     "name": "#%% md\n"
    }
   },
   "source": [
    "In this notebook i will start testing some of teh discoveries that i made in the EDA\n",
    "For my first prediciton I will apply these ideas:\n",
    "- District_price is a good feature\n",
    "- Building_id is good ofr traning set, but not for test\n",
    "- Lets just leave most missing values and let lightGBM use them\n",
    "- Categorical features will be dealt with through lightGBM\n",
    "- Will do one prediciton focusing on few, but important features\n",
    "- And one with more features\n",
    "- remove outliers from training data"
   ]
  },
  {
   "cell_type": "code",
   "execution_count": 12,
   "outputs": [],
   "source": [
    "from sklearn.model_selection import train_test_split\n",
    "#imports\n",
    "import numpy as np\n",
    "import pandas as pd\n",
    "import seaborn as sns\n",
    "import matplotlib.pyplot as plt\n",
    "import string\n",
    "from sklearn.preprocessing import OneHotEncoder, LabelEncoder, StandardScaler\n",
    "from moscow_housing.display_data import import_data\n",
    "import lightgbm as lgb\n",
    "\n",
    "def root_mean_squared_log_error(y_true, y_pred):\n",
    "    # Alternatively: sklearn.metrics.mean_squared_log_error(y_true, y_pred) ** 0.5\n",
    "    assert (y_true >= 0).all()\n",
    "    assert (y_pred >= 0).all()\n",
    "    log_error = np.log1p(y_pred) - np.log1p(y_true)  # Note: log1p(x) = log(1 + x)\n",
    "    return np.mean(log_error ** 2) ** 0.5\n",
    "\n",
    "#defien functions\n",
    "def add_radius(df):\n",
    "    #adds radius column to dataframe\n",
    "    df['radius'] = np.sqrt((df['latitude']-55.75)**2 + (df['longitude']-37.55)**2)\n",
    "    return df\n",
    "\n",
    "def group_by_feature_and_price(df, feature, data_train = pd.DataFrame()):\n",
    "    #makes a new column with the mean price for each group to all rows\n",
    "    if data_train.empty:\n",
    "        grouped = df.groupby([feature])\n",
    "\n",
    "        mean_price = grouped['price'].mean()\n",
    "\n",
    "        df_merged = pd.merge(df,mean_price, on=feature, how='left')\n",
    "\n",
    "        column_name = str(feature + '_price')\n",
    "\n",
    "        df[column_name] = df_merged['price_y']\n",
    "    else:\n",
    "        grouped = data_train.groupby([feature])\n",
    "\n",
    "        mean_price = grouped['price'].mean()\n",
    "\n",
    "        df_merged = pd.merge(df,mean_price, on=feature, how='left')\n",
    "\n",
    "        column_name = str(feature + '_price')\n",
    "\n",
    "        df[column_name] = df_merged['price']\n",
    "    return df\n",
    "\n",
    "\n",
    "def clean_data(data_test,data_train):\n",
    "#import data\n",
    "#import the data and test data, set y values for both sets\n",
    "data_train, data_test = import_data()\n",
    "\n",
    "test_id = data_test.id\n",
    "#lets first add radius\n",
    "\n",
    "data_train = add_radius(data_train)\n",
    "data_test = add_radius(data_test)\n",
    "\n",
    "data_test._set_value(23,'radius',0.203899)\n",
    "data_test._set_value(90,'radius',0.203899)\n",
    "data_test._set_value(2511,'radius',0.218159)\n",
    "data_test._set_value(5090,'radius',0.218159)\n",
    "data_test._set_value(6959,'radius',0.218159)\n",
    "data_test._set_value(8596,'radius',0.218159)\n",
    "data_test._set_value(4719, 'radius',0.19580)\n",
    "data_test._set_value(9547, 'radius',0.19520)\n",
    "data_test._set_value(2529, 'radius', np.sqrt((37.464994-37.55)**2+(55.627666-55.75)**2))\n",
    "\n",
    "#drop 4 largest from tranining data to get better things\n",
    "data_train = data_train.drop([3217,21414,15840,13938])\n",
    "Y= data_train.price\n",
    "\n",
    "#Then we group by and add district price\n",
    "data_train = group_by_feature_and_price(data_train,'district')\n",
    "data_test = group_by_feature_and_price(data_test, 'district', data_train=data_train)\n",
    "\n",
    "#add top floor variable\n",
    "data_train['high_up'] = data_train.floor/data_train.stories\n",
    "data_test['high_up'] = data_test.floor/data_test.stories\n",
    "data_train['high_up'].where(data_train['high_up'] > 1, 1)\n",
    "data_test['high_up'].where(data_test['high_up'] >= 1, 1)\n",
    "\n",
    "#add own bathroom boolean\n",
    "data_train['own_bathroom'] = data_train['bathrooms_private'].apply(lambda row: float('NaN') if pd.isnull(row)  else ( float(0) if row==0 else float(1)))\n",
    "data_test['own_bathroom'] = data_test['bathrooms_private'].apply(lambda row: float('NaN') if pd.isnull(row)  else ( float(0) if row==0 else float(1)))"
   ],
   "metadata": {
    "collapsed": false,
    "pycharm": {
     "name": "#%%\n"
    }
   }
  },
  {
   "cell_type": "markdown",
   "source": [
    "#then we chose which features to focus on\n",
    "data_train_focus = data_train[['windows_street','stories','parking', 'new','district', 'elevator_without','condition','floor','high_up','district_price','radius','rooms','area_total']]\n",
    "data_test_focus = data_test[['windows_street','stories','parking', 'new','district', 'elevator_without','condition','floor' ,'high_up','district_price','radius','rooms','area_total']]\n",
    "\n",
    "#try with fewer attributes\n",
    "data_train_focus = data_train[['windows_street','stories','parking', 'new','district', 'elevator_without','condition','floor','high_up','district_price','radius','rooms','area_total']]\n",
    "data_test_focus = data_test[['windows_street','stories','parking', 'new','district', 'elevator_without','condition','floor' ,'high_up','district_price','radius','rooms','area_total']]\n",
    "\n",
    "\n",
    "data_test_focus.info()\n",
    "data_train_focus.info()\n",
    "\n",
    "#determine which features is categorical\n",
    "catergorical = ['parking', 'new', 'condition']\n",
    "#'area_kitchen','area_living','bathrooms_shared','bathrooms_private','balconies','loggias'\n",
    "\n",
    "#lets make the lightgbm model\n",
    "\n",
    "#frist we should test it on the training set:\n",
    "X_train, X_test, y_train, y_test = train_test_split(data_train_focus, Y, test_size=0.2, random_state=42)\n",
    "\n",
    "lightGBM_model = lgb.LGBMRegressor(\n",
    "    categorical_feature=(0,1,2,3,4,5,6,7),\n",
    "    num_leaves=256,\n",
    "    max_depth=8,\n",
    "    random_state=42,\n",
    "    metric='rmsle',\n",
    "    num_iterations=2000,\n",
    "    learning_rate=0.09,\n",
    "    bagging_freq = 5,\n",
    "    bagging_fraction = 0.8)"
   ],
   "metadata": {
    "collapsed": false,
    "pycharm": {
     "name": "#%% md\n"
    }
   }
  },
  {
   "cell_type": "markdown",
   "source": [
    "lightGBM_model.fit(X_train,y_train,categorical_feature=(0,1,2,3,4,5,6,7))\n",
    "result = lightGBM_model.predict(X_test)\n",
    "\n",
    "lgb.plot_importance(lightGBM_model)"
   ],
   "metadata": {
    "collapsed": false,
    "pycharm": {
     "name": "#%% md\n"
    }
   }
  },
  {
   "cell_type": "markdown",
   "source": [
    "prediction = result.copy()\n",
    "\n",
    "count = 0\n",
    "for i in prediction:\n",
    "    if i < 0:\n",
    "        print('predicted price: ',i, '\\nreal price: ',data_train.loc[[count]].price, '\\nmean_price: ',prediction.mean() )\n",
    "        prediction[count] = prediction.mean()\n",
    "        print(data_train.loc[[count]])\n",
    "    count += 1\n",
    "\n",
    "rmsle = root_mean_squared_log_error(y_test,prediction)\n",
    "print(\"first run\", rmsle)"
   ],
   "metadata": {
    "collapsed": false,
    "pycharm": {
     "name": "#%% md\n"
    }
   }
  },
  {
   "cell_type": "markdown",
   "source": [
    "prediction = result.copy()\n",
    "\n",
    "lightGBM_model.fit(data_train_focus,Y,categorical_feature=(0,1,2,3,4,5,6,7))\n",
    "prediction = lightGBM_model.predict(data_test_focus)\n",
    "\n",
    "lgb.plot_importance(lightGBM_model)\n",
    "\n",
    "count = 0\n",
    "for i in prediction:\n",
    "    if i < 0:\n",
    "        print('predicted price: ',i, '\\nmean_price: ',prediction.mean() )\n",
    "        prediction[count] = prediction.mean()\n",
    "        print(data_test_focus.loc[[count]])\n",
    "    count += 1\n",
    "\n",
    "submission = pd.DataFrame()\n",
    "submission['id'] = test_id\n",
    "submission['price_prediction'] = prediction\n",
    "\n",
    "submission.to_csv('submission_lightGBM_EDA.csv', index= False)"
   ],
   "metadata": {
    "collapsed": false,
    "pycharm": {
     "name": "#%% md\n"
    }
   }
  },
  {
   "cell_type": "code",
   "execution_count": 13,
   "outputs": [
    {
     "name": "stdout",
     "output_type": "stream",
     "text": [
      "<class 'pandas.core.frame.DataFrame'>\n",
      "RangeIndex: 9937 entries, 0 to 9936\n",
      "Data columns (total 10 columns):\n",
      " #   Column       Non-Null Count  Dtype  \n",
      "---  ------       --------------  -----  \n",
      " 0   district     9912 non-null   float64\n",
      " 1   condition    5978 non-null   float64\n",
      " 2   floor        9937 non-null   float64\n",
      " 3   high_up      9937 non-null   float64\n",
      " 4   rooms        9937 non-null   float64\n",
      " 5   area_total   9937 non-null   float64\n",
      " 6   constructed  9563 non-null   float64\n",
      " 7   parking      7070 non-null   float64\n",
      " 8   new          9828 non-null   float64\n",
      " 9   radius       9937 non-null   float64\n",
      "dtypes: float64(10)\n",
      "memory usage: 776.5 KB\n",
      "<class 'pandas.core.frame.DataFrame'>\n",
      "RangeIndex: 9937 entries, 0 to 9936\n",
      "Data columns (total 10 columns):\n",
      " #   Column       Non-Null Count  Dtype  \n",
      "---  ------       --------------  -----  \n",
      " 0   district     9912 non-null   float64\n",
      " 1   condition    5978 non-null   float64\n",
      " 2   floor        9937 non-null   float64\n",
      " 3   high_up      9937 non-null   float64\n",
      " 4   rooms        9937 non-null   float64\n",
      " 5   area_total   9937 non-null   float64\n",
      " 6   constructed  9563 non-null   float64\n",
      " 7   parking      7070 non-null   float64\n",
      " 8   new          9828 non-null   float64\n",
      " 9   radius       9937 non-null   float64\n",
      "dtypes: float64(10)\n",
      "memory usage: 776.5 KB\n"
     ]
    }
   ],
   "source": [
    "#import synthetical data\n",
    "synthethic_data = pd.read_csv('min_data_syntetisk_2.csv')\n",
    "synthethic_data = synthethic_data.replace('*',float('NaN'))\n",
    "\n",
    "synthethic_data = synthethic_data.astype(float)\n",
    "synthethic_data['high_up'] = synthethic_data.floor/data_train.stories\n",
    "synthethic_data['high_up'].where(data_train['high_up'] > 1, 1)\n",
    "\n",
    "#try with fewer attributes\n",
    "#best so far\n",
    "data_train_focus = data_train[['district','condition','floor','high_up','rooms','area_total','constructed','parking','new','radius']]\n",
    "data_test_focus = data_test[['district','condition','floor','high_up','rooms','area_total','constructed','parking','new','radius']]\n",
    "\n",
    "#data to be merged with synthehtic\n",
    "#all_data = pd.concat([data_train,synthethic_data])\n",
    "#all_data.info()\n",
    "#Y = all_data.price\n",
    "\n",
    "#all_data_focus = data_train[['area_total','floor','rooms','radius','new','district','high_up']]\n",
    "#data_test_focus = data_test[['area_total','floor','rooms','radius','new','district','high_up']]\n",
    "\n",
    "\n",
    "data_test_focus.info()\n",
    "data_test_focus.info()\n",
    "\n",
    "#determine which features is categorical\n",
    "catergorical = ['parking', 'new', 'condition']\n",
    "#'area_kitchen','area_living','bathrooms_shared','bathrooms_private','balconies','loggias'\n",
    "\n",
    "#lets make the lightgbm model\n",
    "\n",
    "#frist we should test it on the training set:\n",
    "X_train, X_test, y_train, y_test = train_test_split(data_train_focus,Y, test_size=0.2, random_state=42)\n",
    "\n",
    "lightGBM_model = lgb.LGBMRegressor(\n",
    "    categorical_feature=(0,1,2,8,6,7),\n",
    "    num_leaves=256,\n",
    "    max_depth=8,\n",
    "    random_state=42,\n",
    "    metric='rmsle',\n",
    "    num_iterations=1000,\n",
    "    learning_rate=0.09,\n",
    "    bagging_freq = 5,\n",
    "    bagging_fraction = 0.8)"
   ],
   "metadata": {
    "collapsed": false,
    "pycharm": {
     "name": "#%%\n"
    }
   }
  },
  {
   "cell_type": "code",
   "execution_count": 14,
   "outputs": [
    {
     "name": "stdout",
     "output_type": "stream",
     "text": [
      "[LightGBM] [Warning] bagging_fraction is set=0.8, subsample=1.0 will be ignored. Current value: bagging_fraction=0.8\n",
      "[LightGBM] [Warning] bagging_freq is set=5, subsample_freq=0 will be ignored. Current value: bagging_freq=5\n"
     ]
    },
    {
     "name": "stderr",
     "output_type": "stream",
     "text": [
      "C:\\Users\\Styrk\\AppData\\Local\\Programs\\Python\\Python39\\lib\\site-packages\\lightgbm\\engine.py:148: UserWarning: Found `num_iterations` in params. Will use it instead of argument\n",
      "  _log_warning(\"Found `{}` in params. Will use it instead of argument\".format(alias))\n",
      "C:\\Users\\Styrk\\AppData\\Local\\Programs\\Python\\Python39\\lib\\site-packages\\lightgbm\\basic.py:1702: UserWarning: Using categorical_feature in Dataset.\n",
      "  _log_warning('Using categorical_feature in Dataset.')\n",
      "C:\\Users\\Styrk\\AppData\\Local\\Programs\\Python\\Python39\\lib\\site-packages\\lightgbm\\basic.py:1222: UserWarning: categorical_feature keyword has been found in `params` and will be ignored.\n",
      "Please use categorical_feature argument of the Dataset constructor to pass this parameter.\n",
      "  _log_warning('{0} keyword has been found in `params` and will be ignored.\\n'\n",
      "C:\\Users\\Styrk\\AppData\\Local\\Programs\\Python\\Python39\\lib\\site-packages\\lightgbm\\basic.py:1245: UserWarning: categorical_feature in param dict is overridden.\n",
      "  _log_warning('{} in param dict is overridden.'.format(cat_alias))\n"
     ]
    },
    {
     "data": {
      "text/plain": "<AxesSubplot:title={'center':'Feature importance'}, xlabel='Feature importance', ylabel='Features'>"
     },
     "execution_count": 14,
     "metadata": {},
     "output_type": "execute_result"
    },
    {
     "data": {
      "text/plain": "<Figure size 432x288 with 1 Axes>",
      "image/png": "[encoded data removed]"
     },
     "metadata": {
      "needs_background": "light"
     },
     "output_type": "display_data"
    }
   ],
   "source": [
    "lightGBM_model.fit(X_train,np.log(y_train)/np.log(15),categorical_feature=(0,1,2,8,6,7))\n",
    "result = lightGBM_model.predict(X_test)\n",
    "\n",
    "lgb.plot_importance(lightGBM_model)"
   ],
   "metadata": {
    "collapsed": false,
    "pycharm": {
     "name": "#%%\n"
    }
   }
  },
  {
   "cell_type": "code",
   "execution_count": 15,
   "outputs": [
    {
     "name": "stdout",
     "output_type": "stream",
     "text": [
      "first run 0.14976063678394227\n"
     ]
    }
   ],
   "source": [
    "prediction = result.copy()\n",
    "\n",
    "count = 0\n",
    "for i in prediction:\n",
    "    if i < 0:\n",
    "        print('predicted price: ',i, '\\nreal price: ',data_train.loc[[count]].price, '\\nmean_price: ',prediction.mean() )\n",
    "        prediction[count] = prediction.mean()\n",
    "        print(data_train.loc[[count]])\n",
    "    count += 1\n",
    "\n",
    "rmsle = root_mean_squared_log_error(y_test,15**prediction)\n",
    "print(\"first run\", rmsle)"
   ],
   "metadata": {
    "collapsed": false,
    "pycharm": {
     "name": "#%%\n"
    }
   }
  },
  {
   "cell_type": "code",
   "execution_count": 16,
   "outputs": [
    {
     "name": "stdout",
     "output_type": "stream",
     "text": [
      "[LightGBM] [Warning] bagging_fraction is set=0.8, subsample=1.0 will be ignored. Current value: bagging_fraction=0.8\n",
      "[LightGBM] [Warning] bagging_freq is set=5, subsample_freq=0 will be ignored. Current value: bagging_freq=5\n"
     ]
    },
    {
     "data": {
      "text/plain": "<Figure size 432x288 with 1 Axes>",
      "image/png": "[encoded data removed]"
     },
     "metadata": {
      "needs_background": "light"
     },
     "output_type": "display_data"
    }
   ],
   "source": [
    "prediction = result.copy()\n",
    "\n",
    "lightGBM_model.fit(data_train_focus,np.log10(Y),categorical_feature=(0,1,2,8,9,7))\n",
    "prediction = lightGBM_model.predict(data_test_focus)\n",
    "\n",
    "lgb.plot_importance(lightGBM_model)\n",
    "\n",
    "count = 0\n",
    "for i in prediction:\n",
    "    if i < 0:\n",
    "        print('predicted price: ',i, '\\nmean_price: ',prediction.mean() )\n",
    "        prediction[count] = prediction.mean()\n",
    "        print(data_test_focus.loc[[count]])\n",
    "    count += 1\n",
    "\n",
    "submission = pd.DataFrame()\n",
    "submission['id'] = test_id\n",
    "submission['price_prediction'] = 10**prediction\n",
    "\n",
    "submission.to_csv('submission_lightGBM_EDA.csv', index= False)"
   ],
   "metadata": {
    "collapsed": false,
    "pycharm": {
     "name": "#%%\n"
    }
   }
  }
 ],
 "metadata": {
  "kernelspec": {
   "display_name": "Python 3",
   "language": "python",
   "name": "python3"
  },
  "language_info": {
   "codemirror_mode": {
    "name": "ipython",
    "version": 2
   },
   "file_extension": ".py",
   "mimetype": "text/x-python",
   "name": "python",
   "nbconvert_exporter": "python",
   "pygments_lexer": "ipython2",
   "version": "2.7.6"
  }
 },
 "nbformat": 4,
 "nbformat_minor": 0
}