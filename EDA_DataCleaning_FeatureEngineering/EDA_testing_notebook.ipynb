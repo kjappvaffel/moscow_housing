{
 "cells": [
  {
   "cell_type": "markdown",
   "metadata": {
    "collapsed": true,
    "pycharm": {
     "name": "#%% md\n"
    }
   },
   "source": [
    "In this notebook i will start testing some of teh discoveries that i made in the EDA\n",
    "For my first prediciton I will apply these ideas:\n",
    "- District_price is a good feature\n",
    "- Building_id is good ofr traning set, but not for test\n",
    "- Lets just leave most missing values and let lightGBM use them\n",
    "- Categorical features will be dealt with through lightGBM\n",
    "- Will do one prediciton focusing on few, but important features\n",
    "- And one with more features\n",
    "- remove outliers from training data"
   ]
  },
  {
   "cell_type": "code",
   "execution_count": 92,
   "outputs": [],
   "source": [
    "from sklearn.model_selection import train_test_split\n",
    "#imports\n",
    "import numpy as np\n",
    "import pandas as pd\n",
    "import seaborn as sns\n",
    "import matplotlib.pyplot as plt\n",
    "import string\n",
    "from sklearn.preprocessing import OneHotEncoder, LabelEncoder, StandardScaler\n",
    "from moscow_housing.display_data import import_data\n",
    "import lightgbm as lgb\n",
    "\n",
    "\n",
    "def one_hot_encode_multiple(df, list_of_columns):\n",
    "    \"\"\"takes in multiple columns and runs one hot encode for each column\"\"\"\n",
    "    for column_to_encode in list_of_columns:\n",
    "        print(column_to_encode)\n",
    "        df = one_hot_encode(df, column_to_encode)\n",
    "    return df\n",
    "\n",
    "def one_hot_encode(df, column_to_encode):\n",
    "    \"\"\"one hots encode for one singel column\"\"\"\n",
    "    encoded_df = pd.get_dummies(df[[column_to_encode]].astype(str))\n",
    "    print(encoded_df.info())\n",
    "    df = pd.concat([df,encoded_df],axis=1)\n",
    "    return df\n",
    "\n",
    "def add_high_up(df):\n",
    "    \"\"\"add exponetital function to determine how high up a building is\"\"\"\n",
    "    high_up = df.floor/df.stories\n",
    "    high_up_exp = np.exp(high_up) - 1\n",
    "    euler = np.exp(1)\n",
    "\n",
    "    df['high_up'] = high_up_exp\n",
    "    df['high_up'].where(df['high_up'] > euler, euler)\n",
    "\n",
    "\n",
    "    return df\n",
    "\n",
    "\n",
    "def add_radius(df):\n",
    "    \"\"\"adds radius column to dataframe\"\"\"\n",
    "    df['radius'] = np.sqrt((df['latitude']-55.75)**2 + (df['longitude']-37.56)**2)\n",
    "\n",
    "    return df\n",
    "\n",
    "def add_direction(df):\n",
    "    \"\"\"adds direction to dataframe, can be one of eight categories (N,S,W,E)\"\"\"\n",
    "    #straight up (north)\n",
    "    normal_vector = np.array([0,1])\n",
    "    #normal_vector = np.tile(normal_vector,(df.shape[0],1))\n",
    "    #normal_vector = normal_vector.reshape((2,-df.shape[0]))\n",
    "    temp = pd.DataFrame()\n",
    "    temp['latitude'] = df['latitude']-55.75\n",
    "    temp['longitude'] = df['longitude']-37.56\n",
    "\n",
    "\n",
    "    apartment_vector = temp[['latitude','longitude']].to_numpy()\n",
    "\n",
    "\n",
    "    #print(np.shape(apartment_vector), np.shape(normal_vector))\n",
    "    angles = []\n",
    "    for vector in apartment_vector:\n",
    "        if vector[0] < 0:\n",
    "            temp_angle = -angle_between(vector,normal_vector)\n",
    "        else:\n",
    "            temp_angle = angle_between(vector,normal_vector)\n",
    "        angles.append(temp_angle)\n",
    "\n",
    "    angles = [element * 10 for element in angles]\n",
    "\n",
    "\n",
    "    angles_series = pd.Series(np.array(angles))\n",
    "\n",
    "    df['direction'] = angles_series\n",
    "    max = df.direction.max().round()\n",
    "    min = df.direction.min().round()\n",
    "\n",
    "    bins = [min,min*7/8,min*5/8,min*3/8,min/8,max/8,max*3/8,max*5/8,max*7/8,max]\n",
    "    rounded_bins = [element.round() for element in bins]\n",
    "    #print(rounded_bins)\n",
    "\n",
    "    direction = pd.cut(df.direction, bins= rounded_bins,labels=['S','SW','W','NW','N','NE','E','SE','S'],ordered=False)\n",
    "    df['direction'] = direction\n",
    "    return df\n",
    "\n",
    "def unit_vector(vector):\n",
    "    \"\"\"returns the unit vector if the vector\"\"\"\n",
    "    return vector/np.linalg.norm(vector)\n",
    "\n",
    "def angle_between(v1,v2):\n",
    "    \"\"\"returns angle between two vectors in radian\"\"\"\n",
    "    v1_u = unit_vector(v1)\n",
    "    v2_u = unit_vector(v2)\n",
    "    return np.arccos(np.clip(np.dot(v1_u,v2_u),-1,1))\n",
    "\n",
    "def pair_plot(df, columns):\n",
    "    #plots a pairplot with the sns libary\n",
    "    sns.pairplot(df[columns],\n",
    "    plot_kws={'alpha': 0.6},\n",
    "    diag_kws={'bins': 30})\n",
    "\n",
    "def plot_correlation(df):\n",
    "    #plots correlation in a dataframe\n",
    "    corr = df.corr()\n",
    "    sns.heatmap(\n",
    "    corr,\n",
    "    linewidths=.5,\n",
    "    annot=True,\n",
    "    fmt='.1f'\n",
    "    )\n",
    "\n",
    "def group_by_feature_and_price(df, feature, data_train = pd.DataFrame()):\n",
    "    #makes a new column with the mean price for each group to all rows\n",
    "    if data_train.empty:\n",
    "        grouped = df.groupby([feature])\n",
    "\n",
    "        mean_price = grouped['price'].mean()\n",
    "\n",
    "        df_merged = pd.merge(df,mean_price, on=feature, how='left')\n",
    "\n",
    "        column_name = str(feature + '_price')\n",
    "\n",
    "        df[column_name] = df_merged['price_y']\n",
    "    else:\n",
    "        grouped = data_train.groupby([feature])\n",
    "\n",
    "        mean_price = grouped['price'].mean()\n",
    "\n",
    "        df_merged = pd.merge(df,mean_price, on=feature, how='left')\n",
    "\n",
    "        column_name = str(feature + '_price')\n",
    "\n",
    "        df[column_name] = df_merged['price']\n",
    "    return df\n",
    "\n",
    "def fix_radius(data_test):\n",
    "    \"\"\"should just be called on test data\"\"\"\n",
    "    #fix all radius issues\n",
    "    data_test._set_value(23,'radius',0.203899)\n",
    "    data_test._set_value(90,'radius',0.203899)\n",
    "    data_test._set_value(2511,'radius',0.218159)\n",
    "    data_test._set_value(5090,'radius',0.218159)\n",
    "    data_test._set_value(6959,'radius',0.218159)\n",
    "    data_test._set_value(8596,'radius',0.218159)\n",
    "    data_test._set_value(4719, 'radius',0.19580)\n",
    "    data_test._set_value(9547, 'radius',0.19520)\n",
    "    data_test._set_value(2529, 'radius', np.sqrt((37.464994-37.55)**2+(55.627666-55.75)**2))\n",
    "\n",
    "    return data_test\n",
    "\n",
    "def drop_n_largest(data_train):\n",
    "    \"\"\"drops 4 largest values, should only be called on training set\"\"\"\n",
    "    #drop 4 largest from training data, maybe not samrt, but we will see\n",
    "    data_train.drop([3217,21414,15840,13938])\n",
    "    return data_train\n",
    "\n",
    "def clean_data(all_data):\n",
    "    \"\"\"cleans the data with all the knowledge we have so far\"\"\"\n",
    "\n",
    "\n",
    "    #fix ceiling issues\n",
    "    all_data.loc[all_data['ceiling'] > 50,'ceiling']*=0.01\n",
    "    all_data.loc[all_data['ceiling'] > 25, 'ceiling']*=0.1\n",
    "    all_data.loc[all_data['ceiling'] < 0.5,'ceiling'] = float('NaN')\n",
    "\n",
    "    #fix area_kitchen and area_living issues\n",
    "    all_data['living'] = all_data.area_living/all_data.area_total\n",
    "    all_data['kitchen'] = all_data.area_total/all_data.area_kitchen\n",
    "\n",
    "    all_data.loc[all_data['living'] > 1,'area_living'] = all_data['area_living'] * all_data['area_total']/100\n",
    "    all_data.loc[all_data['living'] > 1,'area_kitchen'] = all_data['area_kitchen'] * all_data['area_total']/100\n",
    "\n",
    "    all_data.loc[all_data.area_living/all_data.area_total > 1, 'area_living'] = float('NaN')\n",
    "\n",
    "    all_data['living'] = all_data.area_living/all_data.area_total\n",
    "    all_data['kitchen'] = all_data.area_kitchen/all_data.area_total\n",
    "\n",
    "    all_data['sum_area'] = all_data.area_living + all_data.area_kitchen\n",
    "    all_data.loc[all_data['sum_area'] == 100, 'area_living'] = all_data['area_living'] * all_data['area_total']/100\n",
    "    all_data.loc[all_data['sum_area'] == 100, 'area_kitchen'] = all_data['area_kitchen'] * all_data['area_total']/100\n",
    "\n",
    "    #this fixed some few rows.\n",
    "    #when printing we see some other very clear \"precentage situations, fixing these\n",
    "    all_data.loc[all_data['sum_area'] == 38.5, 'area_living'] = all_data['area_living'] * all_data['area_total']/100\n",
    "    all_data.loc[all_data['sum_area'] == 38.5, 'area_kitchen'] = all_data['area_kitchen'] * all_data['area_total']/100\n",
    "    all_data.loc[all_data['sum_area'] == 52.7, 'area_living'] = all_data['area_living'] * all_data['area_total']/100\n",
    "    all_data.loc[all_data['sum_area'] == 52.7, 'area_kitchen'] = all_data['area_kitchen'] * all_data['area_total']/100\n",
    "    all_data.loc[all_data['sum_area'] == 71.6, 'area_living'] = all_data['area_living'] * all_data['area_total']/100\n",
    "    all_data.loc[all_data['sum_area'] == 71.6, 'area_kitchen'] = all_data['area_kitchen'] * all_data['area_total']/100\n",
    "    all_data.loc[(all_data['sum_area'] == 80) & (all_data['area_kitchen'] == 20), 'area_living'] = all_data['area_living'] * all_data['area_total']/100\n",
    "    all_data.loc[(all_data['sum_area'] == 80) & (all_data['area_kitchen'] == 20), 'area_kitchen'] = all_data['area_kitchen'] * all_data['area_total']/100\n",
    "    all_data.loc[(all_data['sum_area'] == 80) & (all_data['area_kitchen'] == 15), 'area_living'] = all_data['area_living'] * all_data['area_total']/100\n",
    "    all_data.loc[(all_data['sum_area'] == 80) & (all_data['area_kitchen'] == 15), 'area_kitchen'] = all_data['area_kitchen'] * all_data['area_total']/100\n",
    "    all_data.loc[(all_data['sum_area'] == 80) & (all_data['area_kitchen'] == 10), 'area_living'] = all_data['area_living'] * all_data['area_total']/100\n",
    "    all_data.loc[(all_data['sum_area'] == 80) & (all_data['area_kitchen'] == 10), 'area_kitchen'] = all_data['area_kitchen'] * all_data['area_total']/100\n",
    "    all_data.loc[(all_data['sum_area'] == 80) & (all_data['area_kitchen'] == 30), 'area_living'] = all_data['area_living'] * all_data['area_total']/100\n",
    "    all_data.loc[(all_data['sum_area'] == 80) & (all_data['area_kitchen'] == 30), 'area_kitchen'] = all_data['area_kitchen'] * all_data['area_total']/100\n",
    "    all_data.loc[(all_data['sum_area'] == 90) & (all_data['area_kitchen'] == 10), 'area_living'] = all_data['area_living'] * all_data['area_total']/100\n",
    "    all_data.loc[(all_data['sum_area'] == 90) & (all_data['area_kitchen'] == 10), 'area_kitchen'] = all_data['area_kitchen'] * all_data['area_total']/100\n",
    "    all_data.loc[(all_data['sum_area'] == 90) & (all_data['area_kitchen'] == 15), 'area_living'] = all_data['area_living'] * all_data['area_total']/100\n",
    "    all_data.loc[(all_data['sum_area'] == 90) & (all_data['area_kitchen'] == 15), 'area_kitchen'] = all_data['area_kitchen'] * all_data['area_total']/100\n",
    "    all_data.loc[(all_data['sum_area'] == 90) & (all_data['area_kitchen'] == 20), 'area_living'] = all_data['area_living'] * all_data['area_total']/100\n",
    "    all_data.loc[(all_data['sum_area'] == 90) & (all_data['area_kitchen'] == 20), 'area_kitchen'] = all_data['area_kitchen'] * all_data['area_total']/100\n",
    "    all_data.loc[(all_data['sum_area'] == 90) & (all_data['area_kitchen'] == 25), 'area_living'] = all_data['area_living'] * all_data['area_total']/100\n",
    "    all_data.loc[(all_data['sum_area'] == 90) & (all_data['area_kitchen'] == 25), 'area_kitchen'] = all_data['area_kitchen'] * all_data['area_total']/100\n",
    "    all_data.loc[(all_data['sum_area'] == 90) & (all_data['area_kitchen'] == 30), 'area_living'] = all_data['area_living'] * all_data['area_total']/100\n",
    "    all_data.loc[(all_data['sum_area'] == 90) & (all_data['area_kitchen'] == 30), 'area_kitchen'] = all_data['area_kitchen'] * all_data['area_total']/100\n",
    "    all_data.loc[(all_data['sum_area'] == 90) & (all_data['area_kitchen'] == 50), 'area_living'] = all_data['area_living'] * all_data['area_total']/100\n",
    "    all_data.loc[(all_data['sum_area'] == 90) & (all_data['area_kitchen'] == 50), 'area_kitchen'] = all_data['area_kitchen'] * all_data['area_total']/100\n",
    "    all_data.loc[(all_data['sum_area'] == 60) & (all_data['area_total'] > 120), 'area_living'] = all_data['area_living'] * all_data['area_total']/100\n",
    "    all_data.loc[(all_data['sum_area'] == 60) & (all_data['area_total'] > 120), 'area_kitchen'] = all_data['area_kitchen'] * all_data['area_total']/100\n",
    "    all_data.loc[(all_data['sum_area'] < 70) & (all_data['area_total'] > 120)&(all_data['rooms'] < 3), 'area_living'] = all_data['area_living'] * all_data['area_total']/100\n",
    "    all_data.loc[(all_data['sum_area'] < 70) & (all_data['area_total'] > 120)&(all_data['rooms'] < 3), 'area_kitchen'] = all_data['area_kitchen'] * all_data['area_total']/100\n",
    "\n",
    "    return all_data\n",
    "\n",
    "def root_mean_squared_log_error(y_true, y_pred):\n",
    "    # Alternatively: sklearn.metrics.mean_squared_log_error(y_true, y_pred) ** 0.5\n",
    "    assert (y_true >= 0).all()\n",
    "    assert (y_pred >= 0).all()\n",
    "    log_error = np.log1p(y_pred) - np.log1p(y_true)  # Note: log1p(x) = log(1 + x)\n",
    "    return np.mean(log_error ** 2) ** 0.5\n",
    "\n",
    "\n",
    "#import the data and test data, set y values for both sets\n",
    "data_train, data_test = import_data()\n",
    "Y= data_train.price\n",
    "test_id = data_test.id\n",
    "\n",
    "#lets first add radius\n",
    "data_train = add_radius(data_train)\n",
    "data_test = add_radius(data_test)\n",
    "\n",
    "#lets clean the data\n",
    "data_test = fix_radius(data_test)\n",
    "data_test = clean_data(data_test)\n",
    "data_train = clean_data(data_train)\n",
    "\n",
    "\n",
    "#lets add high up\n",
    "data_train = add_high_up(data_train)\n",
    "data_test = add_high_up(data_test)\n",
    "\n",
    "#lets add direction\n",
    "data_train = add_direction(data_train)\n",
    "data_test = add_direction(data_test)\n",
    "\n",
    "#Then we group by and add district price\n",
    "data_train = group_by_feature_and_price(data_train,'district')\n",
    "data_test = group_by_feature_and_price(data_test, 'district', data_train=data_train)"
   ],
   "metadata": {
    "collapsed": false,
    "pycharm": {
     "name": "#%%\n"
    }
   }
  },
  {
   "cell_type": "markdown",
   "source": [
    "#then we chose which features to focus on\n",
    "data_train_focus = data_train[['windows_street','stories','parking', 'new','district', 'elevator_without','condition','floor','high_up','district_price','radius','rooms','area_total']]\n",
    "data_test_focus = data_test[['windows_street','stories','parking', 'new','district', 'elevator_without','condition','floor' ,'high_up','district_price','radius','rooms','area_total']]\n",
    "\n",
    "#try with fewer attributes\n",
    "data_train_focus = data_train[['windows_street','stories','parking', 'new','district', 'elevator_without','condition','floor','high_up','district_price','radius','rooms','area_total']]\n",
    "data_test_focus = data_test[['windows_street','stories','parking', 'new','district', 'elevator_without','condition','floor' ,'high_up','district_price','radius','rooms','area_total']]\n",
    "\n",
    "\n",
    "data_test_focus.info()\n",
    "data_train_focus.info()\n",
    "\n",
    "#determine which features is categorical\n",
    "catergorical = ['parking', 'new', 'condition']\n",
    "#'area_kitchen','area_living','bathrooms_shared','bathrooms_private','balconies','loggias'\n",
    "\n",
    "#lets make the lightgbm model\n",
    "\n",
    "#frist we should test it on the training set:\n",
    "X_train, X_test, y_train, y_test = train_test_split(data_train_focus, Y, test_size=0.2, random_state=42)\n",
    "\n",
    "lightGBM_model = lgb.LGBMRegressor(\n",
    "    categorical_feature=(0,1,2,3,4,5,6,7),\n",
    "    num_leaves=256,\n",
    "    max_depth=8,\n",
    "    random_state=42,\n",
    "    metric='rmsle',\n",
    "    num_iterations=2000,\n",
    "    learning_rate=0.09,\n",
    "    bagging_freq = 5,\n",
    "    bagging_fraction = 0.8)"
   ],
   "metadata": {
    "collapsed": false,
    "pycharm": {
     "name": "#%% md\n"
    }
   }
  },
  {
   "cell_type": "markdown",
   "source": [
    "lightGBM_model.fit(X_train,y_train,categorical_feature=(0,1,2,3,4,5,6,7))\n",
    "result = lightGBM_model.predict(X_test)\n",
    "\n",
    "lgb.plot_importance(lightGBM_model)"
   ],
   "metadata": {
    "collapsed": false,
    "pycharm": {
     "name": "#%% md\n"
    }
   }
  },
  {
   "cell_type": "markdown",
   "source": [
    "prediction = result.copy()\n",
    "\n",
    "count = 0\n",
    "for i in prediction:\n",
    "    if i < 0:\n",
    "        print('predicted price: ',i, '\\nreal price: ',data_train.loc[[count]].price, '\\nmean_price: ',prediction.mean() )\n",
    "        prediction[count] = prediction.mean()\n",
    "        print(data_train.loc[[count]])\n",
    "    count += 1\n",
    "\n",
    "rmsle = root_mean_squared_log_error(y_test,prediction)\n",
    "print(\"first run\", rmsle)"
   ],
   "metadata": {
    "collapsed": false,
    "pycharm": {
     "name": "#%% md\n"
    }
   }
  },
  {
   "cell_type": "markdown",
   "source": [
    "prediction = result.copy()\n",
    "\n",
    "lightGBM_model.fit(data_train_focus,Y,categorical_feature=(0,1,2,3,4,5,6,7))\n",
    "prediction = lightGBM_model.predict(data_test_focus)\n",
    "\n",
    "lgb.plot_importance(lightGBM_model)\n",
    "\n",
    "count = 0\n",
    "for i in prediction:\n",
    "    if i < 0:\n",
    "        print('predicted price: ',i, '\\nmean_price: ',prediction.mean() )\n",
    "        prediction[count] = prediction.mean()\n",
    "        print(data_test_focus.loc[[count]])\n",
    "    count += 1\n",
    "\n",
    "submission = pd.DataFrame()\n",
    "submission['id'] = test_id\n",
    "submission['price_prediction'] = prediction\n",
    "\n",
    "submission.to_csv('submission_lightGBM_EDA.csv', index= False)"
   ],
   "metadata": {
    "collapsed": false,
    "pycharm": {
     "name": "#%% md\n"
    }
   }
  },
  {
   "cell_type": "code",
   "execution_count": 93,
   "outputs": [
    {
     "name": "stdout",
     "output_type": "stream",
     "text": [
      "<class 'pandas.core.frame.DataFrame'>\n",
      "RangeIndex: 9937 entries, 0 to 9936\n",
      "Data columns (total 19 columns):\n",
      " #   Column            Non-Null Count  Dtype   \n",
      "---  ------            --------------  -----   \n",
      " 0   seller            5995 non-null   float64 \n",
      " 1   material          8266 non-null   float64 \n",
      " 2   district          9912 non-null   float64 \n",
      " 3   condition         5978 non-null   float64 \n",
      " 4   parking           7070 non-null   float64 \n",
      " 5   new               9828 non-null   float64 \n",
      " 6   direction         9872 non-null   category\n",
      " 7   constructed       9563 non-null   float64 \n",
      " 8   elevator_without  9757 non-null   float64 \n",
      " 9   garbage_chute     6511 non-null   float64 \n",
      " 10  loggias           5102 non-null   float64 \n",
      " 11  layout            2569 non-null   float64 \n",
      " 12  balconies         5102 non-null   float64 \n",
      " 13  floor             9937 non-null   float64 \n",
      " 14  high_up           9937 non-null   float64 \n",
      " 15  rooms             9937 non-null   float64 \n",
      " 16  area_total        9937 non-null   float64 \n",
      " 17  radius            9937 non-null   float64 \n",
      " 18  ceiling           4896 non-null   float64 \n",
      "dtypes: category(1), float64(18)\n",
      "memory usage: 1.4 MB\n",
      "<class 'pandas.core.frame.DataFrame'>\n",
      "RangeIndex: 9937 entries, 0 to 9936\n",
      "Data columns (total 19 columns):\n",
      " #   Column            Non-Null Count  Dtype   \n",
      "---  ------            --------------  -----   \n",
      " 0   seller            5995 non-null   float64 \n",
      " 1   material          8266 non-null   float64 \n",
      " 2   district          9912 non-null   float64 \n",
      " 3   condition         5978 non-null   float64 \n",
      " 4   parking           7070 non-null   float64 \n",
      " 5   new               9828 non-null   float64 \n",
      " 6   direction         9872 non-null   category\n",
      " 7   constructed       9563 non-null   float64 \n",
      " 8   elevator_without  9757 non-null   float64 \n",
      " 9   garbage_chute     6511 non-null   float64 \n",
      " 10  loggias           5102 non-null   float64 \n",
      " 11  layout            2569 non-null   float64 \n",
      " 12  balconies         5102 non-null   float64 \n",
      " 13  floor             9937 non-null   float64 \n",
      " 14  high_up           9937 non-null   float64 \n",
      " 15  rooms             9937 non-null   float64 \n",
      " 16  area_total        9937 non-null   float64 \n",
      " 17  radius            9937 non-null   float64 \n",
      " 18  ceiling           4896 non-null   float64 \n",
      "dtypes: category(1), float64(18)\n",
      "memory usage: 1.4 MB\n"
     ]
    }
   ],
   "source": [
    "#try with fewer attributes\n",
    "#best so far\n",
    "data_train_focus = data_train[['seller','material','district','condition','parking','new','direction','constructed','elevator_without','garbage_chute','loggias','layout','balconies','floor','high_up','rooms','area_total','radius','ceiling']]\n",
    "data_test_focus = data_test[['seller','material','district','condition','parking','new','direction','constructed','elevator_without','garbage_chute','loggias','layout','balconies','floor','high_up','rooms','area_total','radius','ceiling']]\n",
    "\n",
    "#all_data_focus = data_train[['area_total','floor','rooms','radius','new','district','high_up']]\n",
    "#data_test_focus = data_test[['area_total','floor','rooms','radius','new','district','high_up']]\n",
    "\n",
    "\n",
    "#data_test_focus.info()\n",
    "#data_test_focus.info()\n",
    "\n",
    "#determine which features is categorical\n",
    "#catergorical = ['parking', 'new', 'condition']\n",
    "#'area_kitchen','area_living','bathrooms_shared','bathrooms_private','balconies','loggias'\n",
    "\n",
    "#lets make the lightgbm model\n",
    "\n",
    "#frist we should test it on the training set:\n",
    "X_train, X_test, y_train, y_test = train_test_split(data_train_focus,Y, test_size=0.2, random_state=42)\n",
    "\n",
    "lightGBM_model = lgb.LGBMRegressor(\n",
    "    categorical_feature=(0,1,2,3,4,5,6,7,8,9,10,11,12),\n",
    "    num_leaves=9**2,\n",
    "    max_depth=9,\n",
    "    random_state=42,\n",
    "    metric='rmsle',\n",
    "    num_iterations=1000,\n",
    "    learning_rate=0.09,\n",
    "    bagging_freq = 5,\n",
    "    bagging_fraction = 0.8)"
   ],
   "metadata": {
    "collapsed": false,
    "pycharm": {
     "name": "#%%\n"
    }
   }
  },
  {
   "cell_type": "code",
   "execution_count": 94,
   "outputs": [
    {
     "name": "stdout",
     "output_type": "stream",
     "text": [
      "[LightGBM] [Warning] bagging_fraction is set=0.8, subsample=1.0 will be ignored. Current value: bagging_fraction=0.8\n",
      "[LightGBM] [Warning] bagging_freq is set=5, subsample_freq=0 will be ignored. Current value: bagging_freq=5\n"
     ]
    },
    {
     "data": {
      "text/plain": "<AxesSubplot:title={'center':'Feature importance'}, xlabel='Feature importance', ylabel='Features'>"
     },
     "execution_count": 94,
     "metadata": {},
     "output_type": "execute_result"
    },
    {
     "data": {
      "text/plain": "<Figure size 432x288 with 1 Axes>",
      "image/png": "[encoded data removed]"
     },
     "metadata": {
      "needs_background": "light"
     },
     "output_type": "display_data"
    }
   ],
   "source": [
    "lightGBM_model.fit(X_train,np.log(y_train)/np.log(15),categorical_feature=(0,1,2,3,4,5,6,7,8,9,10,11,12))\n",
    "result = lightGBM_model.predict(X_test)\n",
    "\n",
    "lgb.plot_importance(lightGBM_model)"
   ],
   "metadata": {
    "collapsed": false,
    "pycharm": {
     "name": "#%%\n"
    }
   }
  },
  {
   "cell_type": "code",
   "execution_count": 95,
   "outputs": [
    {
     "name": "stdout",
     "output_type": "stream",
     "text": [
      "first run 0.13924505694299497\n"
     ]
    }
   ],
   "source": [
    "prediction = result.copy()\n",
    "\n",
    "count = 0\n",
    "for i in prediction:\n",
    "    if i < 0:\n",
    "        print('predicted price: ',i, '\\nreal price: ',data_train.loc[[count]].price, '\\nmean_price: ',prediction.mean() )\n",
    "        prediction[count] = prediction.mean()\n",
    "        print(data_train.loc[[count]])\n",
    "    count += 1\n",
    "\n",
    "rmsle = root_mean_squared_log_error(y_test,15**prediction)\n",
    "print(\"first run\", rmsle)"
   ],
   "metadata": {
    "collapsed": false,
    "pycharm": {
     "name": "#%%\n"
    }
   }
  },
  {
   "cell_type": "code",
   "execution_count": 96,
   "outputs": [
    {
     "name": "stdout",
     "output_type": "stream",
     "text": [
      "[LightGBM] [Warning] bagging_fraction is set=0.8, subsample=1.0 will be ignored. Current value: bagging_fraction=0.8\n",
      "[LightGBM] [Warning] bagging_freq is set=5, subsample_freq=0 will be ignored. Current value: bagging_freq=5\n"
     ]
    },
    {
     "data": {
      "text/plain": "<Figure size 432x288 with 1 Axes>",
      "image/png": "[encoded data removed]"
     },
     "metadata": {
      "needs_background": "light"
     },
     "output_type": "display_data"
    }
   ],
   "source": [
    "prediction = result.copy()\n",
    "\n",
    "lightGBM_model.fit(data_train_focus,np.log10(Y),categorical_feature=(0,1,2,3,4))\n",
    "prediction = lightGBM_model.predict(data_test_focus)\n",
    "\n",
    "lgb.plot_importance(lightGBM_model)\n",
    "\n",
    "count = 0\n",
    "for i in prediction:\n",
    "    if i < 0:\n",
    "        print('predicted price: ',i, '\\nmean_price: ',prediction.mean() )\n",
    "        prediction[count] = prediction.mean()\n",
    "        print(data_test_focus.loc[[count]])\n",
    "    count += 1\n",
    "\n",
    "submission = pd.DataFrame()\n",
    "submission['id'] = test_id\n",
    "submission['price_prediction'] = 10**prediction\n",
    "\n",
    "submission.to_csv('submission_lightGBM_EDA.csv', index= False)"
   ],
   "metadata": {
    "collapsed": false,
    "pycharm": {
     "name": "#%%\n"
    }
   }
  },
  {
   "cell_type": "markdown",
   "source": [
    "til eirik\n",
    "\n",
    "data_train_focus = data_train[['seller','material','district','condition','parking','new','direction','constructed','elevator_without','garbage_chute','loggias','layout','balconies','floor','high_up','rooms','area_total','radius','ceiling']]\n",
    "data_test_focus = data_test[['seller','material','district','condition','parking','new','direction','constructed','elevator_without','garbage_chute','loggias','layout','balconies','floor','high_up','rooms','area_total','radius','ceiling']]\n",
    "\n",
    "lightGBM_model = lgb.LGBMRegressor(\n",
    "    categorical_feature=(0,1,2,3,4,5,6,7,8,9,10,11,12),\n",
    "    num_leaves=9**2,\n",
    "    max_depth=9,\n",
    "    random_state=42,\n",
    "    metric='rmsle',\n",
    "    num_iterations=1000,\n",
    "    learning_rate=0.09,\n",
    "    bagging_freq = 5,\n",
    "    bagging_fraction = 0.8)\n",
    "\n",
    "lightGBM_model.fit(X_train,np.log(y_train)/np.log(15),categorical_feature=(0,1,2,3,4,5,6,7,8,9,10,11,12))\n",
    "result = lightGBM_model.predict(X_test)\n",
    "\n",
    "lgb.plot_importance(lightGBM_model)"
   ],
   "metadata": {
    "collapsed": false,
    "pycharm": {
     "name": "#%% md\n"
    }
   }
  }
 ],
 "metadata": {
  "kernelspec": {
   "display_name": "Python 3",
   "language": "python",
   "name": "python3"
  },
  "language_info": {
   "codemirror_mode": {
    "name": "ipython",
    "version": 2
   },
   "file_extension": ".py",
   "mimetype": "text/x-python",
   "name": "python",
   "nbconvert_exporter": "python",
   "pygments_lexer": "ipython2",
   "version": "2.7.6"
  }
 },
 "nbformat": 4,
 "nbformat_minor": 0
}