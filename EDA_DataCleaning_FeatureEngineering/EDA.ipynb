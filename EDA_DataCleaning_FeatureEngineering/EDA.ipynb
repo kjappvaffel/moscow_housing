{
 "cells": [
  {
   "cell_type": "code",
   "execution_count": null,
   "metadata": {},
   "outputs": [],
   "source": [
    "import csv\n",
    "\n",
    "import numpy\n",
    "import numpy as np\n",
    "import pandas as pd\n",
    "import seaborn as sns\n",
    "import matplotlib.pyplot as plt\n",
    "import sklearn as skl\n",
    "import string\n",
    "from sklearn.preprocessing import OneHotEncoder, LabelEncoder, StandardScaler\n",
    "from moscow_housing.display_data import import_data\n",
    "\n",
    "plt.style.use('ggplot')\n",
    "%matplotlib inline"
   ]
  },
  {
   "cell_type": "markdown",
   "metadata": {
    "pycharm": {
     "name": "#%% md\n"
    }
   },
   "source": [
    "In this notebook we will do EDA (explanatory data analysis). We will look at dataset standard statistics, individual feature analysis and finding any relations or trends considering multiple features. As a conlusion we will suggest features which can be added as a result of EDA"
   ]
  },
  {
   "cell_type": "code",
   "execution_count": null,
   "metadata": {
    "pycharm": {
     "name": "#%%\n"
    }
   },
   "outputs": [],
   "source": [
    "#import data\n",
    "data_train, data_test = import_data()\n",
    "\n",
    "#sometimes we have to look at all the data togheter\n",
    "all_data = pd.concat([data_train,data_test],ignore_index=True)\n",
    "\n",
    "all_data.info()"
   ]
  },
  {
   "cell_type": "code",
   "execution_count": null,
   "metadata": {
    "pycharm": {
     "name": "#%%\n"
    }
   },
   "outputs": [],
   "source": [
    "#Now lets look at all the basics of the data\n",
    "print('Number of Training Examples = {}'.format(data_train.shape[0]))\n",
    "print('Number of Test Examples = {}\\n'.format(data_test.shape[0]))\n",
    "print('Training X Shape = {}'.format(data_train.shape))\n",
    "print('Training y Shape = {}\\n'.format(data_train['price'].shape[0]))\n",
    "print('Test X Shape = {}'.format(data_test.shape))\n",
    "print('Test y Shape = {}\\n'.format(data_test.shape[0]))\n",
    "print('Train columns \\n', list(data_train.columns))\n",
    "print('Test columns \\n', list(data_test.columns))\n",
    "\n",
    "#check type of each column, and see how many duplicates we have:\n",
    "for column in data_train.columns:\n",
    "    print('\\n - type of column: ', data_train.dtypes[column],'\\n - number of null values: ', data_train[column].isnull().sum(), '\\n - number of unique inputs: ', data_train[column].value_counts().count(),'\\n', data_train[column].value_counts())\n"
   ]
  },
  {
   "cell_type": "markdown",
   "metadata": {
    "pycharm": {
     "name": "#%% md\n"
    }
   },
   "source": [
    "As we can see, the training and test set have the same number of columns except for price. Lets look at little bit closer at these features.\n",
    "### **Features description**\n",
    "* `id` - Unique ID for apartment\n",
    "    - type of column:  int64\n",
    "    - number of null values:  0\n",
    "    - number of unique inputs:  23285\n",
    "* `seller` - The type of apartment seller\n",
    " - type of column:  float64\n",
    " - number of null values:  8830\n",
    " - number of unique inputs:  4\n",
    "* `price` - The listed price of the apartment (TARGET: only available in train)\n",
    " - type of column:  float64\n",
    " - number of null values:  0\n",
    " - number of unique inputs:  9504\n",
    "* `area_total` - Total area of the apartment\n",
    " - type of column:  float64\n",
    " - number of null values:  0\n",
    " - number of unique inputs:  3249\n",
    "* `area_kitchen` - Total kitchen area in the apartment\n",
    " - type of column:  float64\n",
    " - number of null values:  4721\n",
    " - number of unique inputs:  385\n",
    "* `area_living` - Total living space area in the apartment\n",
    " - type of column:  float64\n",
    " - number of null values:  3882\n",
    " - number of unique inputs:  1041\n",
    "* `floor`- Primary building floor of the apartment\n",
    " - type of column:  float64\n",
    " - number of null values:  0\n",
    " - number of unique inputs:  84\n",
    "* `rooms` - Number of rooms in the apartment\n",
    " - type of column:  float64\n",
    " - number of null values:  0\n",
    " - number of unique inputs:  6\n",
    "* `layout` - Overal apartment layout\n",
    " - type of column:  float64\n",
    " - number of null values:  17642\n",
    " - number of unique inputs:  3\n",
    "* `ceiling` - Ceiling height in the apartment\n",
    " - type of column:  float64\n",
    " - number of null values:  11093\n",
    " - number of unique inputs:  121\n",
    "* `bathrooms_shared` - Number of shared bathrooms\n",
    " - type of column:  float64\n",
    " - number of null values:  3872\n",
    " - number of unique inputs:  5\n",
    "* `bathrooms_private` - Number of private bathrooms\n",
    " - type of column:  float64\n",
    " - number of null values:  3872\n",
    " - number of unique inputs:  5\n",
    "* `windows_court` - Whether the apartment has windows facing a courtyard\n",
    " - type of column:  float64\n",
    " - number of null values:  8072\n",
    " - number of unique inputs:  2\n",
    "* `windows_street` - Whether the apartment has windows facing a street\n",
    " - type of column:  float64\n",
    " - number of null values:  8072\n",
    " - number of unique inputs:  2\n",
    "* `balconies` - Number of balconies in the apartment\n",
    " - type of column:  float64\n",
    " - number of null values:  10520\n",
    " - number of unique inputs:  5\n",
    "* `loggias`- Number of loggias in the apartment (balcony-like, google it)\n",
    " - type of column:  float64\n",
    " - number of null values:  10520\n",
    " - number of unique inputs:  5\n",
    "* `condition` - Current condition of the apartment\n",
    " - type of column:  float64\n",
    " - number of null values:  9810\n",
    " - number of unique inputs:  4\n",
    "* `phones` - Number of phone numbers associated with the advert\n",
    " - type of column:  float64\n",
    " - number of null values:  80\n",
    " - number of unique inputs:  3\n",
    "* `building_id` - ID used to map apartments to buildings\n",
    " - type of column:  int64\n",
    " - number of null values:  0\n",
    " - number of unique inputs:  6791\n",
    "* `new` - Whether it is an old or new building\n",
    " - type of column:  float64\n",
    " - number of null values:  264\n",
    " - number of unique inputs:  2\n",
    "* `latitude` - Latitude coordinate of building\n",
    " - type of column:  float64\n",
    " - number of null values:  0\n",
    " - number of unique inputs:  6208\n",
    "* `longitude` - Longitude coordinate of building\n",
    " - type of column:  float64\n",
    " - number of null values:  0\n",
    " - number of unique inputs:  6159\n",
    "* `district` - Administriative district within Moscow\n",
    " - type of column:  float64\n",
    " - number of null values:  130\n",
    " - number of unique inputs:  12\n",
    "* `street` - Bulding street name\n",
    " - type of column:  object\n",
    " - number of null values:  0\n",
    " - number of unique inputs:  1682\n",
    "* `address` - Building address (within street)\n",
    " - type of column:  object\n",
    " - number of null values:  0\n",
    " - number of unique inputs:  1851\n",
    "* `constructed` - Year when the building was constructed\n",
    " - type of column:  float64\n",
    " - number of null values:  794\n",
    " - number of unique inputs:  128\n",
    "* `material` - Primary building material used in building\n",
    " - type of column:  float64\n",
    " - number of null values:  3972\n",
    " - number of unique inputs:  7\n",
    "* `stories` - Total number of floors in the building\n",
    " - type of column:  float64\n",
    " - number of null values:  0\n",
    " - number of unique inputs:  62\n",
    "* `elevator_without` - Whether the building has apartments without elevator access\n",
    " - type of column:  float64\n",
    " - number of null values:  357\n",
    " - number of unique inputs:  2\n",
    "* `elevator_passenger` - Whether the building has apartments with passenger elevator access\n",
    " - type of column:  float64\n",
    " - number of null values:  357\n",
    " - number of unique inputs:  2\n",
    "* `elevator_service` - Whether the building has apartments with service elevator access\n",
    " - type of column:  float64\n",
    " - number of null values:  357\n",
    " - number of unique inputs:  2\n",
    "* `parking` - Parking options for building\n",
    " - type of column:  float64\n",
    " - number of null values:  6788\n",
    " - number of unique inputs:  3\n",
    "* `garbage_chute` - Whether the building has a garbage chute system\n",
    " - type of column:  float64\n",
    " - number of null values:  8811\n",
    " - number of unique inputs:  2\n",
    "* `heating` - Primary heating system used in the building\n",
    " - type of column:  float64\n",
    " - number of null values:  8161\n",
    " - number of unique inputs:  4"
   ]
  },
  {
   "cell_type": "markdown",
   "metadata": {},
   "source": [
    "### **Categorical features**\n",
    "seller, layout, windows_court, windows_street, condition, phones, building_id, new, distircit, street and address, constructed, material, elevator, parking_options, garbage_chute and heating.\n",
    "\n",
    "All of these features will just mislead the model if we put them into it right away. They need to be worked with, and all of them are maybe not that important.\n",
    "For example windows_court, models will not understand that this is actually a binary feature.\n",
    "\n",
    "In lightGBM we can specify which parameters are categorical features, https://lightgbm.readthedocs.io/en/latest/Advanced-Topics.html, for more reading about this topic.\n",
    "Will explore if using this on all features instead of grouping some is more valuable.\n",
    "\n",
    "\n",
    "\n",
    "# **Functions**\n",
    "Lets start by making some of the functions I will use to explore the data."
   ]
  },
  {
   "cell_type": "code",
   "execution_count": null,
   "metadata": {
    "pycharm": {
     "name": "#%%\n"
    }
   },
   "outputs": [],
   "source": [
    "def one_hot_encode_multiple(df, list_of_columns):\n",
    "    \"\"\"takes in multiple columns and runs one hot encode for each column\"\"\"\n",
    "    for column_to_encode in list_of_columns:\n",
    "        print(column_to_encode)\n",
    "        df = one_hot_encode(df, column_to_encode)\n",
    "    return df\n",
    "\n",
    "def one_hot_encode(df, column_to_encode):\n",
    "    \"\"\"one hots encode for one singel column\"\"\"\n",
    "    encoded_df = pd.get_dummies(df[[column_to_encode]].astype(str))\n",
    "    print(encoded_df.info())\n",
    "    df = pd.concat([df,encoded_df],axis=1)\n",
    "    return df\n",
    "\n",
    "def add_high_up(df):\n",
    "    \"\"\"add exponetital function to determine how high up a building is\"\"\"\n",
    "    high_up = df.floor/df.stories\n",
    "    high_up_exp = np.exp(high_up) - 1\n",
    "    euler = np.exp(1)\n",
    "\n",
    "    df['high_up'] = high_up_exp\n",
    "    df['high_up'].where(df['high_up'] > euler, euler)\n",
    "\n",
    "\n",
    "    return df\n",
    "\n",
    "\n",
    "def add_radius(df):\n",
    "    \"\"\"adds radius column to dataframe\"\"\"\n",
    "    df['radius'] = np.sqrt((df['latitude']-55.75)**2 + (df['longitude']-37.56)**2)\n",
    "\n",
    "    return df\n",
    "\n",
    "def add_direction(df):\n",
    "    \"\"\"adds direction to dataframe, can be one of eight categories (N,S,W,E)\"\"\"\n",
    "    #straight up (north)\n",
    "    normal_vector = np.array([0,1])\n",
    "    #normal_vector = np.tile(normal_vector,(df.shape[0],1))\n",
    "    #normal_vector = normal_vector.reshape((2,-df.shape[0]))\n",
    "    temp = pd.DataFrame()\n",
    "    temp['latitude'] = df['latitude']-55.75\n",
    "    temp['longitude'] = df['longitude']-37.56\n",
    "\n",
    "\n",
    "    apartment_vector = temp[['latitude','longitude']].to_numpy()\n",
    "\n",
    "\n",
    "    #print(np.shape(apartment_vector), np.shape(normal_vector))\n",
    "    angles = []\n",
    "    for vector in apartment_vector:\n",
    "        if vector[0] < 0:\n",
    "            temp_angle = -angle_between(vector,normal_vector)\n",
    "        else:\n",
    "            temp_angle = angle_between(vector,normal_vector)\n",
    "        angles.append(temp_angle)\n",
    "\n",
    "    angles = [element * 10 for element in angles]\n",
    "\n",
    "\n",
    "    angles_series = pd.Series(np.array(angles))\n",
    "\n",
    "    df['direction'] = angles_series\n",
    "    max = df.direction.max().round()\n",
    "    min = df.direction.min().round()\n",
    "\n",
    "    bins = [min,min*7/8,min*5/8,min*3/8,min/8,max/8,max*3/8,max*5/8,max*7/8,max]\n",
    "    rounded_bins = [element.round() for element in bins]\n",
    "    #print(rounded_bins)\n",
    "\n",
    "    direction = pd.cut(df.direction, bins= rounded_bins,labels=['S','SW','W','NW','N','NE','E','SE','S'],ordered=False)\n",
    "    df['direction'] = direction\n",
    "    return df\n",
    "\n",
    "def unit_vector(vector):\n",
    "    \"\"\"returns the unit vector if the vector\"\"\"\n",
    "    return vector/np.linalg.norm(vector)\n",
    "\n",
    "def angle_between(v1,v2):\n",
    "    \"\"\"returns angle between two vectors in radian\"\"\"\n",
    "    v1_u = unit_vector(v1)\n",
    "    v2_u = unit_vector(v2)\n",
    "    return np.arccos(np.clip(np.dot(v1_u,v2_u),-1,1))\n",
    "\n",
    "def pair_plot(df, columns):\n",
    "    #plots a pairplot with the sns libary\n",
    "    sns.pairplot(df[columns],\n",
    "    plot_kws={'alpha': 0.6},\n",
    "    diag_kws={'bins': 30})\n",
    "\n",
    "def plot_correlation(df):\n",
    "    #plots correlation in a dataframe\n",
    "    corr = df.corr()\n",
    "    sns.heatmap(\n",
    "    corr,\n",
    "    linewidths=.5,\n",
    "    annot=True,\n",
    "    fmt='.1f'\n",
    "    )\n",
    "\n",
    "def group_by_feature_and_price(df, feature, data_train = pd.DataFrame()):\n",
    "    #makes a new column with the mean price for each group to all rows\n",
    "    if data_train.empty:\n",
    "        grouped = df.groupby([feature])\n",
    "\n",
    "        mean_price = grouped['price'].mean()\n",
    "\n",
    "        df_merged = pd.merge(df,mean_price, on=feature, how='left')\n",
    "\n",
    "        column_name = str(feature + '_price')\n",
    "\n",
    "        df[column_name] = df_merged['price_y']\n",
    "    else:\n",
    "        grouped = data_train.groupby([feature])\n",
    "\n",
    "        mean_price = grouped['price'].mean()\n",
    "\n",
    "        df_merged = pd.merge(df,mean_price, on=feature, how='left')\n",
    "\n",
    "        column_name = str(feature + '_price')\n",
    "\n",
    "        df[column_name] = df_merged['price']\n",
    "    return df\n",
    "\n",
    "def fix_radius(data_test):\n",
    "    \"\"\"should just be called on test data\"\"\"\n",
    "    #fix all radius issues\n",
    "    data_test._set_value(23,'radius',0.203899)\n",
    "    data_test._set_value(90,'radius',0.203899)\n",
    "    data_test._set_value(2511,'radius',0.218159)\n",
    "    data_test._set_value(5090,'radius',0.218159)\n",
    "    data_test._set_value(6959,'radius',0.218159)\n",
    "    data_test._set_value(8596,'radius',0.218159)\n",
    "    data_test._set_value(4719, 'radius',0.19580)\n",
    "    data_test._set_value(9547, 'radius',0.19520)\n",
    "    data_test._set_value(2529, 'radius', np.sqrt((37.464994-37.55)**2+(55.627666-55.75)**2))\n",
    "\n",
    "    return data_test\n",
    "\n",
    "def fix_geo_data(data_test):\n",
    "    \"\"\"should just be called on test data\"\"\"\n",
    "    #fix all radius issues\n",
    "    data_test._set_value(23,'longitude',37.473761)\n",
    "    data_test._set_value(23,'latitude',55.560891)\n",
    "    data_test._set_value(90,'longitude',37.473761)\n",
    "    data_test._set_value(90,'latitude',55.560891)\n",
    "\n",
    "    data_test._set_value(2511,'longitude',37.478055)\n",
    "    data_test._set_value(2511,'latitude',55.544046)\n",
    "    data_test._set_value(5090,'longitude',37.478055)\n",
    "    data_test._set_value(5090,'latitude',55.544046)\n",
    "    data_test._set_value(6959,'longitude',37.478055)\n",
    "    data_test._set_value(6959,'latitude',55.544046)\n",
    "    data_test._set_value(8596,'longitude',37.478055)\n",
    "    data_test._set_value(8596,'latitude',55.544046)\n",
    "\n",
    "    data_test._set_value(4719,'longitude',37.385493)\n",
    "    data_test._set_value(4719,'latitude',55.853117)\n",
    "\n",
    "    data_test._set_value(9547,'longitude',37.384711)\n",
    "    data_test._set_value(9547,'latitude',55.853511)\n",
    "\n",
    "    data_test._set_value(2529,'longitude',37.464994)\n",
    "    data_test._set_value(2529,'latitude',55.627666)\n",
    "\n",
    "    data_test = add_radius(data_test)\n",
    "\n",
    "    return data_test\n",
    "\n",
    "def cluster_geo_data(df,df_test):\n",
    "    from sklearn.cluster import KMeans\n",
    "    k_means = KMeans(n_clusters = 30, max_iter = 1000, init='k-means++')\n",
    "\n",
    "    lat_long_pairs = df[['latitude','longitude']]\n",
    "    lat_long_pairs_test = df_test[['latitude','longitude']]\n",
    "    target_data = np.log(df.price)/np.log(15)\n",
    "\n",
    "    k_means.fit(lat_long_pairs,sample_weight = target_data)\n",
    "    df['cluster_number'] = k_means.predict(lat_long_pairs, sample_weight = target_data)\n",
    "    df_test['cluster_number'] = k_means.predict(lat_long_pairs_test)\n",
    "\n",
    "    return df, df_test\n",
    "\n",
    "\n",
    "def drop_n_largest(data_train):\n",
    "    \"\"\"drops 4 largest values, should only be called on training set\"\"\"\n",
    "    #drop 4 largest from training data, maybe not samrt, but we will see\n",
    "    data_train.drop([3217,21414,15840,13938])\n",
    "\n",
    "def clean_data(all_data):\n",
    "    \"\"\"cleans the data with all the knowledge we have so far\"\"\"\n",
    "\n",
    "\n",
    "    #fix ceiling issues\n",
    "    all_data.loc[all_data['ceiling'] > 50,'ceiling']*=0.01\n",
    "    all_data.loc[all_data['ceiling'] > 25, 'ceiling']*=0.1\n",
    "    all_data.loc[all_data['ceiling'] < 0.5,'ceiling'] = float('NaN')\n",
    "\n",
    "    #fix area_kitchen and area_living issues\n",
    "    all_data['living'] = all_data.area_living/all_data.area_total\n",
    "    all_data['kitchen'] = all_data.area_total/all_data.area_kitchen\n",
    "\n",
    "    all_data.loc[all_data['living'] > 1,'area_living'] = all_data['area_living'] * all_data['area_total']/100\n",
    "    all_data.loc[all_data['living'] > 1,'area_kitchen'] = all_data['area_kitchen'] * all_data['area_total']/100\n",
    "\n",
    "    all_data.loc[all_data.area_living/all_data.area_total > 1, 'area_living'] = float('NaN')\n",
    "\n",
    "    all_data['living'] = all_data.area_living/all_data.area_total\n",
    "    all_data['kitchen'] = all_data.area_kitchen/all_data.area_total\n",
    "\n",
    "    all_data['sum_area'] = all_data.area_living + all_data.area_kitchen\n",
    "    all_data.loc[all_data['sum_area'] == 100, 'area_living'] = all_data['area_living'] * all_data['area_total']/100\n",
    "    all_data.loc[all_data['sum_area'] == 100, 'area_kitchen'] = all_data['area_kitchen'] * all_data['area_total']/100\n",
    "\n",
    "    #this fixed some few rows.\n",
    "    #when printing we see some other very clear \"precentage situations, fixing these\n",
    "    all_data.loc[all_data['sum_area'] == 38.5, 'area_living'] = all_data['area_living'] * all_data['area_total']/100\n",
    "    all_data.loc[all_data['sum_area'] == 38.5, 'area_kitchen'] = all_data['area_kitchen'] * all_data['area_total']/100\n",
    "    all_data.loc[all_data['sum_area'] == 52.7, 'area_living'] = all_data['area_living'] * all_data['area_total']/100\n",
    "    all_data.loc[all_data['sum_area'] == 52.7, 'area_kitchen'] = all_data['area_kitchen'] * all_data['area_total']/100\n",
    "    all_data.loc[all_data['sum_area'] == 71.6, 'area_living'] = all_data['area_living'] * all_data['area_total']/100\n",
    "    all_data.loc[all_data['sum_area'] == 71.6, 'area_kitchen'] = all_data['area_kitchen'] * all_data['area_total']/100\n",
    "    all_data.loc[(all_data['sum_area'] == 80) & (all_data['area_kitchen'] == 20), 'area_living'] = all_data['area_living'] * all_data['area_total']/100\n",
    "    all_data.loc[(all_data['sum_area'] == 80) & (all_data['area_kitchen'] == 20), 'area_kitchen'] = all_data['area_kitchen'] * all_data['area_total']/100\n",
    "    all_data.loc[(all_data['sum_area'] == 80) & (all_data['area_kitchen'] == 15), 'area_living'] = all_data['area_living'] * all_data['area_total']/100\n",
    "    all_data.loc[(all_data['sum_area'] == 80) & (all_data['area_kitchen'] == 15), 'area_kitchen'] = all_data['area_kitchen'] * all_data['area_total']/100\n",
    "    all_data.loc[(all_data['sum_area'] == 80) & (all_data['area_kitchen'] == 10), 'area_living'] = all_data['area_living'] * all_data['area_total']/100\n",
    "    all_data.loc[(all_data['sum_area'] == 80) & (all_data['area_kitchen'] == 10), 'area_kitchen'] = all_data['area_kitchen'] * all_data['area_total']/100\n",
    "    all_data.loc[(all_data['sum_area'] == 80) & (all_data['area_kitchen'] == 30), 'area_living'] = all_data['area_living'] * all_data['area_total']/100\n",
    "    all_data.loc[(all_data['sum_area'] == 80) & (all_data['area_kitchen'] == 30), 'area_kitchen'] = all_data['area_kitchen'] * all_data['area_total']/100\n",
    "    all_data.loc[(all_data['sum_area'] == 90) & (all_data['area_kitchen'] == 10), 'area_living'] = all_data['area_living'] * all_data['area_total']/100\n",
    "    all_data.loc[(all_data['sum_area'] == 90) & (all_data['area_kitchen'] == 10), 'area_kitchen'] = all_data['area_kitchen'] * all_data['area_total']/100\n",
    "    all_data.loc[(all_data['sum_area'] == 90) & (all_data['area_kitchen'] == 15), 'area_living'] = all_data['area_living'] * all_data['area_total']/100\n",
    "    all_data.loc[(all_data['sum_area'] == 90) & (all_data['area_kitchen'] == 15), 'area_kitchen'] = all_data['area_kitchen'] * all_data['area_total']/100\n",
    "    all_data.loc[(all_data['sum_area'] == 90) & (all_data['area_kitchen'] == 20), 'area_living'] = all_data['area_living'] * all_data['area_total']/100\n",
    "    all_data.loc[(all_data['sum_area'] == 90) & (all_data['area_kitchen'] == 20), 'area_kitchen'] = all_data['area_kitchen'] * all_data['area_total']/100\n",
    "    all_data.loc[(all_data['sum_area'] == 90) & (all_data['area_kitchen'] == 25), 'area_living'] = all_data['area_living'] * all_data['area_total']/100\n",
    "    all_data.loc[(all_data['sum_area'] == 90) & (all_data['area_kitchen'] == 25), 'area_kitchen'] = all_data['area_kitchen'] * all_data['area_total']/100\n",
    "    all_data.loc[(all_data['sum_area'] == 90) & (all_data['area_kitchen'] == 30), 'area_living'] = all_data['area_living'] * all_data['area_total']/100\n",
    "    all_data.loc[(all_data['sum_area'] == 90) & (all_data['area_kitchen'] == 30), 'area_kitchen'] = all_data['area_kitchen'] * all_data['area_total']/100\n",
    "    all_data.loc[(all_data['sum_area'] == 90) & (all_data['area_kitchen'] == 50), 'area_living'] = all_data['area_living'] * all_data['area_total']/100\n",
    "    all_data.loc[(all_data['sum_area'] == 90) & (all_data['area_kitchen'] == 50), 'area_kitchen'] = all_data['area_kitchen'] * all_data['area_total']/100\n",
    "    all_data.loc[(all_data['sum_area'] == 60) & (all_data['area_total'] > 120), 'area_living'] = all_data['area_living'] * all_data['area_total']/100\n",
    "    all_data.loc[(all_data['sum_area'] == 60) & (all_data['area_total'] > 120), 'area_kitchen'] = all_data['area_kitchen'] * all_data['area_total']/100\n",
    "    all_data.loc[(all_data['sum_area'] < 70) & (all_data['area_total'] > 120)&(all_data['rooms'] < 3), 'area_living'] = all_data['area_living'] * all_data['area_total']/100\n",
    "    all_data.loc[(all_data['sum_area'] < 70) & (all_data['area_total'] > 120)&(all_data['rooms'] < 3), 'area_kitchen'] = all_data['area_kitchen'] * all_data['area_total']/100\n",
    "\n",
    "    return all_data\n",
    "\n",
    "def plot_categorical(df, column1, column2):\n",
    "    CrosstabResult=pd.crosstab(index=df[column1],columns=df[column2])\n",
    "\n",
    "    CrosstabResult.plot.bar(figsize=(7,4), rot=0)"
   ]
  },
  {
   "cell_type": "markdown",
   "metadata": {
    "pycharm": {
     "name": "#%% md\n"
    }
   },
   "source": [
    "## **Pricing**\n",
    "Pricing is our goal target, lets start by looking at how it is compared to other factors, and if we can see any interesting things"
   ]
  },
  {
   "cell_type": "code",
   "execution_count": null,
   "metadata": {
    "pycharm": {
     "name": "#%%\n"
    }
   },
   "outputs": [],
   "source": [
    "#data_train = add_direction(data_train)\n",
    "#data_train = one_hot_encode_multiple(data_train,['windows_street','windows_court','layout','district','direction'])\n",
    "#data_train.info()\n",
    "\n",
    "#log_data['price'] = np.log10(data_train.price)\n",
    "#log_data.plot.hist(bins= 500)\n",
    "#vi har utrolig lite små data, vil ha nærmere normalfordeling.\n",
    "\n",
    "# plot correleation of data to see which rows to focus on\n",
    "#all_data.corr().style.background_gradient(cmap='coolwarm')"
   ]
  },
  {
   "cell_type": "markdown",
   "metadata": {
    "pycharm": {
     "name": "#%% md\n"
    }
   },
   "source": [
    "## **Adding values to data**\n",
    "### **Radius**\n",
    "We saw that longitude and latitude didnt have an impact, lets see if we can change this into radius and check the effect"
   ]
  },
  {
   "cell_type": "code",
   "execution_count": null,
   "metadata": {
    "pycharm": {
     "name": "#%%\n"
    }
   },
   "outputs": [],
   "source": [
    "#add radius to test, all data and training data\n",
    "data_train = add_radius(data_train)\n",
    "data_test = add_radius(data_test)\n",
    "all_data = add_radius(all_data)\n",
    "\n",
    "#all_data['direction'].value_counts().plot(kind='bar')"
   ]
  },
  {
   "cell_type": "markdown",
   "metadata": {
    "pycharm": {
     "name": "#%% md\n"
    }
   },
   "source": [
    "### **Grouping features to make more powerfull features**\n",
    "#### **Districts**\n",
    "I think that there could be some value in grouping the different districts, to get the average price in that district as a feature"
   ]
  },
  {
   "cell_type": "code",
   "execution_count": null,
   "metadata": {
    "pycharm": {
     "name": "#%%\n"
    }
   },
   "outputs": [],
   "source": [
    "#group data by district and look at correleation for new feature\n",
    "data_train = group_by_feature_and_price(data_train,'district')\n",
    "data_test = group_by_feature_and_price(data_test, 'district', data_train=data_train)\n",
    "all_data = group_by_feature_and_price(all_data, 'district')"
   ]
  },
  {
   "cell_type": "markdown",
   "metadata": {
    "pycharm": {
     "name": "#%% md\n"
    }
   },
   "source": [
    "### **Street**\n",
    "There is also normal that a street has some sort of similar price or is in the same pricerange"
   ]
  },
  {
   "cell_type": "code",
   "execution_count": null,
   "metadata": {
    "pycharm": {
     "name": "#%%\n"
    }
   },
   "outputs": [],
   "source": [
    "#group data by street\n",
    "data_train = group_by_feature_and_price(data_train,'street')\n",
    "data_test = group_by_feature_and_price(data_test, 'street', data_train=data_train)\n",
    "all_data = group_by_feature_and_price(all_data, 'street')"
   ]
  },
  {
   "cell_type": "markdown",
   "metadata": {
    "pycharm": {
     "name": "#%% md\n"
    }
   },
   "source": [
    "### **Building**\n",
    "Apartments in the same building often has the same price"
   ]
  },
  {
   "cell_type": "code",
   "execution_count": null,
   "metadata": {
    "pycharm": {
     "name": "#%%\n"
    }
   },
   "outputs": [],
   "source": [
    "#group data by building_id\n",
    "data_train = group_by_feature_and_price(data_train,'building_id')\n",
    "data_test = group_by_feature_and_price(data_test, 'building_id', data_train=data_train)\n",
    "all_data = group_by_feature_and_price(all_data, 'building_id')"
   ]
  },
  {
   "cell_type": "markdown",
   "metadata": {
    "pycharm": {
     "name": "#%% md\n"
    }
   },
   "source": [
    "### **Constructed year**\n",
    "Lets check if the year an apparment was constructed can affect the price"
   ]
  },
  {
   "cell_type": "code",
   "execution_count": null,
   "metadata": {
    "pycharm": {
     "name": "#%%\n"
    }
   },
   "outputs": [],
   "source": [
    "data_train = group_by_feature_and_price(data_train,'constructed')\n",
    "data_test = group_by_feature_and_price(data_test, 'constructed', data_train=data_train)\n",
    "all_data = group_by_feature_and_price(all_data, 'constructed')\n",
    "\n",
    "all_data['high_up'] = all_data.floor/all_data.stories\n",
    "all_data['high_up'].where(all_data['high_up'] >= 1, 1)\n",
    "data_train['high_up'] = data_train.floor/data_train.stories\n",
    "data_test['high_up'] = data_test.floor/data_test.stories\n",
    "data_train['high_up'].where(data_train['high_up'] >= 1, 1)\n",
    "data_test['high_up'].where(data_test['high_up'] >= 1, 1)\n",
    "print(data_test)\n"
   ]
  },
  {
   "cell_type": "markdown",
   "metadata": {
    "pycharm": {
     "name": "#%% md\n"
    }
   },
   "source": [
    "### **Conclusion**\n",
    "Grouping lead to us being able to use data which is actually categorical, like building_id. This model will not be able to understand what it means, the model doesnt understand the data.\n",
    "\n",
    "To make the model understand we have two possibilities, turn it into categories (easy for few number of categories). However when we have huge categories we need to make data which the model can understand => grouping."
   ]
  },
  {
   "cell_type": "code",
   "execution_count": null,
   "metadata": {
    "pycharm": {
     "name": "#%%\n"
    }
   },
   "outputs": [],
   "source": [
    "#lets check the result, for example how they correlate with price, and also chek their pair plots\n",
    "all_data.corr().style.background_gradient(cmap='coolwarm')"
   ]
  },
  {
   "cell_type": "code",
   "execution_count": null,
   "metadata": {
    "pycharm": {
     "name": "#%%\n"
    }
   },
   "outputs": [],
   "source": [
    "pair_plot(data_train,['price', 'area_total','district_price','street_price','building_id_price','constructed_price','high_up'])"
   ]
  },
  {
   "cell_type": "markdown",
   "metadata": {
    "pycharm": {
     "name": "#%% md\n"
    }
   },
   "source": [
    "#### **Constructed year and mean constructed price**\n",
    "This pair comparison tells us a little bit about how the price is affected over time. In the start it is quite random, but as the time goes on we see a quite clear pattern. The price for houses constructed in the middle years are really low. Could this say something about the cuality of the buildings from this era?\n",
    "\n",
    "Moving on if we look at this feature comparied to the histogram plot of constructed year. We can see that there we have data about very few old houses, and these have random values. However the more data we get the better the prediction is getting less and less random.\n",
    "The year something is constructed is not an integer, it is an category. But looking at this plot, we may be able to intepreter it as a category.\n",
    "\n",
    "\n",
    "on the pair plots we can see that a lot of the data is affected by some extreme values, lets see what happens when we remove these values, we will also have to calculate new means()"
   ]
  },
  {
   "cell_type": "code",
   "execution_count": null,
   "metadata": {
    "pycharm": {
     "name": "#%%\n"
    }
   },
   "outputs": [],
   "source": [
    "#find n largest prices\n",
    "n_largest = data_train.nlargest(4,'price')['price']\n",
    "print(n_largest)\n",
    "\n",
    "#removes 4 larges inputs to get better data\n",
    "train_dropped = data_train.drop([3217,21414,15840,13938])\n",
    "all_dropped = all_data.drop([3217,21414,15840,13938])\n",
    "\n",
    "train_dropped = group_by_feature_and_price(train_dropped,'district')\n",
    "all_dropped = group_by_feature_and_price(all_dropped, 'district')\n",
    "train_dropped = group_by_feature_and_price(train_dropped,'street')\n",
    "all_dropped = group_by_feature_and_price(all_dropped, 'street')\n",
    "train_dropped = group_by_feature_and_price(train_dropped,'building_id')\n",
    "all_dropped = group_by_feature_and_price(all_dropped, 'building_id')\n",
    "\n",
    "#lets check new correlation and compare with previous\n",
    "all_dropped.corr().style.background_gradient(cmap='coolwarm')"
   ]
  },
  {
   "cell_type": "markdown",
   "metadata": {
    "pycharm": {
     "name": "#%% md\n"
    }
   },
   "source": [
    "We can see that district_price is not affected, showing that this feature is stable and can withstans extreme values\n",
    "street and building dropped a little bit, but maybe its not that important. However the pair plots might look different now."
   ]
  },
  {
   "cell_type": "code",
   "execution_count": null,
   "metadata": {
    "pycharm": {
     "name": "#%%\n"
    }
   },
   "outputs": [],
   "source": [
    "pair_plot(train_dropped,['price', 'area_total','district_price','street_price','building_id_price'])"
   ]
  },
  {
   "cell_type": "markdown",
   "metadata": {
    "pycharm": {
     "name": "#%% md\n"
    }
   },
   "source": [
    "The piar plots does now look a little bit better, at least they are more zoomed in.\n",
    "### **Use of information**\n",
    "Lets check if our new features can be used in the test set"
   ]
  },
  {
   "cell_type": "code",
   "execution_count": null,
   "metadata": {
    "pycharm": {
     "name": "#%%\n"
    }
   },
   "outputs": [],
   "source": [
    "print('number of common buildind_id:\\n',data_train['building_id'].isin(data_test['building_id']).sum())\n",
    "print('common streets in both sets:\\n',data_train[['street']].isin(data_test[['street']]).sum())\n",
    "print('number of unique streets:', len(all_data['street'].unique()))"
   ]
  },
  {
   "cell_type": "markdown",
   "metadata": {
    "pycharm": {
     "name": "#%% md\n"
    }
   },
   "source": [
    "As we can see there is not any common buildings in the test set and train set. Therefor average building price is not important\n",
    "Unless we can use some other features to train the average bulding price this information should not be used in our model\n",
    "\n",
    "We can also see that the there are only 27 common streets in the two sets, but over 1800 unique streets combined. This information is usefull for some of the rows in the test set, but not for everyone.\n",
    "\n",
    "However we still want to use information about the building, how can we accomplish this.\n",
    "\n",
    "#### **Building price continue**\n",
    "What else is characteristic for a building? We want to use the information from a certain type of building to give information about what these types of buildings is worth.\n",
    "Is newer buildings more expnesive for example?\n",
    "Lets try to group by building id and plot this with some information, to see what can be used.\n"
   ]
  },
  {
   "cell_type": "markdown",
   "metadata": {
    "pycharm": {
     "name": "#%% md\n"
    }
   },
   "source": [
    "## **Outliers**\n",
    "\n",
    "Now lets look at the outliers, lets start looking at the radius"
   ]
  },
  {
   "cell_type": "code",
   "execution_count": null,
   "metadata": {
    "pycharm": {
     "name": "#%%\n"
    }
   },
   "outputs": [],
   "source": [
    "max_value = data_train['radius'].max()\n",
    "min_value = data_train['radius'].min()\n",
    "\n",
    "print('rows with missing latitude and longitude in test data: \\n ',data_test[['longitude','latitude']][data_test['longitude'].isnull() == True])\n",
    "\n",
    "max_value_test = data_test['radius'].nlargest(10)\n",
    "print('max radius from trainingset: \\n',max_value, '\\n10 highest values from test set:\\n',max_value_test)"
   ]
  },
  {
   "cell_type": "markdown",
   "metadata": {},
   "source": [
    "As we can see from the code above, the test set is missing 2 longitude/latitude entries\n",
    "there is also 6 houses which is outsie moscow, have to remove radius for these buildings and look at other factors\n",
    "Want to look at the rows which is missing longitude and latitude, do they have anything else which connects the to moscow?"
   ]
  },
  {
   "cell_type": "markdown",
   "metadata": {},
   "source": [
    "row 23 and 90 is missing radius\n",
    "\n",
    "rows outside moscov:\n",
    "2511    106.579234\n",
    "5090    106.579234\n",
    "6959    106.579234\n",
    "8596    106.579234\n",
    "4719     96.021654\n",
    "9547     96.012910\n",
    "2529     39.132054"
   ]
  },
  {
   "cell_type": "code",
   "execution_count": null,
   "metadata": {
    "pycharm": {
     "name": "#%%\n"
    }
   },
   "outputs": [],
   "source": [
    "#print(data_with_radius.loc[[23]]['street'])\n",
    "#print(data_with_radius.loc[[90]]['building_id'])\n",
    "#print(data_with_radius[data_with_radius['street']=='пос. Коммунарка'])\n",
    "data_test._set_value(23,'radius',0.203899)\n",
    "data_test._set_value(90,'radius',0.203899)\n",
    "\n",
    "\n",
    "\n",
    "#Now we dont have any missing radius values in the test data\n",
    "#lets look at the rows outside of moscov\n",
    "data_test._set_value(2511,'radius',0.218159)\n",
    "data_test._set_value(5090,'radius',0.218159)\n",
    "data_test._set_value(6959,'radius',0.218159)\n",
    "data_test._set_value(8596,'radius',0.218159)\n",
    "\n",
    "#print(data_test.loc[[2511]][['street']])\n",
    "#print(data_test.loc[[5090]][['longitude','latitude']])\n",
    "#print(data_test.loc[[6959]])\n",
    "#print(data_test.loc[[8596]])\n",
    "#print(data_with_radius[data_with_radius['street']=='Бунинские Луга ЖК'])\n",
    "\n",
    "#print(data_test.loc[[4719]][['street','address']])\n",
    "#print(data_with_radius[['address','radius']][data_with_radius['street']=='улица Центральная'])\n",
    "\n",
    "data_test._set_value(4719, 'radius',0.19580)\n",
    "data_test._set_value(9547, 'radius',0.19520)\n",
    "\n",
    "#print(data_test.loc[[2529]][['street','address','district']])\n",
    "#print(data_with_radius[['longitude','latitude']][data_with_radius['street']=='улица 1-я Линия'])\n",
    "data_test._set_value(2529, 'radius', np.sqrt((37.464994-37.55)**2+(55.627666-55.75)**2))"
   ]
  },
  {
   "cell_type": "markdown",
   "metadata": {},
   "source": [
    "### **Outliers continue**\n",
    "Now we have fixed everythin for radius, lets look at the most extreme prices in the training data"
   ]
  },
  {
   "cell_type": "code",
   "execution_count": null,
   "metadata": {
    "pycharm": {
     "name": "#%%\n"
    }
   },
   "outputs": [],
   "source": [
    "largest_area = data_train.nlargest(3, columns='area_total')\n",
    "largest_area_test = data_test.nlargest(5, columns='area_total')['area_total']\n",
    "print('largest total area test : \\n',largest_area_test,'\\n','largest area train: \\n', largest_area[['price','area_total']])"
   ]
  },
  {
   "cell_type": "markdown",
   "metadata": {
    "pycharm": {
     "name": "#%% md\n"
    }
   },
   "source": [
    "We can see that the three highest values from the training set is almost twice teh size of the training set\n",
    "We have earlier seen that the plots was better when removing these. Lets check out if it is possible that this data is relevant for the test data"
   ]
  },
  {
   "cell_type": "code",
   "execution_count": null,
   "metadata": {
    "pycharm": {
     "name": "#%%\n"
    }
   },
   "outputs": [],
   "source": [
    "#look at these particular rows\n",
    "pd.set_option('display.max_columns', None)\n",
    "print(largest_area)"
   ]
  },
  {
   "cell_type": "markdown",
   "metadata": {
    "pycharm": {
     "name": "#%% md\n"
    }
   },
   "source": [
    "The two largest ones is in the same building, same size, only difference I see is that there are different types of rooms.\n",
    "However this could be usefull if building_mean_price could be used, as it states that this is a expensive building, however i think that this data is just noise for the model, with regards to the test data.\n",
    "\n",
    "### **Oldest and Newest building for sale for each set**"
   ]
  },
  {
   "cell_type": "code",
   "execution_count": null,
   "metadata": {
    "pycharm": {
     "name": "#%%\n"
    }
   },
   "outputs": [],
   "source": [
    "oldest_train = data_train.nsmallest(10, columns='constructed')['constructed']\n",
    "oldest_test = data_test.nsmallest(10, columns='constructed')['constructed']\n",
    "\n",
    "youngest_train = data_train.nlargest(10, columns='constructed')['constructed']\n",
    "youngest_test = data_test.nlargest(10, columns='constructed')['constructed']\n",
    "print(oldest_train,oldest_test,youngest_train,youngest_test)\n",
    "#as we can see they span over the same tiemframe, meaning that there are no outliers here."
   ]
  },
  {
   "cell_type": "markdown",
   "metadata": {
    "pycharm": {
     "name": "#%% md\n"
    }
   },
   "source": [
    "### **Ceiling**\n",
    "When testing, with a model, we experienced that ceiling was behaving a little bit strange. Lets look into this and look for outliers."
   ]
  },
  {
   "cell_type": "code",
   "execution_count": null,
   "outputs": [],
   "source": [
    "#make boxplot\n",
    "#all_data.boxplot(column= 'ceiling')\n",
    "#data_train.boxplot(column= 'ceiling')\n",
    "#data_test.boxplot(column= 'ceiling')\n",
    "\n",
    "#locate cm values:\n",
    "all_data_ceiling_cm = all_data[all_data['ceiling'] > 50]\n",
    "\n",
    "#all_data_ceiling_cm.boxplot(column = 'ceiling')\n",
    "#this data is consistent, and could be turned into m\n",
    "all_data.loc[all_data['ceiling'] > 50,'ceiling']*=0.01\n",
    "\n",
    "\n",
    "#now we have som entries which is between 25 and 30\n",
    "all_data_ceiling_error = all_data[all_data['ceiling'] > 25]\n",
    "#all_data_ceiling_error.boxplot(column = 'ceiling')\n",
    "#print(all_data_ceiling_error[['price','ceiling','area_total']])\n",
    "\n",
    "#i think this data is given in desimeter, and could be converted into cm\n",
    "all_data.loc[all_data['ceiling'] > 25, 'ceiling']*=0.1\n",
    "\n",
    "#Now we can try to give values to the ones ranging from 3.5 to 8. Some of them is probably correct.\n",
    "#lets firs look at maximum value\n",
    "#all_data_ceiling_6 = all_data[all_data['ceiling']>6.4]\n",
    "#found two duplicate rows, except from room.\n",
    "#The highest observed ceiling height which i belive is 3,5 m, and smallest is 2.40.\n",
    "#Lets assume that ceiling heigh can be up towards 4 meters in the most luxurious apartmens.\n",
    "#then for example ceiling heights ranging from 8 to 5 meters could possibly be two story buildings.\n",
    "#the solution here is just adding the average height of the two floors into one\n",
    "#2.2m is minimum, 2.4m is standard and 2.6m is considered good according to internet\n",
    "#if we take this into account, a ceiling of 8 m should be a three story building:\n",
    "\n",
    "#all_data.loc[all_data['ceiling'] > 7.2, 'ceiling']*=0.3333\n",
    "\n",
    "#the buildings between 7.2 and 4.6 should be considered as two story buildings\n",
    "#all_data.loc[all_data['ceiling'] > 4.6,'ceiling']*=0.5\n",
    "\n",
    "#highest_now = all_data['ceiling'].argmax()\n",
    "#highest_row = all_data.loc[highest_now]\n",
    "#print(highest_row)\n",
    "\n",
    "#there is some null values, these should be replaced with nan\n",
    "all_data.loc[all_data['ceiling'] < 0.5,'ceiling'] = float('NaN')\n",
    "all_data.boxplot(column='ceiling')\n"
   ],
   "metadata": {
    "collapsed": false,
    "pycharm": {
     "name": "#%%\n"
    }
   }
  },
  {
   "cell_type": "markdown",
   "source": [
    "We can clearly see that there is a big difference in how the data is entered. And that it is the same problem both in test and train.\n",
    "We see three ways of entering ceiling data, one in cm and two distinct group in cm.\n",
    "The goal is to get all the data in m.\n",
    "\n",
    "Now all the data is in the same range, but there is still quit big difference. We think this is because there is differnet number of floors in each appartment.\n",
    "Because there is no information about number of floors for each apartment, we think it is good to keep these differences, so that\n",
    "\n"
   ],
   "metadata": {
    "collapsed": false,
    "pycharm": {
     "name": "#%% md\n"
    }
   }
  },
  {
   "cell_type": "markdown",
   "source": [
    "\n",
    "### **LIVING AREA AND KITCHEN AREA**\n",
    "When testing models the model aslo did worse when we trained them with living and kitchen area included. Therefore we think it might be something wrong in how thtis data is presented.\n",
    "Here we will look at the kitchen and living area compared to total area"
   ],
   "metadata": {
    "collapsed": false,
    "pycharm": {
     "name": "#%% md\n"
    }
   }
  },
  {
   "cell_type": "code",
   "execution_count": 32,
   "outputs": [
    {
     "name": "stdout",
     "output_type": "stream",
     "text": [
      "area_living  area_kitchen\n",
      "30.3         8.2             396\n",
      "80.0         20.0            321\n",
      "20.0         10.0            235\n",
      "28.0         6.0             129\n",
      "19.0         8.0             125\n",
      "                            ... \n",
      "31.0         9.3               1\n",
      "             8.8               1\n",
      "             8.7               1\n",
      "             8.2               1\n",
      "900.0        35.0              1\n",
      "Length: 10191, dtype: int64\n",
      "       area_living  area_kitchen  area_total  rooms  bathrooms_private\n",
      "514           80.0          20.0       37.00    1.0                0.0\n",
      "515           80.0          20.0       32.00    1.0                0.0\n",
      "517           80.0          20.0       77.20    3.0                0.0\n",
      "523           80.0          20.0       77.00    3.0                0.0\n",
      "536           80.0          20.0       23.30    1.0                0.0\n",
      "537           80.0          20.0       40.00    1.0                0.0\n",
      "538           80.0          20.0       45.10    1.0                0.0\n",
      "539           80.0          20.0       37.80    1.0                0.0\n",
      "540           80.0          20.0       37.70    1.0                0.0\n",
      "541           80.0          20.0       24.00    1.0                0.0\n",
      "542           80.0          20.0       27.00    1.0                0.0\n",
      "543           80.0          20.0       35.90    1.0                0.0\n",
      "544           80.0          20.0       38.90    1.0                0.0\n",
      "545           80.0          20.0       56.60    2.0                0.0\n",
      "546           80.0          20.0       50.00    2.0                0.0\n",
      "547           80.0          20.0       42.00    2.0                0.0\n",
      "548           80.0          20.0       65.20    2.0                0.0\n",
      "549           80.0          20.0       40.30    1.0                0.0\n",
      "550           80.0          20.0       39.95    1.0                0.0\n",
      "551           80.0          20.0       43.00    1.0                0.0\n",
      "552           80.0          20.0       39.40    1.0                0.0\n",
      "553           80.0          20.0       46.60    1.0                0.0\n",
      "554           80.0          20.0       64.00    3.0                0.0\n",
      "555           80.0          20.0       48.60    2.0                0.0\n",
      "556           80.0          20.0       39.50    1.0                0.0\n",
      "557           80.0          20.0       51.00    1.0                0.0\n",
      "558           80.0          20.0       50.50    1.0                0.0\n",
      "559           80.0          20.0       58.20    2.0                0.0\n",
      "560           80.0          20.0       76.00    3.0                0.0\n",
      "561           80.0          20.0       74.70    3.0                0.0\n",
      "562           80.0          20.0       49.40    2.0                0.0\n",
      "563           80.0          20.0       58.00    3.0                0.0\n",
      "564           80.0          20.0       60.00    3.0                0.0\n",
      "565           80.0          20.0       54.10    1.0                0.0\n",
      "566           80.0          20.0       49.00    1.0                0.0\n",
      "567           80.0          20.0       62.00    2.0                0.0\n",
      "569           80.0          20.0       60.50    1.0                0.0\n",
      "570           80.0          20.0       59.40    2.0                0.0\n",
      "571           80.0          20.0       74.00    2.0                0.0\n",
      "572           80.0          20.0       72.00    3.0                0.0\n",
      "573           80.0          20.0       60.00    2.0                0.0\n",
      "574           80.0          20.0       64.00    2.0                0.0\n",
      "575           80.0          20.0       63.30    2.0                0.0\n",
      "576           80.0          20.0       76.00    2.0                0.0\n",
      "578           80.0          20.0       39.90    1.0                0.0\n",
      "579           80.0          20.0       59.20    2.0                0.0\n",
      "580           80.0          20.0       76.00    2.0                0.0\n",
      "583           80.0          20.0       75.60    3.0                0.0\n",
      "584           80.0          20.0       74.80    3.0                0.0\n",
      "586           80.0          20.0       75.00    2.0                0.0\n",
      "587           80.0          20.0       67.10    3.0                0.0\n",
      "590           80.0          20.0       51.00    1.0                0.0\n",
      "592           80.0          20.0       66.50    3.0                0.0\n",
      "599           80.0          20.0       75.00    1.0                0.0\n",
      "611           80.0          20.0       77.00    3.0                0.0\n",
      "632           80.0          20.0       59.70    2.0                0.0\n",
      "634           80.0          20.0       66.40    3.0                0.0\n",
      "636           80.0          20.0       32.00    1.0                0.0\n",
      "842          107.0           NaN      101.99    3.0                2.0\n",
      "1107          82.3          14.0        9.30    1.0                0.0\n",
      "3116          75.5          15.1       54.10    1.0                2.0\n",
      "6478          80.0          20.0       30.60    1.0                0.0\n",
      "6479          80.0          20.0       38.30    1.0                0.0\n",
      "6480          80.0          20.0       44.80    2.0                0.0\n",
      "6481          80.0          20.0       77.40    2.0                0.0\n",
      "6484          80.0          20.0       50.00    2.0                0.0\n",
      "6494          80.0          20.0       27.00    1.0                0.0\n",
      "6495          80.0          20.0       23.50    1.0                0.0\n",
      "6496          80.0          20.0       33.40    1.0                0.0\n",
      "6497          80.0          20.0       28.69    1.0                0.0\n",
      "6498          80.0          20.0       42.10    2.0                0.0\n",
      "6499          80.0          20.0       40.00    1.0                0.0\n",
      "6500          80.0          20.0       53.70    2.0                0.0\n",
      "6501          80.0          20.0       37.30    1.0                0.0\n",
      "6502          80.0          20.0       40.20    1.0                0.0\n",
      "6503          80.0          20.0       40.00    1.0                0.0\n",
      "6504          80.0          20.0       50.00    2.0                0.0\n",
      "6505          80.0          20.0       69.60    3.0                0.0\n",
      "6506          80.0          20.0       49.10    1.0                0.0\n",
      "6507          80.0          20.0       70.13    3.0                0.0\n",
      "6508          80.0          20.0       69.10    2.0                0.0\n",
      "6509          80.0          20.0       79.20    3.0                0.0\n",
      "6510          80.0          20.0       51.10    1.0                0.0\n",
      "6511          80.0          20.0       53.40    2.0                0.0\n",
      "6512          80.0          20.0       65.50    2.0                0.0\n",
      "6513          80.0          20.0       72.90    3.0                0.0\n",
      "6514          80.0          20.0       61.50    2.0                0.0\n",
      "6515          80.0          20.0       74.50    3.0                0.0\n",
      "6516          80.0          20.0       78.20    2.0                0.0\n",
      "6518          80.0          20.0       51.00    1.0                0.0\n",
      "6519          80.0          20.0       78.00    3.0                0.0\n",
      "6520          80.0          20.0       59.40    2.0                0.0\n",
      "6521          80.0          20.0       54.10    1.0                0.0\n",
      "6522          80.0          20.0       50.00    2.0                0.0\n",
      "6524          80.0          20.0       76.30    3.0                0.0\n",
      "6526          80.0          20.0       76.50    3.0                0.0\n",
      "6529          80.0          20.0       67.10    3.0                0.0\n",
      "6530          80.0          20.0       72.00    3.0                0.0\n",
      "6531          80.0          20.0       77.50    2.0                0.0\n",
      "6532          80.0          20.0       60.30    2.0                0.0\n",
      "6533          80.0          20.0       59.00    2.0                0.0\n",
      "6535          80.0          20.0       77.00    2.0                0.0\n",
      "6539          80.0          20.0       60.70    2.0                0.0\n",
      "6541          80.0          20.0       69.00    2.0                0.0\n",
      "6568          80.0          20.0       53.00    2.0                0.0\n",
      "6570          80.0          20.0       38.26    1.0                0.0\n",
      "11785         44.1           6.0       31.80    1.0                1.0\n",
      "11787         44.1           6.0       27.50    1.0                1.0\n",
      "11788         44.1           6.0       39.00    1.0                1.0\n",
      "11950         47.0           7.0       40.00    1.0                1.0\n",
      "12134         44.1           6.0       27.73    1.0                1.0\n",
      "12135         44.1           6.0       40.40    1.0                1.0\n",
      "12595        161.0          20.0       42.00    2.0                3.0\n",
      "12998         93.0          20.0       92.00    3.0                0.0\n",
      "13469         54.0           9.0       32.00    1.0                1.0\n",
      "13573        223.6          18.6       22.40    1.0                1.0\n",
      "18114         33.0          16.0       25.67    1.0                1.0\n",
      "18190         63.5          13.1       52.00    1.0                1.0\n",
      "18778         79.6          19.1       79.40    3.0                1.0\n",
      "18914         30.3           8.2       29.07    1.0                1.0\n",
      "18941         30.3           8.2       26.30    1.0                1.0\n",
      "18942         30.3           8.2       27.90    1.0                1.0\n",
      "18943         30.3           8.2       29.90    1.0                1.0\n",
      "18962         30.3           8.2       27.50    1.0                1.0\n",
      "20460         30.3           8.2       24.00    1.0                1.0\n",
      "20488         30.3           8.2       30.00    1.0                1.0\n",
      "21341         67.0           6.0       60.00    3.0                1.0\n",
      "21804         55.0          20.0       32.00    1.0                1.0\n",
      "22033         37.0           7.5       32.70    1.0                0.0\n",
      "22395         26.5          12.9       21.20    1.0                1.0\n",
      "22656         44.6          13.2       40.60    1.0                1.0\n",
      "23497         80.0          20.0       45.60    2.0                0.0\n",
      "23499         80.0          20.0       34.80    1.0                0.0\n",
      "23500         80.0          20.0       39.00    1.0                0.0\n",
      "23501         80.0          20.0       40.00    2.0                0.0\n",
      "23502         80.0          20.0       44.40    2.0                0.0\n",
      "23503         80.0          20.0       48.00    1.0                0.0\n",
      "23504         80.0          20.0       38.00    1.0                0.0\n",
      "23505         80.0          20.0       50.07    1.0                0.0\n",
      "23506         80.0          20.0       50.00    2.0                0.0\n",
      "23507         80.0          20.0       46.10    1.0                0.0\n",
      "23508         80.0          20.0       70.60    2.0                0.0\n",
      "23509         80.0          20.0       65.00    2.0                0.0\n",
      "23510         80.0          20.0       71.00    3.0                0.0\n",
      "23511         80.0          20.0       51.20    1.0                0.0\n",
      "23512         80.0          20.0       52.00    2.0                0.0\n",
      "23513         80.0          20.0       50.00    2.0                0.0\n",
      "23515         80.0          20.0       70.00    2.0                0.0\n",
      "23516         80.0          20.0       79.80    2.0                0.0\n",
      "23517         80.0          20.0       76.20    2.0                0.0\n",
      "23528         80.0          20.0       65.00    2.0                0.0\n",
      "23529         80.0          20.0       53.73    2.0                0.0\n",
      "25924        154.0          25.0       36.10    2.0                0.0\n",
      "25942         80.0          20.0       60.00    2.0                0.0\n",
      "25948         80.0          20.0       39.10    1.0                0.0\n",
      "25949         80.0          20.0       51.70    2.0                0.0\n",
      "25950         80.0          20.0       37.74    1.0                0.0\n",
      "25951         80.0          20.0       38.95    1.0                0.0\n",
      "25952         80.0          20.0       47.50    1.0                0.0\n",
      "25953         80.0          20.0       46.80    1.0                0.0\n",
      "25954         80.0          20.0       43.30    1.0                0.0\n",
      "25955         80.0          20.0       75.70    3.0                0.0\n",
      "25956         80.0          20.0       38.00    1.0                0.0\n",
      "25957         80.0          20.0       54.00    2.0                0.0\n",
      "25958         80.0          20.0       33.40    1.0                0.0\n",
      "25959         80.0          20.0       59.77    2.0                0.0\n",
      "25960         80.0          20.0       58.80    2.0                0.0\n",
      "25961         80.0          20.0       46.70    1.0                0.0\n",
      "25962         80.0          20.0       44.20    1.0                0.0\n",
      "25963         80.0          20.0       55.70    2.0                0.0\n",
      "25964         80.0          20.0       47.70    1.0                0.0\n",
      "25965         80.0          20.0       71.00    3.0                0.0\n",
      "25967         80.0          20.0       63.80    2.0                0.0\n",
      "25968         80.0          20.0       77.40    3.0                0.0\n",
      "25969         80.0          20.0       57.70    2.0                0.0\n",
      "25970         80.0          20.0       70.20    2.0                0.0\n",
      "25972         80.0          20.0       65.10    2.0                0.0\n",
      "25982         80.0          20.0       37.90    1.0                0.0\n",
      "25983         80.0          20.0       33.20    1.0                0.0\n",
      "28267         44.1           6.0       35.00    1.0                1.0\n",
      "28269         44.1           6.0       33.00    1.0                1.0\n",
      "28270         44.1           6.0       36.50    1.0                1.0\n",
      "32830         75.0          18.0       35.00    1.0                0.0\n",
      "33027         33.3          11.9       32.00    1.0                1.0\n",
      "33092         40.0          14.0       35.00    1.0                1.0\n",
      "        id  seller      price  area_total  area_kitchen  area_living  floor  \\\n",
      "1107  1107     NaN  1991000.0         9.3          14.0         82.3    3.0   \n",
      "\n",
      "      rooms  layout  ceiling  ...  material  stories  elevator_without  \\\n",
      "1107    1.0     1.0      3.1  ...       3.0      9.0               1.0   \n",
      "\n",
      "      elevator_passenger  elevator_service  parking  garbage_chute  heating  \\\n",
      "1107                 1.0               1.0      1.0            1.0      0.0   \n",
      "\n",
      "        living   kitchen  \n",
      "1107  8.849462  1.505376  \n",
      "\n",
      "[1 rows x 36 columns]\n",
      "       area_total  area_living  area_kitchen   sum_area  rooms\n",
      "39          39.30     11.10000      18.10000   29.20000    1.0\n",
      "40          39.50     11.20000      19.60000   30.80000    1.0\n",
      "69          35.90     10.10000      17.00000   27.10000    1.0\n",
      "91          36.61     10.40000      13.70000   24.10000    1.0\n",
      "109         31.57      8.30000      16.50000   24.80000    1.0\n",
      "118         42.28     11.00000      19.90000   30.90000    1.0\n",
      "124         43.59     10.90000      19.00000   29.90000    1.0\n",
      "129         48.36     11.90000      23.30000   35.20000    1.0\n",
      "141         36.50     10.40000      17.20000   27.60000    1.0\n",
      "142         35.90     10.10000      17.00000   27.10000    1.0\n",
      "144         38.10     10.70000      17.60000   28.30000    1.0\n",
      "155         36.65     10.70000      17.90000   28.60000    1.0\n",
      "156         35.90     10.10000      16.90000   27.00000    1.0\n",
      "162         40.20     11.70000      18.70000   30.40000    1.0\n",
      "173         39.40     11.20000      18.20000   29.40000    1.0\n",
      "175         41.70     10.30000      22.60000   32.90000    1.0\n",
      "176         39.50     11.20000      19.60000   30.80000    1.0\n",
      "182         46.00     12.10000      20.90000   33.00000    1.0\n",
      "183         49.15     13.56540       5.35735   18.92275    2.0\n",
      "185         46.00     12.10000      20.90000   33.00000    1.0\n",
      "188         39.50     11.10000      18.10000   29.20000    1.0\n",
      "189         44.30     13.00000      16.00000   29.00000    1.0\n",
      "192         43.90     12.10000      17.60000   29.70000    1.0\n",
      "194         43.40     11.40000      23.00000   34.40000    1.0\n",
      "197         39.30     11.10000      18.10000   29.20000    1.0\n",
      "198         46.60     13.20000      22.10000   35.30000    1.0\n",
      "200         45.10     12.40000      22.50000   34.90000    1.0\n",
      "202         43.50     11.50000      22.70000   34.20000    1.0\n",
      "211         39.40     11.20000      19.60000   30.80000    1.0\n",
      "224         57.11     14.40000      25.40000   39.80000    1.0\n",
      "229         57.11     14.40000      25.40000   39.80000    1.0\n",
      "235         49.00     14.50000      20.30000   34.80000    1.0\n",
      "241         54.00     14.30000      22.60000   36.90000    1.0\n",
      "247         51.31     12.98143       6.77292   19.75435    2.0\n",
      "251         58.00     13.80000      29.80000   43.60000    1.0\n",
      "262         42.10     10.70000      21.30000   32.00000    1.0\n",
      "326         77.43     20.40000      18.80000   39.20000    3.0\n",
      "637         56.00     16.60000      22.30000   38.90000    1.0\n",
      "644        256.90     76.50000       8.70000   85.20000    3.0\n",
      "659         49.80     13.20000      19.50000   32.70000    1.0\n",
      "755         61.10     14.10000      32.10000   46.20000    1.0\n",
      "1112        69.00     20.13000      23.00000   43.13000    3.0\n",
      "1145        52.60     12.90000      20.40000   33.30000    1.0\n",
      "1164        44.83     13.10000      22.90000   36.00000    1.0\n",
      "1177        81.60     20.80000      12.10000   32.90000    1.0\n",
      "1196        41.20     10.60000      21.20000   31.80000    1.0\n",
      "1317        39.14     11.30000      19.10000   30.40000    1.0\n",
      "1321        55.70     13.90000      20.70000   34.60000    1.0\n",
      "1333        76.60     15.60000      35.50000   51.10000    1.0\n",
      "1356        39.20     11.10000      18.00000   29.10000    1.0\n",
      "1371        34.00      1.00000      12.00000   13.00000    1.0\n",
      "1493        50.20     14.30000      20.60000   34.90000    1.0\n",
      "1502        55.40     16.20000      17.70000   33.90000    1.0\n",
      "1509        52.30     13.70000      20.10000   33.80000    1.0\n",
      "1511        53.70     13.60000      22.80000   36.40000    1.0\n",
      "1513        51.70     15.20000      18.70000   33.90000    1.0\n",
      "1522        51.20     15.20000      18.70000   33.90000    1.0\n",
      "1524        54.20     14.50000      20.80000   35.30000    1.0\n",
      "1527        52.40     14.60000      21.30000   35.90000    1.0\n",
      "1533        49.50     14.50000      17.20000   31.70000    1.0\n",
      "1543        55.80     14.60000      23.40000   38.00000    1.0\n",
      "1552        52.50     12.90000      20.30000   33.20000    1.0\n",
      "1566        64.50     16.40000      27.70000   44.10000    1.0\n",
      "1568        57.00     15.50000      24.20000   39.70000    1.0\n",
      "1582        62.80     17.20000      21.50000   38.70000    1.0\n",
      "1598        82.30     12.83880      30.53330   43.37210    1.0\n",
      "1602        81.20     24.10000      17.30000   41.40000    1.0\n",
      "1603        73.90     15.00000      24.70000   39.70000    1.0\n",
      "1607        76.00     22.10000      34.70000   56.80000    1.0\n",
      "1630        80.40     24.10000      17.30000   41.40000    1.0\n",
      "1650       101.90     20.68570      52.27470   72.96040    1.0\n",
      "1656        82.60     12.88560      30.64460   43.53020    1.0\n",
      "1660       101.50     27.70000      35.40000   63.10000    2.0\n",
      "1679       103.20     28.60000      37.00000   65.60000    2.0\n",
      "1751        46.80     13.80000      17.90000   31.70000    1.0\n",
      "1758        50.10      8.31660      10.97190   19.28850    1.0\n",
      "1779        75.79     14.20000           NaN        NaN    2.0\n",
      "1830        39.90     11.90000      18.20000   30.10000    1.0\n",
      "1845        39.65     11.10000      20.10000   31.20000    1.0\n",
      "1848        38.98     11.20000      20.10000   31.30000    1.0\n",
      "1855        38.88     11.00000      17.90000   28.90000    1.0\n",
      "1857        37.88     10.70000      15.70000   26.40000    1.0\n",
      "1858        38.04     11.10000      18.70000   29.80000    1.0\n",
      "1860        38.60     10.80000      13.60000   24.40000    1.0\n",
      "1864        39.87     11.50000      19.70000   31.20000    1.0\n",
      "1866        36.19     10.40000      17.30000   27.70000    1.0\n",
      "1872        39.87     11.50000      18.40000   29.90000    1.0\n",
      "1885        44.14     12.10000      21.60000   33.70000    1.0\n",
      "1914        42.92     12.60000      20.20000   32.80000    1.0\n",
      "2032        51.68     12.60000           NaN        NaN    1.0\n",
      "2040        59.38     14.80000           NaN        NaN    2.0\n",
      "2047        65.23     18.80000           NaN        NaN    2.0\n",
      "2051        62.97     18.80000           NaN        NaN    2.0\n",
      "2053        61.41     14.50000           NaN        NaN    1.0\n",
      "2055        64.01     17.20000           NaN        NaN    2.0\n",
      "2060        78.03     13.80000           NaN        NaN    2.0\n",
      "2063        79.74     17.00000           NaN        NaN    2.0\n",
      "2100       145.87     39.40000           NaN        NaN    3.0\n",
      "2128        52.50     15.48750       4.72500   20.21250    2.0\n",
      "2812       110.80      0.00000           NaN        NaN    2.0\n",
      "2855       205.00     55.00000      25.00000   80.00000    4.0\n",
      "2870        38.20     11.00000      17.60000   28.60000    1.0\n",
      "2871        35.10     10.10000      17.00000   27.10000    1.0\n",
      "2873        37.70     10.10000      18.10000   28.20000    1.0\n",
      "2877        39.00     11.00000      17.70000   28.70000    1.0\n",
      "2879        40.80     12.10000      17.70000   29.80000    1.0\n",
      "2884        39.50     11.20000      19.60000   30.80000    1.0\n",
      "2886        46.00     13.30000      20.00000   33.30000    1.0\n",
      "2893        44.20     12.20000      22.20000   34.40000    1.0\n",
      "2898        45.50     12.10000      22.40000   34.50000    1.0\n",
      "2909        43.37     12.00000      16.60000   28.60000    1.0\n",
      "2937        44.60      0.00000           NaN        NaN    1.0\n",
      "2949        46.90      0.00000           NaN        NaN    1.0\n",
      "2952        44.40      0.00000           NaN        NaN    1.0\n",
      "2954        46.30      0.00000           NaN        NaN    1.0\n",
      "2970       138.10     29.20000      53.40000   82.60000    1.0\n",
      "3047       100.10     29.30000           NaN        NaN    2.0\n",
      "3128       147.30     35.80000      49.50000   85.30000    2.0\n",
      "3164        52.00     15.00000      20.00000   35.00000    1.0\n",
      "3172        53.90     14.70000           NaN        NaN    2.0\n",
      "3178        63.60     17.80000           NaN        NaN    1.0\n",
      "3241        84.60     25.00000           NaN        NaN    2.0\n",
      "3334       140.40     29.20000      53.40000   82.60000    1.0\n",
      "3338       144.60     34.40000      54.20000   88.60000    2.0\n",
      "3388       190.00     51.20000      57.60000  108.80000    4.0\n",
      "3479       166.90     46.00000      78.90000  124.90000    2.0\n",
      "3576        43.00     12.00000      20.00000   32.00000    1.0\n",
      "3704        39.00     11.00000      16.50000   27.50000    1.0\n",
      "3719        54.60     12.40000      24.70000   37.10000    1.0\n",
      "3730        53.40     12.20000      25.80000   38.00000    1.0\n",
      "3732        54.60     12.90000      26.30000   39.20000    1.0\n",
      "3740        55.00     15.95000       5.22500   21.17500    2.0\n",
      "3962        48.00     13.80000      12.10000   25.90000    2.0\n",
      "4111        55.60     15.19000       7.20000   22.39000    2.0\n",
      "4338        45.00     13.00000           NaN        NaN    2.0\n",
      "4536        46.30     13.10000      20.30000   33.40000    1.0\n",
      "4615        56.00     15.00000      37.00000   52.00000    1.0\n",
      "4716        91.00     21.15000      17.00000   38.15000    2.0\n",
      "4996        60.00     14.00000      29.00000   43.00000    1.0\n",
      "5050        43.67     12.40000      15.90000   28.30000    1.0\n",
      "5054        43.51     12.20000      15.50000   27.70000    1.0\n",
      "5108        75.40      0.00000           NaN        NaN    3.0\n",
      "5118        33.00      0.00000       6.80000    6.80000    1.0\n",
      "5162        42.50      0.00000           NaN        NaN    1.0\n",
      "5169        60.10      0.00000           NaN        NaN    2.0\n",
      "5214        77.20      0.00000           NaN        NaN    3.0\n",
      "5219        81.00      0.00000           NaN        NaN    3.0\n",
      "5228        75.60      0.00000           NaN        NaN    3.0\n",
      "5230        73.30      0.00000           NaN        NaN    3.0\n",
      "5269        61.99     17.70000      16.20000   33.90000    1.0\n",
      "5286        55.10     14.00000      28.70000   42.70000    1.0\n",
      "5640        42.30     12.50000      18.90000   31.40000    1.0\n",
      "5646        47.70     13.70000      19.60000   33.30000    1.0\n",
      "5649        60.36     17.70000      25.30000   43.00000    1.0\n",
      "5684        37.50     11.10000      18.20000   29.30000    1.0\n",
      "5723        35.70     10.10000      17.00000   27.10000    1.0\n",
      "5728        40.40     11.60000      18.50000   30.10000    1.0\n",
      "5733        34.84     10.20000      15.40000   25.60000    1.0\n",
      "5734        39.30     11.10000      18.10000   29.20000    1.0\n",
      "5737        41.20     10.60000      21.20000   31.80000    1.0\n",
      "5755        24.80      0.00000           NaN        NaN    1.0\n",
      "5761        43.44     12.00000      16.10000   28.10000    1.0\n",
      "5762        37.80     10.30000      18.20000   28.50000    1.0\n",
      "5763        41.50     12.20000      20.10000   32.30000    1.0\n",
      "5765        45.62     13.30000      17.30000   30.60000    1.0\n",
      "5784        44.80     13.20000      21.40000   34.60000    1.0\n",
      "5790        47.30     13.60000      23.60000   37.20000    1.0\n",
      "5797        53.70     13.30000      20.30000   33.60000    1.0\n",
      "5817        40.20     11.30000      18.40000   29.70000    1.0\n",
      "5834        54.60      0.00000           NaN        NaN    1.0\n",
      "5837        46.10     13.60000      18.20000   31.80000    1.0\n",
      "5839        44.80      0.00000           NaN        NaN    1.0\n",
      "5844        52.20      0.00000           NaN        NaN    1.0\n",
      "5845        46.90     13.70000      22.30000   36.00000    1.0\n",
      "5848        44.90     12.60000      22.40000   35.00000    1.0\n",
      "5851        49.30      0.00000           NaN        NaN    2.0\n",
      "5853        56.80      0.00000           NaN        NaN    2.0\n",
      "5867        55.40      0.00000           NaN        NaN    2.0\n",
      "5876        64.60      0.00000           NaN        NaN    2.0\n",
      "5897        48.90      0.00000           NaN        NaN    1.0\n",
      "5911        56.60      0.00000           NaN        NaN    1.0\n",
      "5913        71.00      0.00000           NaN        NaN    3.0\n",
      "5914        77.90      0.00000           NaN        NaN    3.0\n",
      "5916        68.10      0.00000           NaN        NaN    3.0\n",
      "5917        66.70      0.00000           NaN        NaN    2.0\n",
      "5923        85.50      0.00000           NaN        NaN    3.0\n",
      "5928        72.20      0.00000           NaN        NaN    2.0\n",
      "5940        70.90      0.00000           NaN        NaN    2.0\n",
      "5943        85.10      0.00000           NaN        NaN    3.0\n",
      "5953       110.60      0.00000           NaN        NaN    4.0\n",
      "5955       103.40      0.00000           NaN        NaN    4.0\n",
      "5965       104.70      0.00000           NaN        NaN    4.0\n",
      "6110        39.30     11.10000      18.10000   29.20000    1.0\n",
      "6121       120.00     32.50000      10.40000   42.90000    3.0\n",
      "6123        35.90     10.10000      17.00000   27.10000    1.0\n",
      "6138        35.70     10.10000      17.00000   27.10000    1.0\n",
      "6142        42.90     11.40000      22.50000   33.90000    1.0\n",
      "6144        49.10     13.70000      22.10000   35.80000    1.0\n",
      "6189        33.72      8.80000      18.10000   26.90000    1.0\n",
      "6219        38.20     10.30000      18.30000   28.60000    1.0\n",
      "6220        36.60     10.10000      16.00000   26.10000    1.0\n",
      "6224        40.80     11.70000      20.50000   32.20000    1.0\n",
      "6226        42.30     11.80000      21.80000   33.60000    1.0\n",
      "6232        39.30     11.10000      18.00000   29.10000    1.0\n",
      "6242        45.00     13.40000      18.00000   31.40000    1.0\n",
      "6246        39.40     11.20000      19.60000   30.80000    1.0\n",
      "6247        41.40     10.30000      22.50000   32.80000    1.0\n",
      "6251        43.00     11.50000      22.70000   34.20000    1.0\n",
      "6255        43.90     12.10000      17.70000   29.80000    1.0\n",
      "6256        42.90     11.20000      22.30000   33.50000    1.0\n",
      "6261        43.50     11.40000      22.80000   34.20000    1.0\n",
      "6263        43.40     11.40000      22.90000   34.30000    1.0\n",
      "6266        43.60     11.50000      22.70000   34.20000    1.0\n",
      "6270        42.90     11.20000      22.30000   33.50000    1.0\n",
      "6272        47.60     12.10000      24.30000   36.40000    1.0\n",
      "6288        46.60     13.20000      22.10000   35.30000    1.0\n",
      "6371        80.41     23.00000      21.10000   44.10000    3.0\n",
      "6645        61.50     14.10000      32.10000   46.20000    1.0\n",
      "6647        58.40     14.50000      24.50000   39.00000    1.0\n",
      "6648        58.50     14.50000      24.50000   39.00000    1.0\n",
      "6833        41.71     12.00000      21.70000   33.70000    1.0\n",
      "6897        81.10     16.90000      22.00000   38.90000    1.0\n",
      "6945        35.70     10.10000      17.00000   27.10000    1.0\n",
      "6950        43.06     12.30000      22.20000   34.50000    1.0\n",
      "6951        37.60     10.10000      18.10000   28.20000    1.0\n",
      "7012        43.90     12.70000      16.60000   29.30000    1.0\n",
      "7031        52.60     13.00000      21.90000   34.90000    1.0\n",
      "7043        51.40     14.00000      20.40000   34.40000    1.0\n",
      "7044        48.20     13.00000      18.30000   31.30000    1.0\n",
      "7066        64.40     16.40000      27.70000   44.10000    1.0\n",
      "7084        62.40     15.40000      21.70000   37.10000    1.0\n",
      "7089        74.30     21.20000      33.20000   54.40000    1.0\n",
      "7107        88.00     20.30000      41.60000   61.90000    1.0\n",
      "7132       101.40     27.70000      35.40000   63.10000    2.0\n",
      "7133       105.30     21.20000      54.70000   75.90000    1.0\n",
      "7138        74.70     19.40000      32.30000   51.70000    1.0\n",
      "7210        60.24     14.80000           NaN        NaN    2.0\n",
      "7247        40.50     12.10000      17.70000   29.80000    1.0\n",
      "7252        40.40     12.00000      18.30000   30.30000    1.0\n",
      "7256        36.19     10.40000      17.90000   28.30000    1.0\n",
      "7257        38.03     10.70000      15.70000   26.40000    1.0\n",
      "7258        37.03     10.90000      17.30000   28.20000    1.0\n",
      "7261        40.55     11.30000      13.30000   24.60000    1.0\n",
      "7262        38.10     10.90000      18.10000   29.00000    1.0\n",
      "7263        36.96     10.40000      17.30000   27.70000    1.0\n",
      "7266        43.78     11.90000      22.00000   33.90000    1.0\n",
      "7267        36.99     11.00000      17.30000   28.30000    1.0\n",
      "7269        39.85     11.50000      19.70000   31.20000    1.0\n",
      "7270        42.31     11.70000      20.80000   32.50000    1.0\n",
      "7271        38.03     11.10000      17.90000   29.00000    1.0\n",
      "7272        37.24     11.10000      17.50000   28.60000    1.0\n",
      "7277        44.99     12.40000      22.60000   35.00000    1.0\n",
      "7279        45.98     13.40000      21.50000   34.90000    1.0\n",
      "7280        44.47     12.40000      22.20000   34.60000    1.0\n",
      "7282        45.56     12.40000      22.60000   35.00000    1.0\n",
      "7283        42.67     12.30000      19.50000   31.80000    1.0\n",
      "7333        45.18     12.20000      19.40000   31.60000    1.0\n",
      "7375        87.90     26.00000      11.00000   37.00000    3.0\n",
      "7399        61.72      9.90000           NaN        NaN    1.0\n",
      "7403        66.74     13.40000           NaN        NaN    2.0\n",
      "7404        74.99     16.60000           NaN        NaN    2.0\n",
      "7406        74.44     16.60000           NaN        NaN    2.0\n",
      "7412       108.89     29.10000      50.40000   79.50000    2.0\n",
      "7415        89.92     13.80000           NaN        NaN    2.0\n",
      "7427        37.00     10.16000       6.00000   16.16000    2.0\n",
      "7533        47.00      5.00000       6.00000   11.00000    2.0\n",
      "7548       103.00     22.20000      67.70000   89.90000    2.0\n",
      "7590        43.00      9.00000      10.00000   19.00000    2.0\n",
      "7768        73.20     16.14000      30.00000   46.14000    2.0\n",
      "7899        37.40     10.90000      18.10000   29.00000    1.0\n",
      "7901        39.30     11.20000      19.60000   30.80000    1.0\n",
      "7905        46.70     13.30000      20.10000   33.40000    1.0\n",
      "7906        44.70     12.10000      22.40000   34.50000    1.0\n",
      "8036        53.40     14.00000      26.40000   40.40000    2.0\n",
      "8089        51.48     12.30000      21.00000   33.30000    2.0\n",
      "8118       140.90     29.20000      53.40000   82.60000    1.0\n",
      "8127       152.00     44.00000      45.00000   89.00000    5.0\n",
      "8168        42.90     11.20000      22.30000   33.50000    1.0\n",
      "8171        51.31     12.98143       6.77292   19.75435    2.0\n",
      "8234        53.90     14.70000           NaN        NaN    2.0\n",
      "8245       225.00     65.00000      30.00000   95.00000    2.0\n",
      "8404        39.13     11.70000      19.30000   31.00000    1.0\n",
      "8429        53.70     12.40000      24.70000   37.10000    1.0\n",
      "8593        35.70     10.10000      17.00000   27.10000    1.0\n",
      "8741        40.00      8.00000      28.00000   36.00000    2.0\n",
      "8979        52.00     11.80000      25.00000   36.80000    2.0\n",
      "9013        78.00     22.60000      28.40000   51.00000    1.0\n",
      "9063        40.70     12.00000      18.90000   30.90000    1.0\n",
      "9134        78.00     22.60000      28.40000   51.00000    1.0\n",
      "9166        92.50      0.00000           NaN        NaN    3.0\n",
      "9168        36.78     10.20000           NaN        NaN    2.0\n",
      "9169        38.14     10.80000           NaN        NaN    2.0\n",
      "9303        25.90      0.00000           NaN        NaN    1.0\n",
      "9434        43.67     12.20000      15.90000   28.10000    1.0\n",
      "9458        34.20     10.20000      16.70000   26.90000    1.0\n",
      "9550        85.10      0.00000           NaN        NaN    3.0\n",
      "9558        35.00     10.20000           NaN        NaN    2.0\n",
      "9561        35.69     10.00000           NaN        NaN    2.0\n",
      "9579        56.20      0.00000           NaN        NaN    2.0\n",
      "9581        56.60      0.00000           NaN        NaN    2.0\n",
      "9601        67.80      0.00000           NaN        NaN    2.0\n",
      "9602       128.30      0.00000           NaN        NaN    4.0\n",
      "9626        56.60      0.00000           NaN        NaN    2.0\n",
      "9843        38.60     11.00000      17.80000   28.80000    1.0\n",
      "9913        37.55     11.20000      15.40000   26.60000    1.0\n",
      "9944        74.00      0.00000           NaN        NaN    2.0\n",
      "9965        45.80     12.40000      26.70000   39.10000    1.0\n",
      "9968        25.60      0.00000           NaN        NaN    1.0\n",
      "9985        43.57     12.00000      16.10000   28.10000    1.0\n",
      "9986        45.20     13.40000      16.90000   30.30000    1.0\n",
      "9992        39.50     11.30000      19.70000   31.00000    1.0\n",
      "9993        41.40     12.20000      20.10000   32.30000    1.0\n",
      "10028       49.50     14.80000      21.00000   35.80000    1.0\n",
      "10049       59.10     15.01140       7.74210   22.75350    2.0\n",
      "10067       69.20      0.00000           NaN        NaN    2.0\n",
      "10072       58.30      0.00000           NaN        NaN    2.0\n",
      "10073       65.80      0.00000           NaN        NaN    2.0\n",
      "10077       77.40      0.00000           NaN        NaN    2.0\n",
      "10083       76.30      0.00000           NaN        NaN    2.0\n",
      "10084       78.90      0.00000           NaN        NaN    3.0\n",
      "10242       43.30     12.10000      14.40000   26.50000    1.0\n",
      "10258       68.00     16.12000      24.00000   40.12000    3.0\n",
      "10332       43.00     12.70000      20.50000   33.20000    1.0\n",
      "10353       47.70     13.70000      19.60000   33.30000    1.0\n",
      "10354       44.90     12.60000      22.40000   35.00000    1.0\n",
      "10355       59.10     15.01140       7.74210   22.75350    2.0\n",
      "10362       97.70      0.00000           NaN        NaN    3.0\n",
      "10401       75.40      0.00000           NaN        NaN    3.0\n",
      "10403       20.20      0.00000           NaN        NaN    1.0\n",
      "10404       24.60      0.00000           NaN        NaN    1.0\n",
      "10408       37.80     11.00000      18.10000   29.10000    1.0\n",
      "10417       79.00      0.00000           NaN        NaN    3.0\n",
      "10418       81.60      0.00000           NaN        NaN    3.0\n",
      "10427      109.10      0.00000           NaN        NaN    4.0\n",
      "10578       53.90     14.70000           NaN        NaN    2.0\n",
      "10626      149.60      0.00000           NaN        NaN    4.0\n",
      "10638       35.70     10.10000      16.90000   27.00000    1.0\n",
      "10639       37.50     10.10000      18.10000   28.20000    1.0\n",
      "10664       40.26     11.10000      20.60000   31.70000    1.0\n",
      "10675       39.85     11.50000      19.70000   31.20000    1.0\n",
      "10677       38.28     11.10000      18.10000   29.20000    1.0\n",
      "10678       44.14     12.10000      21.60000   33.70000    1.0\n",
      "10763      140.10     42.00000      49.80000   91.80000    2.0\n",
      "10808       43.30     11.40000      22.50000   33.90000    1.0\n",
      "10824       36.30     10.40000      17.30000   27.70000    1.0\n",
      "10826       39.30     11.10000      18.10000   29.20000    1.0\n",
      "10829       49.15     13.56540       5.35735   18.92275    2.0\n",
      "10830       38.85     10.20000      19.10000   29.30000    6.0\n",
      "10831       38.85     10.20000      19.10000   29.30000    6.0\n",
      "10835       57.11     14.40000      25.40000   39.80000    1.0\n",
      "10950       25.90      0.00000           NaN        NaN    1.0\n",
      "10961       65.70      0.00000           NaN        NaN    2.0\n",
      "10962       56.60      0.00000           NaN        NaN    1.0\n",
      "10964       74.00      0.00000           NaN        NaN    2.0\n",
      "10990       58.70      0.00000           NaN        NaN    2.0\n",
      "10995       38.50     11.50000      17.20000   28.70000    1.0\n",
      "11001       56.20      0.00000           NaN        NaN    2.0\n",
      "11010      107.80      0.00000           NaN        NaN    4.0\n",
      "11152      119.20      0.00000           NaN        NaN    3.0\n",
      "11157       46.70     13.30000      20.10000   33.40000    1.0\n",
      "11214       41.71     12.00000      21.70000   33.70000    1.0\n",
      "11226       52.60     12.90000      20.40000   33.30000    1.0\n",
      "11237      130.30     33.80000      45.00000   78.80000    2.0\n",
      "11261       65.16     18.80000           NaN        NaN    2.0\n",
      "11270       41.65     12.00000      21.70000   33.70000    1.0\n",
      "11271       37.60     10.10000      18.10000   28.20000    1.0\n",
      "11286       41.50     10.30000      22.60000   32.90000    1.0\n",
      "11287       45.30     12.40000      22.50000   34.90000    1.0\n",
      "11294       36.20     10.30000      17.20000   27.50000    1.0\n",
      "11302       42.90     11.40000      22.50000   33.90000    1.0\n",
      "11303       49.15     13.56540       5.35735   18.92275    2.0\n",
      "11372       49.70     14.50000      17.20000   31.70000    1.0\n",
      "11401       49.00     14.00000      19.00000   33.00000    2.0\n",
      "11422      106.80      0.00000           NaN        NaN    4.0\n",
      "11441      298.20      0.00000           NaN        NaN    5.0\n",
      "11452       77.40      0.00000           NaN        NaN    2.0\n",
      "11470      108.30      0.00000           NaN        NaN    4.0\n",
      "11473       33.72     10.00000           NaN        NaN    2.0\n",
      "11474       38.71     10.20000           NaN        NaN    2.0\n",
      "11490       75.40      0.00000           NaN        NaN    3.0\n",
      "11535       62.00      2.10000      43.00000   45.10000    3.0\n",
      "11597       41.20     10.60000      21.20000   31.80000    1.0\n",
      "11615       43.00     11.40000      22.60000   34.00000    1.0\n",
      "11630       41.20      0.00000           NaN        NaN    1.0\n",
      "11727       53.90     14.70000           NaN        NaN    2.0\n",
      "11749       30.00      8.00000      10.00000   18.00000    1.0\n",
      "11791       45.98     13.40000      21.50000   34.90000    1.0\n",
      "11827       53.60     12.60000      26.00000   38.60000    1.0\n",
      "11860       42.30     12.50000      18.90000   31.40000    1.0\n",
      "11874       31.00      0.00000           NaN        NaN    1.0\n",
      "11883       46.10     13.60000      18.20000   31.80000    1.0\n",
      "11885       59.10     15.01140       7.74210   22.75350    2.0\n",
      "11890       73.80      0.00000           NaN        NaN    3.0\n",
      "11913       38.00     11.00000      18.10000   29.10000    1.0\n",
      "11978      140.00     38.00000       7.80000   45.80000    3.0\n",
      "11993       43.37     12.00000      16.60000   28.60000    1.0\n",
      "12011       98.20      0.00000           NaN        NaN    3.0\n",
      "12028       35.90     10.10000      17.00000   27.10000    1.0\n",
      "12129       38.00     10.00000      15.00000   25.00000    1.0\n",
      "12136       44.99     12.40000      22.60000   35.00000    1.0\n",
      "12150       77.20     17.80000      10.70000   28.50000    3.0\n",
      "12194       43.57     12.00000      16.10000   28.10000    1.0\n",
      "12198       38.60     11.00000      17.80000   28.80000    1.0\n",
      "12204       77.50      0.00000           NaN        NaN    3.0\n",
      "12205       85.50      0.00000           NaN        NaN    3.0\n",
      "12206       72.20      0.00000           NaN        NaN    2.0\n",
      "12207       96.70      0.00000           NaN        NaN    4.0\n",
      "12220       60.10      0.00000           NaN        NaN    2.0\n",
      "12290      139.20      0.00000           NaN        NaN    4.0\n",
      "12293      161.00      0.00000           NaN        NaN    4.0\n",
      "12418       37.80     11.00000      18.00000   29.00000    1.0\n",
      "12556       61.40     14.10000      32.10000   46.20000    1.0\n",
      "12557       58.70     14.50000      24.50000   39.00000    1.0\n",
      "12590       47.00     13.00000       6.00000   19.00000    1.0\n",
      "12597       56.80     14.70000           NaN        NaN    2.0\n",
      "12637       52.60     12.90000      20.40000   33.30000    1.0\n",
      "12708       51.68     12.60000           NaN        NaN    1.0\n",
      "12709       78.03     13.80000           NaN        NaN    2.0\n",
      "12843       43.67     12.00000      16.10000   28.10000    1.0\n",
      "12850       53.60     13.30000      20.30000   33.60000    1.0\n",
      "12886       65.00     10.14000      19.00000   29.14000    2.0\n",
      "12963      223.00     60.00000      12.50000   72.50000    5.0\n",
      "12999       40.60     12.00000      18.90000   30.90000    1.0\n",
      "13086       52.00     12.50000           NaN        NaN    1.0\n",
      "13102       35.69     10.00000           NaN        NaN    2.0\n",
      "13151       43.40     11.40000      22.50000   33.90000    1.0\n",
      "13160       39.40     11.20000      19.60000   30.80000    1.0\n",
      "13163       39.30     11.10000      18.10000   29.20000    1.0\n",
      "13204       70.00     20.00000      20.00000   40.00000    1.0\n",
      "13215       53.40     12.20000      11.00000   23.20000    2.0\n",
      "13248       53.90     14.70000           NaN        NaN    2.0\n",
      "13294       44.30     12.70000      16.60000   29.30000    1.0\n",
      "13311       46.80     13.80000      17.90000   31.70000    1.0\n",
      "13389       75.00     17.00000      16.00000   33.00000    3.0\n",
      "13400       88.70     26.20000      17.50000   43.70000    3.0\n",
      "13407       60.60     13.20000      15.30000   28.50000    2.0\n",
      "13413       77.00     17.00000      10.00000   27.00000    3.0\n",
      "13442       23.30      0.00000           NaN        NaN    1.0\n",
      "13452       56.60      0.00000           NaN        NaN    2.0\n",
      "13495       40.10     11.70000      19.00000   30.70000    1.0\n",
      "13568       52.77     12.50000           NaN        NaN    3.0\n",
      "13607       44.90     13.20000      21.20000   34.40000    1.0\n",
      "13619       39.30     11.10000      18.10000   29.20000    1.0\n",
      "13621       49.15     13.56540       5.35735   18.92275    2.0\n",
      "13622       43.60     11.30000      22.70000   34.00000    1.0\n",
      "13623       43.50     11.40000      22.90000   34.30000    1.0\n",
      "13642      105.60     30.00000      20.00000   50.00000    1.0\n",
      "13708       47.00     13.00000      21.00000   34.00000    2.0\n",
      "13797       43.30     11.30000      22.70000   34.00000    1.0\n",
      "13905       43.37     12.00000      16.60000   28.60000    1.0\n",
      "13966      139.20      0.00000           NaN        NaN    4.0\n",
      "13971      137.70      0.00000           NaN        NaN    4.0\n",
      "13972       42.90     10.80000      21.70000   32.50000    1.0\n",
      "13973       99.90      0.00000           NaN        NaN    3.0\n",
      "14016       39.90     11.10000      18.00000   29.10000    1.0\n",
      "14104       30.00      8.00000           NaN        NaN    1.0\n",
      "14116       59.40      0.00000           NaN        NaN    2.0\n",
      "14124       36.10      9.80000      17.90000   27.70000    1.0\n",
      "14217       41.20     10.60000      21.20000   31.80000    1.0\n",
      "14221       39.70     11.00000      17.90000   28.90000    1.0\n",
      "14241       35.70     10.10000      17.00000   27.10000    1.0\n",
      "14242       41.20     10.60000      21.20000   31.80000    1.0\n",
      "14313       46.10     13.60000      18.20000   31.80000    1.0\n",
      "14317       46.70     13.70000      22.30000   36.00000    1.0\n",
      "14318       49.30      0.00000           NaN        NaN    2.0\n",
      "14329       58.10      0.00000           NaN        NaN    2.0\n",
      "14335       99.00      0.00000           NaN        NaN    4.0\n",
      "14455       39.98     11.20000      19.60000   30.80000    1.0\n",
      "14459       41.50     10.90000      16.00000   26.90000    1.0\n",
      "14620       52.60     13.00000      21.90000   34.90000    1.0\n",
      "14627       54.00     15.00000      30.00000   45.00000    2.0\n",
      "14731       61.50     14.10000      32.10000   46.20000    1.0\n",
      "14836       43.60     11.40000      22.80000   34.20000    1.0\n",
      "14883       39.40     11.20000      18.20000   29.40000    1.0\n",
      "14885       44.90     13.20000      21.20000   34.40000    1.0\n",
      "14886       39.30     11.10000      18.00000   29.10000    1.0\n",
      "14996       71.60      0.00000           NaN        NaN    2.0\n",
      "15088       30.00      8.00000           NaN        NaN    1.0\n",
      "15164       34.90     10.20000      15.40000   25.60000    1.0\n",
      "15180       35.70     10.10000      17.00000   27.10000    1.0\n",
      "15186       39.40     11.20000      18.10000   29.30000    1.0\n",
      "15190       44.60     12.20000      22.30000   34.50000    1.0\n",
      "15275       55.00     15.95000       5.22500   21.17500    2.0\n",
      "15336       65.23     18.80000           NaN        NaN    2.0\n",
      "15351       36.31     10.80000      17.20000   28.00000    1.0\n",
      "15353       36.19     10.40000      17.30000   27.70000    1.0\n",
      "15471       75.26     20.50000      31.90000   52.40000    2.0\n",
      "15490       53.90     14.70000           NaN        NaN    2.0\n",
      "15540       35.00      8.20000      15.10000   23.30000    1.0\n",
      "15605       61.50     14.10000      32.10000   46.20000    1.0\n",
      "15706       73.40      9.30000       9.30000   18.60000    3.0\n",
      "15880      127.40      9.00000      10.00000   19.00000    5.0\n",
      "15932       48.20     13.00000      18.30000   31.30000    1.0\n",
      "15952       54.20     14.50000      20.80000   35.30000    1.0\n",
      "15973       43.50     12.80000      19.10000   31.90000    1.0\n",
      "15980       62.84     18.80000           NaN        NaN    2.0\n",
      "15998       36.19     10.40000      17.90000   28.30000    1.0\n",
      "16018       38.83     10.95000      18.30000   29.25000    1.0\n",
      "16136       44.60     12.20000      22.30000   34.50000    1.0\n",
      "16151       35.70     10.10000      17.00000   27.10000    1.0\n",
      "16377       90.00     19.00000      11.00000   30.00000    3.0\n",
      "16561       75.60     15.00000      50.00000   65.00000    3.0\n",
      "16582       43.50     11.50000      22.70000   34.20000    1.0\n",
      "16592       39.50     11.20000      19.60000   30.80000    1.0\n",
      "16727       41.00     10.00000      16.00000   26.00000    1.0\n",
      "16744       76.00     15.00000      15.00000   30.00000    2.0\n",
      "16801       53.90     14.70000           NaN        NaN    2.0\n",
      "16810       77.00      0.00000           NaN        NaN    4.0\n",
      "16877       44.70     12.70000      16.60000   29.30000    1.0\n",
      "16880       77.00     15.60000      35.50000   51.10000    1.0\n",
      "16908       40.50     12.10000      17.70000   29.80000    1.0\n",
      "16912       44.99     12.40000      22.60000   35.00000    1.0\n",
      "16930       52.90     14.80000      22.00000   36.80000    1.0\n",
      "17010       41.20     10.60000      21.20000   31.80000    1.0\n",
      "17022       37.55     11.20000      15.40000   26.60000    1.0\n",
      "17027       44.60     12.20000      22.30000   34.50000    1.0\n",
      "17056       64.60      0.00000           NaN        NaN    2.0\n",
      "17181       40.20     11.10000      18.10000   29.20000    1.0\n",
      "17295       44.90     13.20000      21.20000   34.40000    1.0\n",
      "17296       39.30     11.10000      18.10000   29.20000    1.0\n",
      "17307       49.15     13.56540       5.35735   18.92275    2.0\n",
      "17360       53.90     14.70000           NaN        NaN    2.0\n",
      "17538       45.30     10.00000      22.00000   32.00000    1.0\n",
      "17585       41.20     10.60000      21.20000   31.80000    1.0\n",
      "17638       54.20     14.50000      20.80000   35.30000    1.0\n",
      "17639       56.20     13.60000      23.20000   36.80000    1.0\n",
      "17678       40.40     12.00000      18.30000   30.30000    1.0\n",
      "17706       91.00      2.00000           NaN        NaN    2.0\n",
      "17731       54.60     12.90000      26.30000   39.20000    1.0\n",
      "17787       60.36     17.70000      25.30000   43.00000    1.0\n",
      "17808       41.20     10.60000      21.20000   31.80000    1.0\n",
      "17813       43.50     12.00000      16.10000   28.10000    1.0\n",
      "17860       30.00      8.00000           NaN        NaN    1.0\n",
      "17912       60.20     16.00000           NaN        NaN    2.0\n",
      "17932       55.10     15.60000           NaN        NaN    2.0\n",
      "18146       39.40     11.20000      19.60000   30.80000    1.0\n",
      "18148       39.40     11.20000      18.20000   29.40000    1.0\n",
      "18149       41.50     10.30000      22.60000   32.90000    1.0\n",
      "18150       39.90     11.10000      18.10000   29.20000    1.0\n",
      "18160       41.50     10.70000      21.30000   32.00000    1.0\n",
      "18255       36.00      9.00000      15.00000   24.00000    1.0\n",
      "18325       56.60     16.41400       5.37700   21.79100    2.0\n",
      "18349       37.60     10.10000      18.10000   28.20000    1.0\n",
      "18416       45.35     12.20000      19.10000   31.30000    1.0\n",
      "18424       44.47     12.40000      22.20000   34.60000    1.0\n",
      "18426       42.82     12.30000      19.70000   32.00000    1.0\n",
      "18507       35.70     10.70000      16.90000   27.60000    1.0\n",
      "18540       36.30     10.70000           NaN        NaN    2.0\n",
      "18567       36.50     10.80000           NaN        NaN    2.0\n",
      "18568       48.20     12.60000           NaN        NaN    2.0\n",
      "18663       73.00     15.00000      25.00000   40.00000    3.0\n",
      "18711       44.90     13.20000      21.20000   34.40000    1.0\n",
      "18723       37.97     10.10000      14.30000   24.40000    1.0\n",
      "18736       39.30     11.10000      18.10000   29.20000    1.0\n",
      "18737       40.00     11.20000      18.20000   29.40000    1.0\n",
      "18786       53.90     14.70000           NaN        NaN    2.0\n",
      "18834       36.30     10.60000      12.90000   23.50000    1.0\n",
      "18861       57.80     15.20140       7.05160   22.25300    1.0\n",
      "18889       42.90     11.40000      22.50000   33.90000    1.0\n",
      "19104       64.44     19.00000      30.90000   49.90000    1.0\n",
      "19127       40.50     11.60000      20.10000   31.70000    1.0\n",
      "19141       52.50     12.90000      20.30000   33.20000    1.0\n",
      "19174       37.60     10.10000      18.10000   28.20000    1.0\n",
      "19260       61.72      9.90000           NaN        NaN    1.0\n",
      "19335       86.52     25.80000      10.00000   35.80000    2.0\n",
      "19505       39.90     11.80000      18.30000   30.10000    1.0\n",
      "19556       35.70     10.10000      17.00000   27.10000    1.0\n",
      "19558       44.90     13.20000      21.20000   34.40000    1.0\n",
      "19652       34.50     10.20000      16.70000   26.90000    1.0\n",
      "19752       43.40     13.00000      17.20000   30.20000    1.0\n",
      "19775       49.40     13.80000      24.10000   37.90000    1.0\n",
      "19835       46.30     13.10000      20.30000   33.40000    1.0\n",
      "19905       35.00     10.00000       6.00000   16.00000    1.0\n",
      "20009      124.84     31.00000      23.00000   54.00000    4.0\n",
      "20058       39.50     11.10000      18.10000   29.20000    1.0\n",
      "20211       47.40     14.00000           NaN        NaN    1.0\n",
      "20212       52.00     14.00000           NaN        NaN    1.0\n",
      "20214       40.50     11.60000      20.10000   31.70000    1.0\n",
      "20225       39.40     11.20000      19.60000   30.80000    1.0\n",
      "20227       36.20     10.30000      17.70000   28.00000    1.0\n",
      "20229       39.40     11.20000      18.20000   29.40000    1.0\n",
      "20233       46.00     12.90000      20.90000   33.80000    1.0\n",
      "20240       43.60     11.50000      22.70000   34.20000    1.0\n",
      "20348       94.10     17.80000      48.70000   66.50000    1.0\n",
      "20399      145.90     35.80000      49.50000   85.30000    2.0\n",
      "20610       82.00     20.00000       8.00000   28.00000    3.0\n",
      "20670       41.20     10.60000      21.20000   31.80000    1.0\n",
      "20712       75.49     14.20000           NaN        NaN    2.0\n",
      "20717       53.74     15.50000      25.10000   40.60000    1.0\n",
      "20733       61.41     16.30000      27.20000   43.50000    1.0\n",
      "20761       37.75     10.40000      15.30000   25.70000    1.0\n",
      "20766       60.00     13.00000           NaN        NaN    2.0\n",
      "20785       45.18     12.20000      19.40000   31.60000    1.0\n",
      "20849       53.40     12.60000      26.00000   38.60000    1.0\n",
      "20854       70.00     19.20000      13.00000   32.20000    2.0\n",
      "21014       39.90     10.20000      17.70000   27.90000    1.0\n",
      "21043       86.80     19.50000      16.50000   36.00000    2.0\n",
      "21158       46.10     13.10000      20.30000   33.40000    1.0\n",
      "21159       46.70     13.20000      20.40000   33.60000    1.0\n",
      "21309       39.50     11.10000      18.10000   29.20000    1.0\n",
      "21353       43.40     13.00000      17.20000   30.20000    1.0\n",
      "21355       40.00     11.20000      18.20000   29.40000    1.0\n",
      "21357       39.90     11.10000      18.10000   29.20000    1.0\n",
      "21358       42.90     11.20000      22.30000   33.50000    1.0\n",
      "21359       39.40     11.20000      19.60000   30.80000    1.0\n",
      "21368       43.40     13.00000      17.20000   30.20000    1.0\n",
      "21465       40.20     10.50000      19.70000   30.20000    1.0\n",
      "21472       35.00     10.40000      15.30000   25.70000    1.0\n",
      "21536       62.76     16.30000      27.30000   43.60000    2.0\n",
      "21602       50.30     13.90000      17.70000   31.60000    1.0\n",
      "21668       41.50     10.90000      16.00000   26.90000    1.0\n",
      "21669       43.50     12.80000      19.10000   31.90000    1.0\n",
      "21708       42.82     12.30000      19.70000   32.00000    1.0\n",
      "21720       45.35     12.20000      19.10000   31.30000    1.0\n",
      "21782       53.40     12.60000      26.00000   38.60000    1.0\n",
      "21881       40.90     11.60000      18.50000   30.10000    1.0\n",
      "21897       60.90     10.10000      17.00000   27.10000    1.0\n",
      "21899       41.20     10.60000      21.20000   31.80000    1.0\n",
      "21904       35.70     10.70000      16.90000   27.60000    1.0\n",
      "21931       78.50     11.00000      10.30000   21.30000    3.0\n",
      "21969       43.51     12.20000      15.50000   27.70000    1.0\n",
      "22073       46.10     13.10000      20.30000   33.40000    1.0\n",
      "22080       40.00      8.80000       5.00000   13.80000    1.0\n",
      "22232       39.50     11.10000      18.10000   29.20000    1.0\n",
      "22281       37.97     10.10000      14.30000   24.40000    1.0\n",
      "22322       45.10     13.10000      21.60000   34.70000    1.0\n",
      "22336       47.40     14.00000           NaN        NaN    1.0\n",
      "22337       35.70     10.10000      17.00000   27.10000    1.0\n",
      "22343       49.15     13.56540       5.35735   18.92275    2.0\n",
      "22344       39.50     11.20000      19.60000   30.80000    1.0\n",
      "22345       43.00     11.50000      22.70000   34.20000    1.0\n",
      "22350       44.90     13.20000      21.20000   34.40000    1.0\n",
      "22352       46.00     12.90000      20.90000   33.80000    1.0\n",
      "22353       39.90     11.10000      18.00000   29.10000    1.0\n",
      "22356       42.90     11.60000      17.20000   28.80000    1.0\n",
      "22360       44.50     13.00000           NaN        NaN    1.0\n",
      "22364       36.00      9.00000      14.00000   23.00000    1.0\n",
      "22395       21.20      5.61800       2.73480    8.35280    1.0\n",
      "22448       48.90     13.30000      22.40000   35.70000    1.0\n",
      "22498      145.00     33.60000      53.90000   87.50000    2.0\n",
      "22520       54.00     16.14000       9.00000   25.14000    2.0\n",
      "22537       49.20     14.00000      20.00000   34.00000    1.0\n",
      "22541       38.50     10.40000      18.10000   28.50000    1.0\n",
      "22611       37.60     10.10000      18.10000   28.20000    1.0\n",
      "22645       41.20     10.60000      21.20000   31.80000    1.0\n",
      "22667       51.00     13.00000      21.80000   34.80000    1.0\n",
      "22670       74.44     16.60000           NaN        NaN    2.0\n",
      "22702       39.87     11.50000      19.70000   31.20000    1.0\n",
      "22762       54.60     12.90000      26.30000   39.20000    1.0\n",
      "22837       35.70     10.10000      17.00000   27.10000    1.0\n",
      "22847       39.50     11.30000      19.70000   31.00000    1.0\n",
      "22852       53.60     13.30000      20.30000   33.60000    1.0\n",
      "22862       44.90     12.60000      22.40000   35.00000    1.0\n",
      "22887       57.80     15.20140       7.05160   22.25300    1.0\n",
      "22915       65.40     19.20000       9.00000   28.20000    2.0\n",
      "22950       34.50     10.00000      16.00000   26.00000    1.0\n",
      "22964      357.00    107.00000      17.00000  124.00000    6.0\n",
      "22973       46.70     13.20000      20.40000   33.60000    1.0\n",
      "23003       70.20     16.00000      30.00000   46.00000    1.0\n",
      "23036       35.70     10.10000      17.00000   27.10000    1.0\n",
      "23143       43.50     11.40000      22.80000   34.20000    1.0\n",
      "23163       35.90     10.10000      17.00000   27.10000    1.0\n",
      "23177       42.90     11.40000      22.50000   33.90000    1.0\n",
      "23179       43.50     11.50000      22.70000   34.20000    1.0\n",
      "23180       43.50     11.50000      22.70000   34.20000    1.0\n",
      "23287       39.40     11.20000      19.60000   30.80000    1.0\n",
      "23330       43.40     11.40000      22.60000   34.00000    1.0\n",
      "23364       36.00     10.10000      17.00000   27.10000    1.0\n",
      "23373       44.60     12.40000      22.50000   34.90000    1.0\n",
      "23378       39.40     11.20000      18.20000   29.40000    1.0\n",
      "23379       45.10     10.30000      19.20000   29.50000    1.0\n",
      "23382       39.50     11.20000      19.60000   30.80000    1.0\n",
      "23383       37.80     10.10000      18.10000   28.20000    1.0\n",
      "23385       43.30     11.40000      22.50000   33.90000    1.0\n",
      "23386       44.90     13.20000      21.20000   34.40000    1.0\n",
      "23395       36.60     10.10000      17.00000   27.10000    1.0\n",
      "23405       35.90     10.10000      17.00000   27.10000    1.0\n",
      "23543       43.30     11.20000           NaN        NaN    1.0\n",
      "23613       89.00     24.70000       7.50000   32.20000    1.0\n",
      "23614      116.51     30.20000       6.20000   36.40000    2.0\n",
      "23626      160.00     22.18000      40.00000   62.18000    3.0\n",
      "23751       51.90     15.10000      17.40000   32.50000    1.0\n",
      "23757       54.50     15.10000      17.40000   32.50000    1.0\n",
      "23785       72.40     16.20000      30.60000   46.80000    1.0\n",
      "23791       51.30     15.10000      17.40000   32.50000    1.0\n",
      "23810       41.82     12.00000      21.70000   33.70000    1.0\n",
      "23818       46.40     11.00000      21.00000   32.00000    1.0\n",
      "23820       44.80     12.70000      21.10000   33.80000    1.0\n",
      "23836       54.30     12.30000      19.90000   32.20000    1.0\n",
      "23862       53.30     15.10000      17.40000   32.50000    1.0\n",
      "23928       54.80     13.40000      28.40000   41.80000    1.0\n",
      "23987       36.10      9.80000      17.80000   27.60000    1.0\n",
      "23998       45.93     12.40000      24.00000   36.40000    1.0\n",
      "24014       54.30     13.30000      28.20000   41.50000    1.0\n",
      "24016       55.80     13.30000      29.00000   42.30000    1.0\n",
      "24021       52.90     13.30000      27.00000   40.30000    1.0\n",
      "24403       40.46     12.00000      12.60000   24.60000    1.0\n",
      "24415       38.10     10.90000      18.10000   29.00000    1.0\n",
      "24459      349.00    103.00000      32.00000  135.00000    6.0\n",
      "24487       92.50     19.80000      33.60000   53.40000    1.0\n",
      "24593       66.70     12.16000      15.00000   27.16000    2.0\n",
      "24612       83.20     19.70000      39.60000   59.30000    1.0\n",
      "24621      107.30     31.20000      12.10000   43.30000    2.0\n",
      "24636      100.00     17.23000      17.00000   34.23000    3.0\n",
      "24718       99.78     29.80000      37.60000   67.40000    2.0\n",
      "25032       49.40     13.80000      24.10000   37.90000    1.0\n",
      "25039       47.50     13.10000      23.30000   36.40000    1.0\n",
      "25060       49.40     13.80000      24.10000   37.90000    2.0\n",
      "25089       84.02     19.10000      33.40000   52.50000    1.0\n",
      "25097      128.89     34.40000      48.00000   82.40000    2.0\n",
      "25158      294.00     52.00000      29.00000   81.00000    3.0\n",
      "25278       45.00     11.50000      21.50000   33.00000    1.0\n",
      "25323       49.30     13.90000      17.70000   31.60000    1.0\n",
      "25357       38.10     10.90000      17.50000   28.40000    1.0\n",
      "25375       46.65     13.40000           NaN        NaN    1.0\n",
      "25445       54.30     13.00000      22.00000   35.00000    1.0\n",
      "25527       36.20     10.40000      17.30000   27.70000    1.0\n",
      "25625       34.90     10.40000      16.70000   27.10000    1.0\n",
      "25637       37.40     10.00000      14.80000   24.80000    1.0\n",
      "25673       45.50     12.60000      20.80000   33.40000    1.0\n",
      "25801       36.20     10.30000      17.60000   27.90000    1.0\n",
      "25815       39.40     11.20000      19.60000   30.80000    1.0\n",
      "25840       40.10     11.20000      19.80000   31.00000    1.0\n",
      "25842       46.60     13.10000      21.90000   35.00000    1.0\n",
      "25849       43.60     11.40000      22.80000   34.20000    1.0\n",
      "25851       39.40     11.20000      18.20000   29.40000    1.0\n",
      "25858       40.00     11.20000      18.20000   29.40000    1.0\n",
      "25861       51.36     13.50768       6.26592   19.77360    2.0\n",
      "26001       49.10     14.70000           NaN        NaN    1.0\n",
      "26004       47.80     13.70000           NaN        NaN    1.0\n",
      "26023       59.61     17.70000      13.70000   31.40000    1.0\n",
      "26060      376.39     89.95721      80.54746  170.50467    2.0\n",
      "26113       53.80     15.40000      17.40000   32.80000    1.0\n",
      "26162       51.70     13.50000      18.50000   32.00000    1.0\n",
      "26165       54.80     12.30000      19.90000   32.20000    1.0\n",
      "26192       44.30     12.60000      23.40000   36.00000    1.0\n",
      "26193       55.70     15.10000      17.40000   32.50000    1.0\n",
      "26227       54.50     13.30000      28.20000   41.50000    1.0\n",
      "26271       36.40      9.80000      17.90000   27.70000    1.0\n",
      "26304       40.20     11.80000      20.60000   32.40000    2.0\n",
      "26478       55.20     15.10000      21.50000   36.60000    2.0\n",
      "26500      102.00     17.22000      24.00000   41.22000    3.0\n",
      "26565       49.90      0.00000      19.00000   19.00000    1.0\n",
      "26667       91.10     19.80000      33.60000   53.40000    1.0\n",
      "26713       82.10     19.70000      39.60000   59.30000    1.0\n",
      "26743      189.00     55.00000      20.00000   75.00000    4.0\n",
      "26856       52.90     15.10000      17.40000   32.50000    1.0\n",
      "26877       54.50     13.30000      28.30000   41.60000    1.0\n",
      "26943       36.00      2.00000       8.00000   10.00000    2.0\n",
      "27439       46.99     13.50000      22.50000   36.00000    1.0\n",
      "27465       47.00     14.00000      12.00000   26.00000    1.0\n",
      "27470       53.90     14.76860       5.98290   20.75150    2.0\n",
      "27504       31.70      8.00000      15.30000   23.30000    1.0\n",
      "27513       42.20     11.70000      21.10000   32.80000    1.0\n",
      "27519       47.90     13.50000      19.70000   33.20000    1.0\n",
      "27562      105.00      0.00000           NaN        NaN    3.0\n",
      "27650       55.00     13.30000      28.50000   41.80000    1.0\n",
      "27677       45.70     12.60000      20.80000   33.40000    1.0\n",
      "27776      208.60      0.00000           NaN        NaN    4.0\n",
      "27781       99.40      0.00000           NaN        NaN    2.0\n",
      "27784       54.60     15.00000      21.60000   36.60000    1.0\n",
      "27796       68.46     14.10000      32.90000   47.00000    1.0\n",
      "27797       40.46     12.00000      12.60000   24.60000    1.0\n",
      "27807       50.90     12.06330       7.53320   19.59650    1.0\n",
      "27818       45.93     12.40000      23.80000   36.20000    1.0\n",
      "27835       52.40     12.30000      19.90000   32.20000    1.0\n",
      "27837       54.50     15.10000      17.40000   32.50000    1.0\n",
      "27849       53.70     15.10000      17.40000   32.50000    1.0\n",
      "27867       39.40     11.20000      19.60000   30.80000    1.0\n",
      "27868       43.40     11.50000      22.70000   34.20000    1.0\n",
      "27879       50.50     15.13000      11.00000   26.13000    2.0\n",
      "27907      148.10     36.50000      63.60000  100.10000    2.0\n",
      "27981       72.15     15.10000      35.30000   50.40000    1.0\n",
      "28022      435.20    122.00000           NaN        NaN    6.0\n",
      "28024       53.50     12.50000      24.60000   37.10000    1.0\n",
      "28025       41.69     12.00000      21.70000   33.70000    1.0\n",
      "28027       54.80     12.30000      19.90000   32.20000    1.0\n",
      "28063       43.60     11.40000      22.80000   34.20000    1.0\n",
      "28096       55.60     15.10000      17.40000   32.50000    1.0\n",
      "28102      100.70     29.80000      37.60000   67.40000    2.0\n",
      "28193       41.82     12.00000      21.70000   33.70000    1.0\n",
      "28238      181.20      0.00000           NaN        NaN    4.0\n",
      "28240       68.13     16.60000      37.20000   53.80000    1.0\n",
      "28348       40.20     12.00000      18.00000   30.00000    1.0\n",
      "28409       51.60     12.20000      18.50000   30.70000    1.0\n",
      "28490       35.90     10.10000      17.00000   27.10000    1.0\n",
      "28509       83.00     19.90000      32.40000   52.30000    1.0\n",
      "28604       76.00     20.00000      20.00000   40.00000    3.0\n",
      "28644       41.82     12.00000      21.70000   33.70000    1.0\n",
      "28649       53.50     12.50000      24.60000   37.10000    1.0\n",
      "28660       55.80     13.30000      29.00000   42.30000    1.0\n",
      "28665       52.60     13.30000      27.00000   40.30000    1.0\n",
      "28819       54.60     15.00000      21.60000   36.60000    1.0\n",
      "28826       49.00     14.00000      23.00000   37.00000    2.0\n",
      "28863       40.30     11.00000      20.00000   31.00000    1.0\n",
      "28883       76.00     21.10000      28.40000   49.50000    1.0\n",
      "28887       51.60     12.20000      18.50000   30.70000    1.0\n",
      "28915       54.70     13.30000      28.50000   41.80000    1.0\n",
      "28932       64.00     16.80000      13.50000   30.30000    2.0\n",
      "28982       66.00     19.17000      13.00000   32.17000    2.0\n",
      "29015       68.34     14.10000      32.90000   47.00000    1.0\n",
      "29036       39.40     11.20000      18.20000   29.40000    1.0\n",
      "29251       35.70     10.10000      17.00000   27.10000    1.0\n",
      "29252       39.30     11.10000      18.10000   29.20000    1.0\n",
      "29392       54.90     15.10000      17.40000   32.50000    1.0\n",
      "29411       44.80     12.70000      21.10000   33.80000    1.0\n",
      "29516       37.90     10.50000      14.00000   24.50000    1.0\n",
      "29549       43.30     11.30000      22.70000   34.00000    1.0\n",
      "29550       40.00     11.20000      18.20000   29.40000    1.0\n",
      "29616       76.00     17.00000      25.00000   42.00000    2.0\n",
      "29664       41.20     10.60000      21.20000   31.80000    1.0\n",
      "29770       62.00     18.00000      25.00000   43.00000    1.0\n",
      "29808      185.00      0.00000      10.00000   10.00000    5.0\n",
      "29883       43.30     11.20000      14.00000   25.20000    1.0\n",
      "29946       52.62     13.00000      23.00000   36.00000    1.0\n",
      "29958       66.70     16.20000      30.60000   46.80000    1.0\n",
      "29976       54.10     15.10000      17.40000   32.50000    1.0\n",
      "29986      185.00     50.10000      38.50000   88.60000    4.0\n",
      "30032       54.60     13.30000      28.20000   41.50000    1.0\n",
      "30094       35.70     10.10000      17.00000   27.10000    1.0\n",
      "30258       42.60     11.00000      19.40000   30.40000    1.0\n",
      "30262       44.70     12.00000      17.90000   29.90000    1.0\n",
      "30263       35.90     10.10000      17.00000   27.10000    2.0\n",
      "30309       45.10     12.40000      22.50000   34.90000    1.0\n",
      "30310      141.20     34.60000      40.00000   74.60000    2.0\n",
      "30326       49.20     13.80000      19.40000   33.20000    1.0\n",
      "30374       52.40     12.30000      19.90000   32.20000    1.0\n",
      "30448       39.30     11.10000      18.10000   29.20000    1.0\n",
      "30466       49.60     13.90000      17.70000   31.60000    1.0\n",
      "30525       49.10     14.50000      20.50000   35.00000    1.0\n",
      "30600       49.40     13.80000      24.10000   37.90000    1.0\n",
      "30627       61.36     17.70000      13.70000   31.40000    1.0\n",
      "30701       40.00      9.21000           NaN        NaN    2.0\n",
      "30743       53.90     13.30000      28.00000   41.30000    1.0\n",
      "30746       54.50     13.30000      28.30000   41.60000    1.0\n",
      "30750       36.40      9.80000      17.90000   27.70000    1.0\n",
      "30783       54.60     12.90000      26.30000   39.20000    1.0\n",
      "30809       76.10     16.50000      11.80000   28.30000    3.0\n",
      "30815       30.80      8.30000      15.80000   24.10000    1.0\n",
      "30826       42.20     11.70000      21.10000   32.80000    1.0\n",
      "30827       48.70      9.64260       9.10690   18.74950    2.0\n",
      "30830       52.00     12.18000      10.00000   22.18000    2.0\n",
      "30946       39.40     11.20000      18.20000   29.40000    1.0\n",
      "31071       44.80     12.70000      21.10000   33.80000    1.0\n",
      "31122       34.10     10.10000      15.80000   25.90000    1.0\n",
      "31130       41.20     10.60000      21.20000   31.80000    1.0\n",
      "31132       34.80     10.40000      17.00000   27.40000    1.0\n",
      "31134       41.00     12.00000      19.90000   31.90000    1.0\n",
      "31172       58.00     14.00000      27.00000   41.00000    1.0\n",
      "31179       47.50     13.10000      23.30000   36.40000    1.0\n",
      "31224       48.80     12.10000      22.40000   34.50000    2.0\n",
      "31234       43.60     11.40000      22.80000   34.20000    1.0\n",
      "31235       39.50     11.20000      19.60000   30.80000    1.0\n",
      "31270      128.89     34.40000      47.90000   82.30000    2.0\n",
      "31278       73.20     19.20000      32.90000   52.10000    1.0\n",
      "31281      141.00     17.00000      22.70000   39.70000    4.0\n",
      "31282       84.25     11.30000      49.20000   60.50000    1.0\n",
      "31298       93.00     27.00000      25.00000   52.00000    3.0\n",
      "31415       42.40     12.10000      17.70000   29.80000    1.0\n",
      "31447       44.89     13.10000      22.90000   36.00000    1.0\n",
      "31507       37.75     11.30000      15.00000   26.30000    1.0\n",
      "31622       39.30     11.10000      18.10000   29.20000    1.0\n",
      "31624       41.20     10.60000      21.20000   31.80000    1.0\n",
      "31625       34.80     10.40000      17.00000   27.40000    1.0\n",
      "31633       41.00     12.00000      19.90000   31.90000    1.0\n",
      "31669       44.50     13.00000           NaN        NaN    1.0\n",
      "31704       50.46     14.40000      19.00000   33.40000    1.0\n",
      "31741       39.50     11.20000      19.60000   30.80000    1.0\n",
      "31762       40.10     11.90000      18.80000   30.70000    1.0\n",
      "31922       46.00     13.00000      16.00000   29.00000    2.0\n",
      "31954       57.90     17.00000      22.70000   39.70000    1.0\n",
      "32112       54.50     13.30000      28.30000   41.60000    1.0\n",
      "32202       30.80      8.30000      15.80000   24.10000    1.0\n",
      "32203       34.40     10.20000      17.00000   27.20000    1.0\n",
      "32224       48.90     13.30000      22.40000   35.70000    1.0\n",
      "32365       41.60      9.80000       9.80000   19.60000    1.0\n",
      "32368       46.00     13.20000      24.00000   37.20000    1.0\n",
      "32408       43.30     11.20000      14.00000   25.20000    1.0\n",
      "32410       43.30     11.20000           NaN        NaN    1.0\n",
      "32412       47.80     13.70000      18.10000   31.80000    1.0\n",
      "32413       47.80     13.70000           NaN        NaN    1.0\n",
      "32414       49.20     13.80000      19.40000   33.20000    1.0\n",
      "32474       52.40     12.30000      19.90000   32.20000    1.0\n",
      "32537       53.40     13.30000      27.60000   40.90000    1.0\n",
      "32728       39.40     11.20000      19.60000   30.80000    1.0\n",
      "32803       36.20     10.40000      17.30000   27.70000    1.0\n",
      "32812       55.13     13.90000      11.80000   25.70000    2.0\n",
      "32814       41.50     10.30000      22.60000   32.90000    1.0\n",
      "32857       54.60     15.00000      21.60000   36.60000    1.0\n",
      "32865       53.60     13.30000      27.60000   40.90000    1.0\n",
      "32886       53.90     14.70000      21.00000   35.70000    1.0\n",
      "33040       39.30     11.10000      18.10000   29.20000    1.0\n",
      "33133       89.30     26.70000      20.00000   46.70000    2.0\n",
      "33152       39.40     11.20000      19.60000   30.80000    1.0 \n",
      "        area_total  area_living  area_kitchen  sum_area  rooms\n",
      "56          70.40      57.0000        7.0000   64.0000    3.0\n",
      "72          22.20      20.0000           NaN       NaN    1.0\n",
      "73          18.50      16.5000           NaN       NaN    1.0\n",
      "216         38.00      31.0000        7.0000   38.0000    1.0\n",
      "471        125.00     104.0000       20.0000  124.0000    3.0\n",
      "549         40.30          NaN        8.0600   40.3000    1.0\n",
      "677         35.00      31.0000           NaN       NaN    1.0\n",
      "852         84.40      77.4000        7.0000   84.4000    3.0\n",
      "855         80.00      64.2000        9.0000   73.2000    2.0\n",
      "1107         9.30       7.6539        1.3020    8.9559    1.0\n",
      "1111       115.00      98.0000       15.0000  113.0000    3.0\n",
      "1311        31.70      25.7000        6.0000   31.7000    1.0\n",
      "1326        28.09      25.6000           NaN       NaN    1.0\n",
      "1341        26.85      24.4000           NaN       NaN    1.0\n",
      "1390        44.24      41.7000           NaN       NaN    2.0\n",
      "1411        44.64      42.1000           NaN       NaN    2.0\n",
      "1452        55.70      53.2000           NaN       NaN    2.0\n",
      "1498        70.31      67.8000           NaN       NaN    3.0\n",
      "1518        70.56      68.1000           NaN       NaN    3.0\n",
      "1651       100.00      87.0000       13.0000  100.0000    3.0\n",
      "1713        34.10      32.0000           NaN       NaN    1.0\n",
      "1730        26.50      21.9000           NaN       NaN    1.0\n",
      "1792        20.00      18.0000           NaN       NaN    1.0\n",
      "1816        32.50      28.0000           NaN       NaN    1.0\n",
      "1968        71.50      60.5000       11.0000   71.5000    3.0\n",
      "2019        59.50      49.3000       10.2000   59.5000    2.0\n",
      "2106        59.00      55.0000           NaN       NaN    3.0\n",
      "2126        82.30      66.6000        8.0000   74.6000    2.0\n",
      "2144        18.00      15.0000        3.0000   18.0000    1.0\n",
      "2317       115.00     100.0000       14.0000  114.0000    4.0\n",
      "2372       115.00     100.0000       14.0000  114.0000    4.0\n",
      "2538       140.00     119.0000       21.0000  140.0000    3.0\n",
      "2540       185.00     150.0000       25.0000  175.0000    4.0\n",
      "2546       738.80     640.0000       25.0000  665.0000    6.0\n",
      "2793       145.00     122.0000       20.0000  142.0000    3.0\n",
      "2799       330.00     270.0000       20.0000  290.0000    6.0\n",
      "2804       990.00     900.0000       35.0000  935.0000    6.0\n",
      "2822       169.40     149.7000       19.7000  169.4000    4.0\n",
      "2835       210.80     194.3000       16.5000  210.8000    6.0\n",
      "3033        78.64      65.8000       11.3000   77.1000    3.0\n",
      "3035        85.81      70.8000       15.0000   85.8000    4.0\n",
      "3057       173.00     155.0000       10.0000  165.0000    4.0\n",
      "3058       200.00     170.0000           NaN       NaN    4.0\n",
      "3071       171.00     140.0000       20.0000  160.0000    4.0\n",
      "3075        37.00      30.0000        7.0000   37.0000    1.0\n",
      "3082       125.00          NaN       31.2500  140.6250    3.0\n",
      "3096       220.00     180.0000       20.0000  200.0000    6.0\n",
      "3118        80.00      65.0000        8.0000   73.0000    2.0\n",
      "3153       204.00     170.0000       20.0000  190.0000    4.0\n",
      "3171        37.00      30.0000           NaN       NaN    1.0\n",
      "3175        55.30      46.1000        5.5000   51.6000    3.0\n",
      "3238        78.00      63.0000        8.0000   71.0000    3.0\n",
      "3270       106.00      85.0000        5.0000   90.0000    2.0\n",
      "3281       164.00     132.0000       18.0000  150.0000    5.0\n",
      "3299        85.60      69.0000           NaN       NaN    3.0\n",
      "3395       188.00     155.0000       10.0000  165.0000    3.0\n",
      "3403       223.00     180.0000       10.0000  190.0000    3.0\n",
      "3421       186.00     150.0000       30.0000  180.0000    3.0\n",
      "3426       220.80     180.0000           NaN       NaN    3.0\n",
      "3465       224.00     180.0000           NaN       NaN    3.0\n",
      "3486       249.10     200.0000       20.0000  220.0000    5.0\n",
      "3493       210.00     170.0000       20.0000  190.0000    5.0\n",
      "3548       232.00     191.0000           NaN       NaN    4.0\n",
      "3568       160.00     138.0000       10.0000  148.0000    3.0\n",
      "3602        15.00      15.0000           NaN       NaN    1.0\n",
      "3661        32.70      30.0000           NaN       NaN    1.0\n",
      "4297        88.90      74.2000       11.9000   86.1000    3.0\n",
      "4306       107.00      88.0000           NaN       NaN    5.0\n",
      "4527        45.00      37.0000           NaN       NaN    2.0\n",
      "4601       121.20     115.8000           NaN       NaN    3.0\n",
      "4625       122.30     116.8000           NaN       NaN    3.0\n",
      "4655       183.43     171.4000           NaN       NaN    4.0\n",
      "4663       186.70     179.0000           NaN       NaN    5.0\n",
      "4908        46.00      40.0000        6.0000   46.0000    2.0\n",
      "4991        62.55      50.6000           NaN       NaN    1.0\n",
      "5002       127.97     106.4000           NaN       NaN    4.0\n",
      "5030        29.00      27.0000           NaN       NaN    1.0\n",
      "5087        84.07      71.6000           NaN       NaN    3.0\n",
      "5109        64.32      52.2000           NaN       NaN    1.0\n",
      "5138        23.70      19.5000        1.6000   21.1000    1.0\n",
      "5142        23.30      19.5000        1.6000   21.1000    1.0\n",
      "5309       236.35     215.4000           NaN       NaN    4.0\n",
      "5360        18.00      15.0000        3.0000   18.0000    1.0\n",
      "5703        11.60       9.6000           NaN       NaN    1.0\n",
      "5705        17.00      14.5000           NaN       NaN    1.0\n",
      "5915       105.00      89.2500       15.7500  105.0000    4.0\n",
      "5986        12.50      10.5000           NaN       NaN    1.0\n",
      "6107       108.50      97.6500       10.8500  108.5000    2.0\n",
      "6147        34.10      28.0000        6.0000   34.0000    2.0\n",
      "6187        27.47      25.7000           NaN       NaN    1.0\n",
      "6480        44.80          NaN        8.9600   44.8000    2.0\n",
      "6528        99.60          NaN       19.9200   99.6000    3.0\n",
      "6602        76.20      65.0000       10.0000   75.0000    3.0\n",
      "6703       133.00     107.0000           NaN       NaN    3.0\n",
      "6720       338.24     285.0000       30.0000  315.0000    6.0\n",
      "6783       117.00      98.0000           NaN       NaN    3.0\n",
      "6795       106.00      88.0000       15.0000  103.0000    3.0\n",
      "6799        15.10      12.9000           NaN       NaN    1.0\n",
      "6800        19.90      17.0000           NaN       NaN    1.0\n",
      "6894       100.00      87.0000       13.0000  100.0000    3.0\n",
      "6923       107.20      89.2000        9.3000   98.5000    3.0\n",
      "6933        23.80      19.9000           NaN       NaN    1.0\n",
      "6983        31.70      25.7000           NaN       NaN    1.0\n",
      "6989        55.33      52.8000           NaN       NaN    2.0\n",
      "7013        78.86      63.5000        8.8000   72.3000    3.0\n",
      "7017        56.73      54.2000           NaN       NaN    2.0\n",
      "7106        87.80      71.6000           NaN       NaN    3.0\n",
      "7136       107.10     105.8000           NaN       NaN    4.0\n",
      "7234        17.90      17.9000           NaN       NaN    1.0\n",
      "7426        65.70      53.0000       12.0000   65.0000    3.0\n",
      "7433        66.00      54.0000       12.0000   66.0000    3.0\n",
      "7555       108.50      90.0000           NaN       NaN    3.0\n",
      "7566        90.00      75.9000       14.1000   90.0000    2.0\n",
      "7592        60.00      49.0000        8.0000   57.0000    2.0\n",
      "7662       125.00     105.0000       20.0000  125.0000    4.0\n",
      "7705       122.00     105.0000       10.0000  115.0000    4.0\n",
      "7712       345.00     295.0000       50.0000  345.0000    6.0\n",
      "7783       170.00     140.0000       20.0000  160.0000    4.0\n",
      "7839       246.00     200.0000       36.0000  236.0000    5.0\n",
      "7841       162.00     130.0000       20.0000  150.0000    3.0\n",
      "7851       254.50     231.7000       22.8000  254.5000    4.0\n",
      "7965       224.30     195.0000       20.0000  215.0000    3.0\n",
      "8047       260.00     210.0000       20.0000  230.0000    6.0\n",
      "8053       310.00     270.0000       30.0000  300.0000    6.0\n",
      "8104       106.00      95.0000        8.0000  103.0000    2.0\n",
      "8129       184.00     150.0000           NaN       NaN    3.0\n",
      "8131       217.00     175.0000       10.0000  185.0000    4.0\n",
      "8209       165.00     135.0000           NaN       NaN    3.0\n",
      "8213       217.00     175.0000           NaN       NaN    3.0\n",
      "8230       105.00      90.0000           NaN       NaN    2.0\n",
      "8240        61.00      49.0000       12.0000   61.0000    2.0\n",
      "8241       171.00     145.0000       20.0000  165.0000    5.0\n",
      "8257       268.00     230.0000       20.0000  250.0000    5.0\n",
      "8277       112.70     104.6000        4.0000  108.6000    3.0\n",
      "8279       115.70     110.4000        4.0000  114.4000    3.0\n",
      "8294       203.50     172.0000       12.0000  184.0000    5.0\n",
      "8332       106.00      88.0000       17.0000  105.0000    2.0\n",
      "8505        15.00      13.0000        2.0000   15.0000    1.0\n",
      "8557        20.00      17.0000           NaN       NaN    1.0\n",
      "8740        54.00      44.0000        6.0000   50.0000    3.0\n",
      "8759        57.70      57.7000           NaN       NaN    1.0\n",
      "8840        39.00      32.2000           NaN       NaN    1.0\n",
      "8888        55.50          NaN        8.6000   57.4000    2.0\n",
      "9103       154.50     139.8000       14.7000  154.5000    4.0\n",
      "9419        86.53      76.3000           NaN       NaN    3.0\n",
      "9627        61.68      50.2000           NaN       NaN    1.0\n",
      "9634       127.97     106.4000           NaN       NaN    4.0\n",
      "9642        64.71      52.7000           NaN       NaN    1.0\n",
      "9655        66.42      55.2000           NaN       NaN    2.0\n",
      "9668       223.00     180.0000       30.0000  210.0000    5.0\n",
      "9700       124.00     112.0000       10.0000  122.0000    3.0\n",
      "10152       16.00      13.0000        3.0000   16.0000    1.0\n",
      "10208       32.00      27.0000           NaN       NaN    1.0\n",
      "10275      182.10     175.0000           NaN       NaN    4.0\n",
      "10312      165.30     145.0000           NaN       NaN    5.0\n",
      "10383       23.00      19.0000        4.0000   23.0000    1.0\n",
      "10398       86.53      76.3000           NaN       NaN    3.0\n",
      "10410       64.00      55.0000        7.0000   62.0000    3.0\n",
      "10601      220.00     190.0000       20.0000  210.0000    3.0\n",
      "10913       84.07      71.6000           NaN       NaN    3.0\n",
      "10918       83.00      70.0000           NaN       NaN    2.0\n",
      "10993       23.30      19.5000        1.6000   21.1000    1.0\n",
      "11092       58.00      49.0000        6.0000   55.0000    3.0\n",
      "11205       24.00      20.0000           NaN       NaN    1.0\n",
      "11341       53.00      45.0000        7.0000   52.0000    2.0\n",
      "11525      148.00     124.3200       23.6800  148.0000    4.0\n",
      "11526      300.00     250.0000       25.0000  275.0000    5.0\n",
      "11652      116.20     102.4000       10.0000  112.4000    3.0\n",
      "11665       65.90      54.9000       10.0000   64.9000    3.0\n",
      "11782       54.00      44.1000        6.0000   50.1000    2.0\n",
      "11783       49.40          NaN        6.0000   50.1000    1.0\n",
      "11915       23.70      19.0000        2.2000   21.2000    1.0\n",
      "11916       23.40      19.0000        2.2000   21.2000    1.0\n",
      "12016       99.00      91.0000           NaN       NaN    2.0\n",
      "12131       55.00      44.1000        6.0000   50.1000    2.0\n",
      "12132       44.40          NaN        6.0000   50.1000    1.0\n",
      "12188       23.00      19.0000        2.0000   21.0000    1.0\n",
      "12363       84.90      71.5000           NaN       NaN    3.0\n",
      "12598      101.00      87.7000        4.8000   92.5000    4.0\n",
      "12617      161.90     151.0000        7.0000  158.0000    3.0\n",
      "12693       76.00      63.0000       10.0000   73.0000    3.0\n",
      "12742       38.60      32.0000           NaN       NaN    2.0\n",
      "12884       44.50      44.5000           NaN       NaN    1.0\n",
      "12893      127.97     106.4000           NaN       NaN    4.0\n",
      "12973       42.00      34.0000        5.0000   39.0000    2.0\n",
      "12998       92.00          NaN       18.4000  103.9600    3.0\n",
      "13090      171.40     151.1000       20.3000  171.4000    4.0\n",
      "13098      242.20     223.6000       18.6000  242.2000    5.0\n",
      "13201       60.00      60.0000           NaN       NaN    1.0\n",
      "13388       55.00          NaN       10.3000   56.2000    2.0\n",
      "13456       64.32      52.2000           NaN       NaN    1.0\n",
      "13557       48.00      39.0000        8.0000   47.0000    1.0\n",
      "13679       89.00      72.9000       10.0000   82.9000    3.0\n",
      "13684      115.00     103.5000       11.5000  115.0000    3.0\n",
      "13727       14.30      12.0000           NaN       NaN    1.0\n",
      "13737       90.00      75.0000        9.0000   84.0000    2.0\n",
      "13947      134.00     110.0000       20.0000  130.0000    3.0\n",
      "14005       81.30      77.3000           NaN       NaN    1.0\n",
      "14006       82.00      74.0000           NaN       NaN    3.0\n",
      "14033       37.00          NaN        9.5000   41.7000    2.0\n",
      "14111       61.68      50.2000           NaN       NaN    1.0\n",
      "14155       87.00      70.0000        9.0000   79.0000    3.0\n",
      "14422       33.00      28.0000           NaN       NaN    1.0\n",
      "14448       18.30      16.0000        2.0000   18.0000    1.0\n",
      "14460       60.10      48.2000        6.0000   54.2000    3.0\n",
      "14615       86.80      71.6000           NaN       NaN    3.0\n",
      "14656       69.60      57.0000           NaN       NaN    1.0\n",
      "14662      187.00     150.0000       30.0000  180.0000    5.0\n",
      "14677       92.00      74.0000        8.0000   82.0000    3.0\n",
      "14757      151.00     121.0000       20.0000  141.0000    4.0\n",
      "14830       51.40      42.2000           NaN       NaN    3.0\n",
      "14965       58.00      50.0000        7.0000   57.0000    2.0\n",
      "14998      187.90     173.2000       14.7000  187.9000    5.0\n",
      "15433       33.00      27.0000        6.0000   33.0000    1.0\n",
      "15439       32.70      30.0000           NaN       NaN    1.0\n",
      "15481       65.10      60.0000        5.0000   65.0000    1.0\n",
      "15497       50.00      50.0000           NaN       NaN    1.0\n",
      "15508      138.00     120.0000       14.0000  134.0000    4.0\n",
      "15511      103.00      86.0000       11.0000   97.0000    3.0\n",
      "15512      108.00      95.0000           NaN       NaN    3.0\n",
      "15521      153.00     135.0000       18.0000  153.0000    4.0\n",
      "15756      172.00     143.0000       15.0000  158.0000    3.0\n",
      "15803      127.00     107.9500       19.0500  127.0000    2.0\n",
      "15835      296.40     264.6000           NaN       NaN    5.0\n",
      "15845       36.20      31.2000           NaN       NaN    2.0\n",
      "15852       56.20      51.2000           NaN       NaN    3.0\n",
      "15858       74.00      70.0000           NaN       NaN    4.0\n",
      "15922      132.00     109.0000        8.0000  117.0000    3.0\n",
      "15929      141.40     115.3824       26.0176  141.4000    4.0\n",
      "15964       26.50      21.9000           NaN       NaN    1.0\n",
      "16238       64.62      52.6000           NaN       NaN    1.0\n",
      "16248      236.35     215.4000           NaN       NaN    4.0\n",
      "16380       25.00      21.0000           NaN       NaN    1.0\n",
      "16454       57.40      47.4000       10.0000   57.4000    2.0\n",
      "16458       66.00      58.0000        8.0000   66.0000    2.0\n",
      "16501      419.80     354.0000       24.0000  378.0000    6.0\n",
      "16505      131.90     109.8000       22.1000  131.9000    3.0\n",
      "16558       70.40      57.0000        8.0000   65.0000    3.0\n",
      "16645      187.40     150.0000       20.0000  170.0000    3.0\n",
      "16671      113.20      92.0000       13.3000  105.3000    4.0\n",
      "16771      103.00      90.0000       13.0000  103.0000    3.0\n",
      "16786      217.00     202.0000       15.0000  217.0000    5.0\n",
      "16803       61.40      56.4000           NaN       NaN    3.0\n",
      "16853      120.00      97.0000       15.0000  112.0000    4.0\n",
      "17135      117.00     100.0000       16.0000  116.0000    4.0\n",
      "17158       77.00      62.0000       10.0000   72.0000    3.0\n",
      "17273       40.00      34.0000           NaN       NaN    1.0\n",
      "17350      220.00     190.0000       10.0000  200.0000    3.0\n",
      "17364      127.85     106.3000           NaN       NaN    4.0\n",
      "17370      131.60     110.1000        7.0000  117.1000    5.0\n",
      "17374       62.94      52.2000           NaN       NaN    1.0\n",
      "17512       64.00      54.0000       10.0000   64.0000    2.0\n",
      "17519      131.00     110.0000       15.0000  125.0000    4.0\n",
      "17560       80.00      70.0000           NaN       NaN    1.0\n",
      "17856       58.60      50.4000        6.0000   56.4000    3.0\n",
      "17875       84.80      68.4000        7.0000   75.4000    4.0\n",
      "17884      119.10     106.5000           NaN       NaN    3.0\n",
      "17913       64.62      52.6000           NaN       NaN    1.0\n",
      "17922      145.40     129.8000           NaN       NaN    4.0\n",
      "17927      151.50     127.5000       20.2000  147.7000    4.0\n",
      "18214       96.00      90.9000           NaN       NaN    3.0\n",
      "18218      169.60     140.0000       20.0000  160.0000    1.0\n",
      "18319      164.00     135.0000       15.0000  150.0000    3.0\n",
      "18475       15.00      15.0000           NaN       NaN    1.0\n",
      "18884      122.00     100.0000       20.0000  120.0000    4.0\n",
      "19045       20.00      16.4000           NaN       NaN    1.0\n",
      "19055       51.00      46.5000           NaN       NaN    2.0\n",
      "19068       87.00      75.0000           NaN       NaN    2.0\n",
      "19267       40.00      33.0000           NaN       NaN    2.0\n",
      "19272       72.00      59.0000        8.0000   67.0000    3.0\n",
      "19278       26.50      21.9000           NaN       NaN    1.0\n",
      "19520       83.60      72.2000        7.9000   80.1000    3.0\n",
      "19663       75.00      63.0000       12.0000   75.0000    4.0\n",
      "19664       62.64      50.8000           NaN       NaN    1.0\n",
      "19734       65.83      54.8000           NaN       NaN    1.0\n",
      "19884      116.00     114.0000           NaN       NaN    4.0\n",
      "19896       21.00      21.0000           NaN       NaN    1.0\n",
      "20037      121.00     111.0000           NaN       NaN    3.0\n",
      "20043      546.00     460.0000       35.0000  495.0000    6.0\n",
      "20314       60.00      60.0000           NaN       NaN    1.0\n",
      "20336      112.00     102.0000           NaN       NaN    4.0\n",
      "20361       53.00      43.0000       10.0000   53.0000    2.0\n",
      "20384       66.54      66.5000           NaN       NaN    2.0\n",
      "20422       80.00      65.0000       12.0000   77.0000    4.0\n",
      "20429      127.00     103.0000       24.0000  127.0000    3.0\n",
      "20431      158.00     130.0000       25.0000  155.0000    3.0\n",
      "20592       68.00      55.0000       10.0000   65.0000    2.0\n",
      "20617       51.00      51.0000           NaN       NaN    1.0\n",
      "20701       46.80      38.0000        6.5000   44.5000    2.0\n",
      "20722       46.00      38.0000        7.0000   45.0000    2.0\n",
      "20734      109.00     109.0000           NaN       NaN    3.0\n",
      "21006      117.00      94.0000        8.5000  102.5000    6.0\n",
      "21036       95.00      77.6000       13.1000   90.7000    3.0\n",
      "21105       21.00      17.0000        2.0000   19.0000    1.0\n",
      "21148      120.00     110.0000           NaN       NaN    3.0\n",
      "21294      170.00     140.0000       19.0000  159.0000    5.0\n",
      "21401       90.00      75.0000        9.0000   84.0000    2.0\n",
      "21538      156.00          NaN       25.0000  169.0000    3.0\n",
      "21566       32.00      27.0000           NaN       NaN    1.0\n",
      "21599      137.30     120.0000       15.8000  135.8000    3.0\n",
      "21621       32.80      31.4000           NaN       NaN    1.0\n",
      "21628       37.70      35.2000           NaN       NaN    1.0\n",
      "21630       38.70      36.1000           NaN       NaN    1.0\n",
      "21644       44.40      43.3000           NaN       NaN    1.0\n",
      "21645       59.60      55.5000           NaN       NaN    2.0\n",
      "21647       55.30      52.7000           NaN       NaN    2.0\n",
      "21686       26.50      21.9000           NaN       NaN    1.0\n",
      "21807       14.40      12.0000           NaN       NaN    1.0\n",
      "22160       30.00      25.0000           NaN       NaN    1.0\n",
      "22172      123.00     105.0000       14.0000  119.0000    4.0\n",
      "22174       99.00          NaN       15.0000  106.0000    2.0\n",
      "22208       95.00          NaN       22.0000  107.0000    3.0\n",
      "22228      162.00     130.0000       20.0000  150.0000    3.0\n",
      "22403       31.00          NaN        8.0000   35.0000    1.0\n",
      "22410      108.50      97.7000           NaN       NaN    3.0\n",
      "22469       88.90      80.9000           NaN       NaN    3.0\n",
      "22633      107.10     105.8000           NaN       NaN    4.0\n",
      "22648       32.20      26.2000        6.0000   32.2000    1.0\n",
      "22659       38.55      37.0000           NaN       NaN    1.0\n",
      "22666       54.60      52.2000           NaN       NaN    2.0\n",
      "22709       53.46          NaN       10.5000   56.5000    2.0\n",
      "22728      119.00     119.0000           NaN       NaN    4.0\n",
      "22809       18.40      16.1000        2.0000   18.1000    1.0\n",
      "22822       45.00      39.8000           NaN       NaN    2.0\n",
      "22869      108.00      91.8000       16.2000  108.0000    4.0\n",
      "22937       39.00          NaN       10.1000   42.2000    1.0\n",
      "23023       22.30      20.0000        2.0000   22.0000    1.0\n",
      "23035      122.00     103.0000       14.4000  117.4000    3.0\n",
      "23085      263.00     230.0000       24.0000  254.0000    5.0\n",
      "23224       20.80      17.0000           NaN       NaN    1.0\n",
      "23286       54.00      50.0000        4.0000   54.0000    1.0\n",
      "23333       23.37      21.7000           NaN       NaN    1.0\n",
      "23891       72.00      58.0000       10.0000   68.0000    3.0\n",
      "23937       24.10      20.0000           NaN       NaN    1.0\n",
      "24065      115.30     104.2000           NaN       NaN    1.0\n",
      "24095       16.00      14.0000           NaN       NaN    1.0\n",
      "24181       58.00      48.0000        5.0000   53.0000    2.0\n",
      "24188       68.72      60.0000        5.7000   65.7000    2.0\n",
      "24194      107.30      97.0000        5.3000  102.3000    3.0\n",
      "24221      327.00     270.0000       16.0000  286.0000    5.0\n",
      "24289       58.00      50.0000           NaN       NaN    2.0\n",
      "24412      202.00     170.0000       30.0000  200.0000    4.0\n",
      "24430       42.12      35.0000        5.1000   40.1000    1.0\n",
      "24458      119.10     119.1000           NaN       NaN    1.0\n",
      "24463      520.00     500.0000           NaN       NaN    1.0\n",
      "24482      186.00     155.0000       20.0000  175.0000    4.0\n",
      "24519      326.00     280.0000       30.0000  310.0000    6.0\n",
      "24544      163.50     140.0000       20.0000  160.0000    4.0\n",
      "24547      360.00     300.0000       50.0000  350.0000    5.0\n",
      "24571       62.00      52.0000        6.0000   58.0000    3.0\n",
      "24634       93.00      75.0000           NaN       NaN    2.0\n",
      "24653      180.00     157.0000       15.0000  172.0000    5.0\n",
      "24663      115.00      97.7500       17.2500  115.0000    3.0\n",
      "24956       44.40      38.0000        6.0000   44.0000    2.0\n",
      "25102      280.00     224.3000       30.0000  254.3000    5.0\n",
      "25177       14.00      14.0000           NaN       NaN    1.0\n",
      "25657       72.00      58.0000       13.0000   71.0000    2.0\n",
      "25739       19.00      16.5000        2.5000   19.0000    1.0\n",
      "25986      176.00     147.0000       23.0000  170.0000    3.0\n",
      "26088      101.00      85.0000       10.0000   95.0000    3.0\n",
      "26191       81.90          NaN        8.3000   82.0000    3.0\n",
      "26273       63.20      51.0000        6.0000   57.0000    4.0\n",
      "26414       83.20      73.0000        5.2000   78.2000    3.0\n",
      "26428       47.39      40.0000        5.4000   45.4000    1.0\n",
      "26431       48.01      42.0000        3.5000   45.5000    1.0\n",
      "26533       65.03      58.0000        5.0000   63.0000    2.0\n",
      "26556       45.28      38.0000        5.8000   43.8000    1.0\n",
      "26574       57.00      57.0000           NaN       NaN    1.0\n",
      "26575       85.70      85.7000           NaN       NaN    3.0\n",
      "26597      126.00     116.0000       10.0000  126.0000    4.0\n",
      "26693      190.00     160.0000           NaN       NaN    3.0\n",
      "26712       72.58      63.0000        5.6000   68.6000    2.0\n",
      "26777       89.30      78.3000       11.0000   89.3000    3.0\n",
      "26894       41.00      34.5000        6.5000   41.0000    2.0\n",
      "27037       50.90      41.0000        8.0000   49.0000    2.0\n",
      "27143       45.42      38.0000        5.4000   43.4000    1.0\n",
      "27158      129.50     105.0000           NaN       NaN    3.0\n",
      "27352       56.10      54.0000           NaN       NaN    2.0\n",
      "27399      132.00     112.2000       19.8000  132.0000    4.0\n",
      "27401       23.10      20.0000           NaN       NaN    1.0\n",
      "27404       21.00      21.0000           NaN       NaN    1.0\n",
      "27628      157.00     134.0000       17.0000  151.0000    4.0\n",
      "27741       18.00      15.0000        2.0000   17.0000    1.0\n",
      "27764       85.00      70.0000           NaN       NaN    2.0\n",
      "27802       47.25      40.0000        5.3000   45.3000    1.0\n",
      "27876       95.00      87.0000        8.0000   95.0000    3.0\n",
      "27899       65.20      55.0000        5.2000   60.2000    2.0\n",
      "27984      126.00     104.5800       21.4200  126.0000    3.0\n",
      "27998       44.65      36.0000        4.7000   40.7000    2.0\n",
      "28081      110.88     101.0000        5.9000  106.9000    3.0\n",
      "28083       65.32      57.0000        5.3000   62.3000    2.0\n",
      "28174      152.00     136.8000       15.2000  152.0000    4.0\n",
      "28246       22.30      18.3000           NaN       NaN    1.0\n",
      "28247       29.80      25.8000           NaN       NaN    2.0\n",
      "28248       43.80      39.8000           NaN       NaN    3.0\n",
      "28250       79.20      75.2000           NaN       NaN    3.0\n",
      "28290       58.00      48.0000        6.0000   54.0000    3.0\n",
      "28361       68.04      58.0000        5.0000   63.0000    2.0\n",
      "28379       52.00      47.3000           NaN       NaN    1.0\n",
      "28517      262.00     252.0000           NaN       NaN    1.0\n",
      "28619      191.00     160.0000       13.0000  173.0000    5.0\n",
      "28702       45.60      36.6000        6.0000   42.6000    2.0\n",
      "28730       59.10          NaN       17.1000   65.2000    2.0\n",
      "28816       65.32      57.0000        5.3000   62.3000    2.0\n",
      "28959       35.00          NaN       12.9000   45.0000    1.0\n",
      "28961       60.50      49.2000        8.0000   57.2000    2.0\n",
      "28998       62.90      51.0000        6.5000   57.5000    4.0\n",
      "29122       44.65      38.0000        4.2000   42.2000    1.0\n",
      "29123      110.35     100.0000        5.4000  105.4000    3.0\n",
      "29386       36.70      30.0000           NaN       NaN    2.0\n",
      "29401      304.00     250.0000       54.0000  304.0000    4.0\n",
      "29404       24.60      20.0000        2.0000   22.0000    1.0\n",
      "29480      120.00      98.0000        8.0000  106.0000    4.0\n",
      "29497      161.00     130.0000       26.0000  156.0000    4.0\n",
      "29501      248.00     200.0000           NaN       NaN    6.0\n",
      "29595      110.88     101.0000        5.9000  106.9000    3.0\n",
      "29609       21.40      18.9000        2.5000   21.4000    1.0\n",
      "29779       30.20      26.2000           NaN       NaN    2.0\n",
      "29892      387.00     323.0000       25.0000  348.0000    6.0\n",
      "29923      133.00     111.7200       21.2800  133.0000    3.0\n",
      "29948       46.50      40.0000        5.0000   45.0000    1.0\n",
      "29962      120.00     105.0000       15.0000  120.0000    4.0\n",
      "30214      150.00     130.0000       15.0000  145.0000    4.0\n",
      "30219      240.00     200.0000       20.0000  220.0000    5.0\n",
      "30224       68.47      58.0000        5.5000   63.5000    2.0\n",
      "30252       88.00      75.1000       12.9000   88.0000    3.0\n",
      "30284       68.72      60.0000        5.7000   65.7000    2.0\n",
      "30293      115.00      97.7500       17.2500  115.0000    4.0\n",
      "30407      120.00     102.0000       18.0000  120.0000    3.0\n",
      "30444      192.45     160.0000       14.0000  174.0000    6.0\n",
      "30461       53.20      44.0000        7.0000   51.0000    3.0\n",
      "30482       87.00      70.0000       11.0000   81.0000    4.0\n",
      "30543      327.00     270.0000       16.0000  286.0000    5.0\n",
      "30613       83.71      78.4000           NaN       NaN    3.0\n",
      "30659      136.00     119.0000       17.0000  136.0000    3.0\n",
      "30810       17.00      17.0000           NaN       NaN    1.0\n",
      "30854       24.30      19.5000           NaN       NaN    1.0\n",
      "30902      108.60      89.9000       11.0000  100.9000    3.0\n",
      "30969      107.30      97.0000        5.3000  102.3000    3.0\n",
      "30972       71.25      63.0000        5.3000   68.3000    2.0\n",
      "31011      108.70      92.3950       16.3050  108.7000    3.0\n",
      "31154       80.00      65.0000       10.0000   75.0000    4.0\n",
      "31175      150.00          NaN       22.5000  202.5000    4.0\n",
      "31202      138.00     124.2000       13.8000  138.0000    3.0\n",
      "31214      260.00     250.0000       10.0000  260.0000    5.0\n",
      "31248       83.20      73.0000        5.2000   78.2000    3.0\n",
      "31302      201.00     170.0000       20.0000  190.0000    4.0\n",
      "31388      189.00     160.0000           NaN       NaN    3.0\n",
      "31410       78.00      70.0000           NaN       NaN    2.0\n",
      "31463       78.86      63.5000        8.8000   72.3000    3.0\n",
      "31722       20.00      17.0000        3.0000   20.0000    1.0\n",
      "31813       58.00      50.0000           NaN       NaN    2.0\n",
      "31952       67.00      57.0000        9.0000   66.0000    2.0\n",
      "32039       43.80      36.0000        6.0000   42.0000    2.0\n",
      "32044       80.00      70.0000           NaN       NaN    2.0\n",
      "32056       74.00      60.0000        8.0000   68.0000    4.0\n",
      "32059       78.00      70.0000           NaN       NaN    3.0\n",
      "32108       24.70      20.6000           NaN       NaN    1.0\n",
      "32205       28.30      23.9000        4.0000   27.9000    1.0\n",
      "32242       23.40      19.0000           NaN       NaN    1.0\n",
      "32321      138.00     124.2000       13.8000  138.0000    3.0\n",
      "32388      207.60     184.3000           NaN       NaN    3.0\n",
      "32396       82.00      80.0000           NaN       NaN    3.0\n",
      "32441      105.00          NaN       30.0000  133.0000    3.0\n",
      "32449       82.00      70.0000           NaN       NaN    2.0\n",
      "32456       36.30      32.3000           NaN       NaN    2.0\n",
      "32508       54.40      44.3000        8.0000   52.3000    2.0\n",
      "32571       18.00      18.0000           NaN       NaN    1.0\n",
      "32663       23.30      19.0000           NaN       NaN    1.0\n",
      "32723       22.00      18.0000        4.0000   22.0000    1.0\n",
      "32836       71.03      61.0000        5.0000   66.0000    2.0\n",
      "32912      165.30     135.6000           NaN       NaN    4.0\n",
      "33085      104.90      85.0000       10.0000   95.0000    3.0\n",
      "33140      124.00     100.0000       20.0000  120.0000    3.0\n"
     ]
    }
   ],
   "source": [
    "data_train, data_test = import_data()\n",
    "pd.set_option('display.max_rows', 1000)\n",
    "\n",
    "#sometimes we have to look at all the data togheter\n",
    "all_data = pd.concat([data_train,data_test],ignore_index=True)\n",
    "print(all_data[['area_living','area_kitchen']].value_counts())\n",
    "\n",
    "\n",
    "\n",
    "all_data['living'] = all_data.area_living/all_data.area_total\n",
    "all_data['kitchen'] = all_data.area_kitchen/all_data.area_total\n",
    "#all_data.boxplot(column='living')\n",
    "#I expected this number to be less than 1, looking at the boxplot this doesnt give much sense\n",
    "print(all_data[all_data['living']>1][['area_living','area_kitchen','area_total','rooms','bathrooms_private']])\n",
    "print(all_data[all_data['kitchen']>1].head())\n",
    "\n",
    "all_data_living_1 = all_data[all_data['living'] > 1]\n",
    "\n",
    "#looking at this data this is all very small apparments. As some columns is very close to sum living and kitchen to 1, i think all of these are in precentage.\n",
    "#the ones who dont add up have a private bathroom, meaning that this takes up the rest of the space\n",
    "#solution is to multiply. However, how do we find these errors among the bigger appartmens.\n",
    "\n",
    "#print(all_data[all_data.index.duplicated()])\n",
    "all_data.loc[all_data['living'] > 1,'area_living'] = all_data['area_living'] * all_data['area_total']/100\n",
    "all_data.loc[all_data['living'] > 1,'area_kitchen'] = all_data['area_kitchen'] * all_data['area_total']/100\n",
    "\n",
    "#There are errors in row 842, 12595,13573, 25924. Here area living is bigger than area_total, therefore i will just put NaN\n",
    "all_data.loc[all_data.area_living/all_data.area_total > 1, 'area_living'] = float('NaN')\n",
    "\n",
    "all_data['living'] = all_data.area_living/all_data.area_total\n",
    "all_data['kitchen'] = all_data.area_kitchen/all_data.area_total\n",
    "\n",
    "#Now we have no obvious errors, but i know there are still some errors in these columns, lets look at the ones with a really low score.\n",
    "\n",
    "#all_data_small_living = all_data[all_data['living'] < 0.2]\n",
    "#all_data_big_living = all_data[all_data['living'] > 0.9]\n",
    "#print(all_data_small_living,'\\n',all_data_big_living)\n",
    "#there is a clear tendency that there are still a lot of precentage in the data. It is quite clear that if the sum of area_kitchen and area_living sums up to 100, it is given in precentage\n",
    "all_data['sum_area'] = all_data.area_living + all_data.area_kitchen\n",
    "all_data.loc[all_data['sum_area'] == 100, 'area_living'] = all_data['area_living'] * all_data['area_total']/100\n",
    "all_data.loc[all_data['sum_area'] == 100, 'area_kitchen'] = all_data['area_kitchen'] * all_data['area_total']/100\n",
    "\n",
    "#this fixed some few rows.\n",
    "#when printing we see some other very clear \"precentage situations, fixing these\n",
    "all_data.loc[all_data['sum_area'] == 38.5, 'area_living'] = all_data['area_living'] * all_data['area_total']/100\n",
    "all_data.loc[all_data['sum_area'] == 38.5, 'area_kitchen'] = all_data['area_kitchen'] * all_data['area_total']/100\n",
    "all_data.loc[all_data['sum_area'] == 52.7, 'area_living'] = all_data['area_living'] * all_data['area_total']/100\n",
    "all_data.loc[all_data['sum_area'] == 52.7, 'area_kitchen'] = all_data['area_kitchen'] * all_data['area_total']/100\n",
    "all_data.loc[all_data['sum_area'] == 71.6, 'area_living'] = all_data['area_living'] * all_data['area_total']/100\n",
    "all_data.loc[all_data['sum_area'] == 71.6, 'area_kitchen'] = all_data['area_kitchen'] * all_data['area_total']/100\n",
    "all_data.loc[(all_data['sum_area'] == 80) & (all_data['area_kitchen'] == 20), 'area_living'] = all_data['area_living'] * all_data['area_total']/100\n",
    "all_data.loc[(all_data['sum_area'] == 80) & (all_data['area_kitchen'] == 20), 'area_kitchen'] = all_data['area_kitchen'] * all_data['area_total']/100\n",
    "all_data.loc[(all_data['sum_area'] == 80) & (all_data['area_kitchen'] == 15), 'area_living'] = all_data['area_living'] * all_data['area_total']/100\n",
    "all_data.loc[(all_data['sum_area'] == 80) & (all_data['area_kitchen'] == 15), 'area_kitchen'] = all_data['area_kitchen'] * all_data['area_total']/100\n",
    "all_data.loc[(all_data['sum_area'] == 80) & (all_data['area_kitchen'] == 10), 'area_living'] = all_data['area_living'] * all_data['area_total']/100\n",
    "all_data.loc[(all_data['sum_area'] == 80) & (all_data['area_kitchen'] == 10), 'area_kitchen'] = all_data['area_kitchen'] * all_data['area_total']/100\n",
    "all_data.loc[(all_data['sum_area'] == 80) & (all_data['area_kitchen'] == 30), 'area_living'] = all_data['area_living'] * all_data['area_total']/100\n",
    "all_data.loc[(all_data['sum_area'] == 80) & (all_data['area_kitchen'] == 30), 'area_kitchen'] = all_data['area_kitchen'] * all_data['area_total']/100\n",
    "all_data.loc[(all_data['sum_area'] == 90) & (all_data['area_kitchen'] == 10), 'area_living'] = all_data['area_living'] * all_data['area_total']/100\n",
    "all_data.loc[(all_data['sum_area'] == 90) & (all_data['area_kitchen'] == 10), 'area_kitchen'] = all_data['area_kitchen'] * all_data['area_total']/100\n",
    "all_data.loc[(all_data['sum_area'] == 90) & (all_data['area_kitchen'] == 15), 'area_living'] = all_data['area_living'] * all_data['area_total']/100\n",
    "all_data.loc[(all_data['sum_area'] == 90) & (all_data['area_kitchen'] == 15), 'area_kitchen'] = all_data['area_kitchen'] * all_data['area_total']/100\n",
    "all_data.loc[(all_data['sum_area'] == 90) & (all_data['area_kitchen'] == 20), 'area_living'] = all_data['area_living'] * all_data['area_total']/100\n",
    "all_data.loc[(all_data['sum_area'] == 90) & (all_data['area_kitchen'] == 20), 'area_kitchen'] = all_data['area_kitchen'] * all_data['area_total']/100\n",
    "all_data.loc[(all_data['sum_area'] == 90) & (all_data['area_kitchen'] == 25), 'area_living'] = all_data['area_living'] * all_data['area_total']/100\n",
    "all_data.loc[(all_data['sum_area'] == 90) & (all_data['area_kitchen'] == 25), 'area_kitchen'] = all_data['area_kitchen'] * all_data['area_total']/100\n",
    "all_data.loc[(all_data['sum_area'] == 90) & (all_data['area_kitchen'] == 30), 'area_living'] = all_data['area_living'] * all_data['area_total']/100\n",
    "all_data.loc[(all_data['sum_area'] == 90) & (all_data['area_kitchen'] == 30), 'area_kitchen'] = all_data['area_kitchen'] * all_data['area_total']/100\n",
    "all_data.loc[(all_data['sum_area'] == 90) & (all_data['area_kitchen'] == 50), 'area_living'] = all_data['area_living'] * all_data['area_total']/100\n",
    "all_data.loc[(all_data['sum_area'] == 90) & (all_data['area_kitchen'] == 50), 'area_kitchen'] = all_data['area_kitchen'] * all_data['area_total']/100\n",
    "all_data.loc[(all_data['sum_area'] == 60) & (all_data['area_total'] > 120), 'area_living'] = all_data['area_living'] * all_data['area_total']/100\n",
    "all_data.loc[(all_data['sum_area'] == 60) & (all_data['area_total'] > 120), 'area_kitchen'] = all_data['area_kitchen'] * all_data['area_total']/100\n",
    "all_data.loc[(all_data['sum_area'] < 70) & (all_data['area_total'] > 120)&(all_data['rooms'] < 3), 'area_living'] = all_data['area_living'] * all_data['area_total']/100\n",
    "all_data.loc[(all_data['sum_area'] < 70) & (all_data['area_total'] > 120)&(all_data['rooms'] < 3), 'area_kitchen'] = all_data['area_kitchen'] * all_data['area_total']/100\n",
    "\n",
    "\n",
    "\n",
    "\n",
    "all_data['sum_area'] = all_data.area_living + all_data.area_kitchen\n",
    "all_data['living'] = all_data.area_living/all_data.area_total\n",
    "all_data['kitchen'] = all_data.area_kitchen/all_data.area_total\n",
    "\n",
    "#there is some cases with sum_area bigger than total area, meaning that one of the inputs is wrong. In these cases we will just put nan\n",
    "#need to figure out which gives best results, which change\n",
    "all_data.loc[all_data['sum_area'] > all_data['area_total'], 'area_living'] = float('NaN')\n",
    "\n",
    "all_data_small_living = all_data[all_data['living'] < 0.3]\n",
    "all_data_big_living = all_data[all_data['living'] > 0.8]\n",
    "print(all_data_small_living[['area_total','area_living','area_kitchen','sum_area','rooms']],'\\n',all_data_big_living[['area_total','area_living','area_kitchen','sum_area','rooms']])\n",
    "n = 10\n",
    "#print(all_data[all_data['kitchen'] > 0.5][['area_total','area_living','area_kitchen','sum_area','rooms']])\n",
    "#print(all_data['sum_area'].value_counts()[:n].index.tolist())\n",
    "#print(all_data[(all_data['sum_area'] < 70) & (all_data['area_total'] > 160)][['area_total','area_living','area_kitchen','sum_area','rooms']])\n",
    "#as we can see there is four rows with higher area living than area total, i think the solution here is to\n",
    "\n",
    "#all_data.boxplot(column='kitchen')"
   ],
   "metadata": {
    "collapsed": false,
    "pycharm": {
     "name": "#%%\n"
    }
   }
  },
  {
   "cell_type": "markdown",
   "source": [
    "### ***Outliers square price**\n",
    "\n",
    "Lets intorduce a new feature, called square price. Will check for outliers in training set"
   ],
   "metadata": {
    "collapsed": false,
    "pycharm": {
     "name": "#%% md\n"
    }
   }
  },
  {
   "cell_type": "code",
   "execution_count": null,
   "outputs": [],
   "source": [],
   "metadata": {
    "collapsed": false,
    "pycharm": {
     "name": "#%%\n"
    }
   }
  },
  {
   "cell_type": "markdown",
   "source": [
    "### **Missing data**\n",
    "Some colums have a lot of misssing data, lets look at a way for each column.\n",
    "Layout is the colums with the most missing data, lets take a lot at that"
   ],
   "metadata": {
    "collapsed": false,
    "pycharm": {
     "name": "#%% md\n"
    }
   }
  },
  {
   "cell_type": "code",
   "execution_count": null,
   "metadata": {
    "pycharm": {
     "name": "#%%\n"
    }
   },
   "outputs": [],
   "source": [
    "layout_data = data_train['layout']\n",
    "print('number of missing values: ',layout_data.isnull().sum())\n",
    "\n",
    "#check correleation between layout and other data\n",
    "layout_corr = data_train.corr()\n",
    "print(layout_corr['layout'].nlargest(4))\n",
    "#layout_corr.style.background_gradient(cmap='coolwarm')\n",
    "\n",
    "#didnt find anythin, will check difference in price among nan values and thos who actually have floor\n",
    "mean_price_without_nan = data_train[~data_train['layout'].isnull()]['price'].mean()\n",
    "mean_price_with_nan = data_train[data_train['layout'].isnull()]['price'].mean()\n",
    "\n",
    "print(mean_price_without_nan,mean_price_with_nan)\n",
    "#these prices ar3e quit similar, lets check year.\n",
    "\n",
    "mean_year_without_nan = data_train[~data_train['layout'].isnull()]['constructed'].mean()\n",
    "mean_year_with_nan = data_train[data_train['layout'].isnull()]['constructed'].mean()\n",
    "print(mean_year_without_nan,mean_year_with_nan)\n",
    "#as we can see there are quite strong evidence that there is a correleation betweem if layous is mising or not, and building year\n",
    "\n",
    "#From my understanding, the second most important feature is the size of the living room, lets see how many null values we have here\n",
    "print('trainig set:', data_train['area_living'].isnull().sum(),'\\ntest set: ', data_test['area_living'].isnull().sum())\n",
    "\n",
    "#There is a lot of missing values, how can we fix this, check if we group by building, how good the correleation betweem actual and buding average\n",
    "grouped_by_building = data_train.groupby(['building_id'])\n",
    "mean_area_living = grouped_by_building['area_living'].mean()\n",
    "print(mean_area_living)\n",
    "\n",
    "data_with_group = pd.merge(data_train,mean_area_living, on='building_id', how='left')\n",
    "\n",
    "data_test['mean_area_living'] = data_with_group['area_living_y']\n",
    "\n",
    "corr = data_test.corr()\n",
    "corr.style.background_gradient(cmap='coolwarm')\n",
    "#this did not have a high correlation, and can not be used. Lets try and make a function for fin"
   ]
  },
  {
   "cell_type": "markdown",
   "metadata": {
    "pycharm": {
     "name": "#%% md\n"
    }
   },
   "source": [
    "## **Missing Data continue**\n",
    "\n",
    "If there is missing data in the categorical data, ant the data is very turned towards one side, it could be good to just assume thahtthe rest of the data also is like that.\n",
    "\n",
    "Lets start by plotting all of the different categorical data.\n",
    "categorical_data = ['seller','layout', 'windows_court', 'windows_street', 'condition', 'building_id','new','district','street',\n",
    "                    'address', 'material', 'elevator_without', 'elevator_passenger', 'elevator_service', 'parking','garbage_chute', 'heating']\n"
   ]
  },
  {
   "cell_type": "markdown",
   "source": [
    "To compare categorical and integer data, we need to conecrt the integer data to categorical."
   ],
   "metadata": {
    "collapsed": false,
    "pycharm": {
     "name": "#%% md\n"
    }
   }
  },
  {
   "cell_type": "code",
   "execution_count": null,
   "outputs": [],
   "source": [
    "all_data['area_groups'] = pd.qcut(all_data.area_total, q=6)\n",
    "all_data['ceiling_groups'] = pd.qcut(all_data.ceiling, q=8)\n",
    "all_data['radius_groups'] = pd.qcut(all_data.radius, q=8)\n",
    "data_train['price_groups'] = pd.qcut(data_train.price, q=6)\n",
    "all_data['stories_groups'] = pd.qcut(all_data.stories, q=10)\n",
    "all_data['floor_groups'] = pd.qcut(all_data.floor, q=6)\n",
    "all_data['constructed_groups'] = pd.qcut(all_data.constructed, q=8)"
   ],
   "metadata": {
    "collapsed": false,
    "pycharm": {
     "name": "#%%\n"
    }
   }
  },
  {
   "cell_type": "code",
   "execution_count": null,
   "outputs": [],
   "source": [
    "#seller\n",
    "all_data['seller'].value_counts().plot(kind='bar')\n",
    "#seller has a nice distribution, cant send everything into one group.\n",
    "plot_categorical(all_data,'seller','new')\n",
    "plot_categorical(all_data,'seller','constructed_groups')\n",
    "#can clearly see that if new is 1, then seller is 3. If new is 0, then seller is not clear.\n",
    "plot_categorical(all_data,'district','seller')\n",
    "plot_categorical(all_data, 'radius_groups','seller')\n",
    "#quite clear, in district 11 and 0 the seller is mainly 3, however in district 6 and 3, the seller is 1.\n",
    "#in short radius, the seller is 3, in high radius the seller is 1.\n",
    "\n",
    "plot_categorical(all_data, 'stories_groups','seller')\n",
    "plot_categorical(all_data, 'condition','seller')\n",
    "#seller type 3 doesnt care to input condition. Condition is missing 14000 values, seller type 3 has 12000 (soon more values, sick)"
   ],
   "metadata": {
    "collapsed": false,
    "pycharm": {
     "name": "#%%\n"
    }
   }
  },
  {
   "cell_type": "code",
   "execution_count": null,
   "outputs": [],
   "source": [
    "#layout\n",
    "all_data['layout'].value_counts().plot(kind='bar')\n"
   ],
   "metadata": {
    "collapsed": false,
    "pycharm": {
     "name": "#%%\n"
    }
   }
  },
  {
   "cell_type": "code",
   "execution_count": null,
   "outputs": [],
   "source": [
    "#layout and constructed\n",
    "plot_categorical(all_data,'layout','constructed')\n",
    "#too little data so say somehting smart. Seems like quite the same except for 0"
   ],
   "metadata": {
    "collapsed": false,
    "pycharm": {
     "name": "#%%\n"
    }
   }
  },
  {
   "cell_type": "code",
   "execution_count": null,
   "outputs": [],
   "source": [
    "#condition and layout\n",
    "plot_categorical(all_data,'condition','layout')\n",
    "#very similar, not good"
   ],
   "metadata": {
    "collapsed": false,
    "pycharm": {
     "name": "#%%\n"
    }
   }
  },
  {
   "cell_type": "code",
   "execution_count": null,
   "outputs": [],
   "source": [
    "#windowsCourt\n",
    "\n",
    "all_data_2 = all_data[all_data['windows_street']==1]\n",
    "all_data_2['windows_court'].value_counts().plot(kind='bar')\n",
    "\n",
    "plot_categorical(all_data_2,'stories_groups','windows_court')\n",
    "plot_categorical(all_data_2,'radius_groups','windows_court')\n",
    "plot_categorical(all_data_2,'area_groups','windows_court')\n",
    "plot_categorical(all_data_2,'material','windows_court')\n",
    "plot_categorical(all_data_2,'parking','windows_court')\n",
    "plot_categorical(all_data_2,'constructed_groups','windows_court')\n",
    "plot_categorical(all_data_2,'condition','windows_court')\n",
    "plot_categorical(all_data_2,'new','windows_court')\n",
    "plot_categorical(all_data_2,'balconies','windows_court')\n",
    "plot_categorical(all_data_2,'loggias','windows_court')"
   ],
   "metadata": {
    "collapsed": false,
    "pycharm": {
     "name": "#%%\n"
    }
   }
  },
  {
   "cell_type": "code",
   "execution_count": null,
   "outputs": [],
   "source": [
    "#Windows street\n",
    "all_data['windows_street'].value_counts().plot(kind='bar')"
   ],
   "metadata": {
    "collapsed": false,
    "pycharm": {
     "name": "#%%\n"
    }
   }
  },
  {
   "cell_type": "code",
   "execution_count": null,
   "outputs": [],
   "source": [
    "#window street and window court, very corellated, can be used!!!!\n",
    "plot_categorical(all_data,'windows_court', 'windows_street')\n",
    "#best inromation here is that if there is not a window by the court, there is 100% a window at the street\n",
    "plot_categorical(all_data,'windows_street', 'windows_court')\n",
    "#here we can again see that if there is no window to the street, there is a windows court\n",
    "#can be used if we can learn one of them, and then predict the other.\n",
    "plot_categorical(all_data,'stories_groups','windows_street')\n",
    "plot_categorical(all_data,'radius_groups','windows_street')\n",
    "plot_categorical(all_data,'area_groups','windows_street')\n",
    "plot_categorical(all_data,'material','windows_street')\n",
    "plot_categorical(all_data,'parking','windows_street')\n",
    "plot_categorical(all_data,'constructed_groups','windows_street')\n",
    "plot_categorical(all_data,'condition','windows_street')\n",
    "plot_categorical(all_data,'new','windows_street')\n",
    "plot_categorical(all_data,'balconies','windows_street')\n",
    "plot_categorical(all_data,'loggias','windows_street')"
   ],
   "metadata": {
    "collapsed": false,
    "pycharm": {
     "name": "#%%\n"
    }
   }
  },
  {
   "cell_type": "code",
   "execution_count": null,
   "outputs": [],
   "source": [
    "#condition, some clear tnedency\n",
    "all_data['condition'].value_counts().plot(kind='bar')\n",
    "#very equal, need do find something smart to cahnge this.\n",
    "\n",
    "plot_categorical(all_data,'new', 'condition')\n",
    "plot_categorical(all_data,'constructed_groups', 'condition')\n",
    "plot_categorical(all_data, 'condition','constructed_groups')"
   ],
   "metadata": {
    "collapsed": false,
    "pycharm": {
     "name": "#%%\n"
    }
   }
  },
  {
   "cell_type": "code",
   "execution_count": null,
   "outputs": [],
   "source": [
    "#balconies and loggias\n",
    "all_data['balconies'].value_counts().plot(kind='bar')\n",
    "#no clear tendency\n",
    "plot_categorical(all_data, 'stories_groups', 'balconies')\n",
    "plot_categorical(all_data, 'constructed_groups', 'balconies')\n",
    "plot_categorical(all_data, 'district', 'balconies')\n",
    "plot_categorical(all_data, 'radius_groups', 'balconies')\n",
    "plot_categorical(all_data, 'material', 'balconies')\n",
    "plot_categorical(all_data, 'windows_street', 'balconies')\n",
    "\n",
    "\n"
   ],
   "metadata": {
    "collapsed": false,
    "pycharm": {
     "name": "#%%\n"
    }
   }
  },
  {
   "cell_type": "code",
   "execution_count": null,
   "outputs": [],
   "source": [
    "all_data['loggias'].value_counts().plot(kind='bar')\n",
    "#no clear tendency\n",
    "\n",
    "plot_categorical(all_data,'balconies','loggias')\n",
    "plot_categorical(all_data, 'stories_groups', 'loggias')\n",
    "plot_categorical(all_data, 'floor_groups', 'loggias')"
   ],
   "metadata": {
    "collapsed": false,
    "pycharm": {
     "name": "#%%\n"
    }
   }
  },
  {
   "cell_type": "code",
   "execution_count": null,
   "outputs": [],
   "source": [
    "#condition, togehter with building year\n",
    "plot_categorical(all_data,'condition','constructed')\n",
    "#we can see that most new building are of condition one, for the rest not so clear"
   ],
   "metadata": {
    "collapsed": false,
    "pycharm": {
     "name": "#%%\n"
    }
   }
  },
  {
   "cell_type": "code",
   "execution_count": null,
   "outputs": [],
   "source": [
    "#new, quite clear\n",
    "all_data['new'].value_counts().plot(kind='bar')\n",
    "#quite clear tendency, will be even better with some other information"
   ],
   "metadata": {
    "collapsed": false,
    "pycharm": {
     "name": "#%%\n"
    }
   }
  },
  {
   "cell_type": "code",
   "execution_count": null,
   "outputs": [],
   "source": [
    "#new and constructed\n",
    "plot_categorical(all_data,'new','constructed')\n",
    "#good data, can use new to predict constructed and vice versa to fix."
   ],
   "metadata": {
    "collapsed": false,
    "pycharm": {
     "name": "#%%\n"
    }
   }
  },
  {
   "cell_type": "code",
   "execution_count": null,
   "outputs": [],
   "source": [
    "#new and seller\n",
    "plot_categorical(all_data,'new','seller')\n",
    "#very good, can be used to predict new and vice versa"
   ],
   "metadata": {
    "collapsed": false,
    "pycharm": {
     "name": "#%%\n"
    }
   }
  },
  {
   "cell_type": "code",
   "execution_count": null,
   "outputs": [],
   "source": [
    "#new and layout\n",
    "plot_categorical(all_data,'new','layout')\n",
    "# totally ok, will probably use somehting else to predict new, and layout is mostly just one category."
   ],
   "metadata": {
    "collapsed": false,
    "pycharm": {
     "name": "#%%\n"
    }
   }
  },
  {
   "cell_type": "code",
   "execution_count": null,
   "outputs": [],
   "source": [
    "#new and condition\n",
    "plot_categorical(all_data,'new','condition')\n",
    "#totally ok, can be used to predict that new almost just has condition 0."
   ],
   "metadata": {
    "collapsed": false,
    "pycharm": {
     "name": "#%%\n"
    }
   }
  },
  {
   "cell_type": "code",
   "execution_count": null,
   "outputs": [],
   "source": [
    "#material\n",
    "all_data['material'].value_counts().plot(kind='bar')\n",
    "#quite clear which is most common, if you have som additional information could be good.\n",
    "\n",
    "plot_categorical(all_data,'new','material')\n",
    "plot_categorical(all_data,'condition','material')\n",
    "plot_categorical(all_data,'elevator_without','material')\n",
    "plot_categorical(all_data,'constructed_groups','material')\n",
    "plot_categorical(all_data,'district','material')\n",
    "plot_categorical(all_data,'parking','material')\n",
    "plot_categorical(all_data,'stories_groups','material')\n",
    "plot_categorical(all_data,'area_groups','material')\n"
   ],
   "metadata": {
    "collapsed": false,
    "pycharm": {
     "name": "#%%\n"
    }
   }
  },
  {
   "cell_type": "code",
   "execution_count": null,
   "outputs": [],
   "source": [
    "#material and layout\n",
    "plot_categorical(all_data,'layout','material')\n",
    "#layout is to equal to one to be affected"
   ],
   "metadata": {
    "collapsed": false,
    "pycharm": {
     "name": "#%%\n"
    }
   }
  },
  {
   "cell_type": "code",
   "execution_count": null,
   "outputs": [],
   "source": [
    "#material and new\n",
    "plot_categorical(all_data,'new','material')\n",
    "#can be used to be quite sure that new buildings is constructed with material number 2"
   ],
   "metadata": {
    "collapsed": false,
    "pycharm": {
     "name": "#%%\n"
    }
   }
  },
  {
   "cell_type": "code",
   "execution_count": null,
   "outputs": [],
   "source": [
    "#material and condtion\n",
    "plot_categorical(all_data,'condition','material')\n",
    "#quite good news, clear correleation that material 2 gives condtion 0, and material 3 gives condtion 1."
   ],
   "metadata": {
    "collapsed": false,
    "pycharm": {
     "name": "#%%\n"
    }
   }
  },
  {
   "cell_type": "code",
   "execution_count": null,
   "outputs": [],
   "source": [
    "#'elevator_without', 'elevator_passenger', 'elevator_service', 'parking',\n",
    "# 'garbage_chute', 'heating']\n",
    "#plot one for each elevator, elevator without\n",
    "all_data['elevator_without'].value_counts().plot(kind='bar')\n",
    "#not very clear, cant be so sure about this one, just states the there are appartmens without elevator access within the building\n"
   ],
   "metadata": {
    "collapsed": false,
    "pycharm": {
     "name": "#%%\n"
    }
   }
  },
  {
   "cell_type": "code",
   "execution_count": null,
   "outputs": [],
   "source": [
    "#elevator passenger\n",
    "all_data['elevator_passenger'].value_counts().plot(kind='bar')\n",
    "#very nice! can assume tha almost everybody has a elevator passenger, should find out what categorizises the one who dont have"
   ],
   "metadata": {
    "collapsed": false,
    "pycharm": {
     "name": "#%%\n"
    }
   }
  },
  {
   "cell_type": "code",
   "execution_count": null,
   "outputs": [],
   "source": [
    "#elevator service\n",
    "all_data['elevator_service'].value_counts().plot(kind='bar')\n",
    "#totally ok information, but is not super clear. however gives a good indication if we can find somethign else"
   ],
   "metadata": {
    "collapsed": false,
    "pycharm": {
     "name": "#%%\n"
    }
   }
  },
  {
   "cell_type": "code",
   "execution_count": null,
   "outputs": [],
   "source": [
    "#without and passegner togheter\n",
    "plot_categorical(all_data,'elevator_without','elevator_passenger')\n",
    "#if there is no appartmens without elevator, then there is almost certainly a passegner elevator."
   ],
   "metadata": {
    "collapsed": false,
    "pycharm": {
     "name": "#%%\n"
    }
   }
  },
  {
   "cell_type": "code",
   "execution_count": null,
   "outputs": [],
   "source": [
    "#without and service\n",
    "plot_categorical(all_data,'elevator_without','elevator_service')\n",
    "#no good correleation, very similar"
   ],
   "metadata": {
    "collapsed": false,
    "pycharm": {
     "name": "#%%\n"
    }
   }
  },
  {
   "cell_type": "code",
   "execution_count": null,
   "outputs": [],
   "source": [
    "#service and passegner\n",
    "plot_categorical(all_data,'elevator_passenger','elevator_service')\n",
    "#again quite good, if there is no passenger elevator there is no service elevator. If there is a passegner elevator, there is most likelt a service elevator."
   ],
   "metadata": {
    "collapsed": false,
    "pycharm": {
     "name": "#%%\n"
    }
   }
  },
  {
   "cell_type": "code",
   "execution_count": null,
   "outputs": [],
   "source": [
    "#we can check elevator without again, as this is the most unclear one.\n",
    "plot_categorical(all_data,'elevator_without','garbage_chute')\n",
    "#with new: some information, conditon:more information, material:more information(just one type)\n",
    "#seller:some information, parking:more information+, (heating,garbage none)"
   ],
   "metadata": {
    "collapsed": false,
    "pycharm": {
     "name": "#%%\n"
    }
   }
  },
  {
   "cell_type": "code",
   "execution_count": null,
   "outputs": [],
   "source": [
    "#elevator Without was best found through elevator passegner, so lets check this.\n",
    "plot_categorical(all_data, 'elevator_passenger','parking')\n",
    "#parking:totally ok, if there is no elevator passenger, most likely 1, if parking is 2, then there is elevator passegner\n",
    "#condtion:bad, new: if there is no passegner, its not new, material:some information\n",
    "#if seller i 3 then passegner 1, (heating and garbage_chute bad)"
   ],
   "metadata": {
    "collapsed": false,
    "pycharm": {
     "name": "#%%\n"
    }
   }
  },
  {
   "cell_type": "code",
   "execution_count": null,
   "outputs": [],
   "source": [
    "#'parking',\n",
    "all_data['parking'].value_counts().plot(kind='bar')\n",
    "#not so much information, but parking 2 can make some exiting results in others. lets check this\n",
    "plot_categorical(all_data,'new','parking')\n",
    "plot_categorical(all_data,'material','parking')\n",
    "plot_categorical(all_data,'elevator_without','parking')\n",
    "plot_categorical(all_data,'stories_groups','parking')\n",
    "plot_categorical(all_data,'radius_groups','parking')\n",
    "plot_categorical(all_data,'parking','radius_groups')"
   ],
   "metadata": {
    "collapsed": false,
    "pycharm": {
     "name": "#%%\n"
    }
   }
  },
  {
   "cell_type": "code",
   "execution_count": null,
   "outputs": [],
   "source": [
    "#parking and layout (layout has a lot of missing values)\n",
    "plot_categorical(all_data,'parking','layout')\n",
    "#conclusion: layout is most likely 1 anyways, would be interesting to see if there is something to tell if 0 and 1"
   ],
   "metadata": {
    "collapsed": false,
    "pycharm": {
     "name": "#%%\n"
    }
   }
  },
  {
   "cell_type": "code",
   "execution_count": null,
   "outputs": [],
   "source": [
    "#parking and new\n",
    "plot_categorical(all_data,'new','parking')\n",
    "#conclusion: if parking is 2, most likely new 0. but not that clear"
   ],
   "metadata": {
    "collapsed": false,
    "pycharm": {
     "name": "#%%\n"
    }
   }
  },
  {
   "cell_type": "code",
   "execution_count": null,
   "outputs": [],
   "source": [
    "#parking and condtion\n",
    "plot_categorical(all_data,'material','parking')\n",
    "#if parking is 0, then material is 2, if material is 3, then parking is 1. material 2, most likely parking 0\n",
    "#seller:not good,"
   ],
   "metadata": {
    "collapsed": false,
    "pycharm": {
     "name": "#%%\n"
    }
   }
  },
  {
   "cell_type": "code",
   "execution_count": null,
   "outputs": [],
   "source": [
    "#parking and conditon\n",
    "plot_categorical(all_data,'condition', 'parking')\n",
    "#if condition is 1, then parking is 1, if condtion is 0, then parking could be 0 (same for condtion 3)\n",
    "#material, condition, seller, windows??"
   ],
   "metadata": {
    "collapsed": false,
    "pycharm": {
     "name": "#%%\n"
    }
   }
  },
  {
   "cell_type": "code",
   "execution_count": null,
   "outputs": [],
   "source": [
    "#garbage_chute\n",
    "all_data['garbage_chute'].value_counts().plot(kind='bar')\n",
    "#most likely 1 for this one, but there is no correlation betweem anyone"
   ],
   "metadata": {
    "collapsed": false,
    "pycharm": {
     "name": "#%%\n"
    }
   }
  },
  {
   "cell_type": "code",
   "execution_count": null,
   "outputs": [],
   "source": [
    "#garbage_chute and heating\n",
    "plot_categorical(all_data,'heating', 'garbage_chute')\n",
    "#if heating is 2, then garbage_chute is 0, else it is not very good"
   ],
   "metadata": {
    "collapsed": false,
    "pycharm": {
     "name": "#%%\n"
    }
   }
  },
  {
   "cell_type": "code",
   "execution_count": null,
   "outputs": [],
   "source": [
    "#heating\n",
    "all_data['heating'].value_counts().plot(kind='bar')\n",
    "#heating is most likely 0 anyway. Could be interesting to see if there is something with the 1,2,3 heating."
   ],
   "metadata": {
    "collapsed": false,
    "pycharm": {
     "name": "#%%\n"
    }
   }
  },
  {
   "cell_type": "code",
   "execution_count": null,
   "outputs": [],
   "source": [
    "#rooms\n",
    "all_data['rooms'].value_counts().plot(kind='bar')"
   ],
   "metadata": {
    "collapsed": false,
    "pycharm": {
     "name": "#%%\n"
    }
   }
  },
  {
   "cell_type": "code",
   "execution_count": null,
   "outputs": [],
   "source": [
    "#rooms and layout\n",
    "plot_categorical(all_data,'rooms', 'layout')\n",
    "#again, layout is just to bad to say somethin about others."
   ],
   "metadata": {
    "collapsed": false,
    "pycharm": {
     "name": "#%%\n"
    }
   }
  },
  {
   "cell_type": "code",
   "execution_count": null,
   "outputs": [],
   "source": [
    "#rooms and parking, and rooms and new\n",
    "plot_categorical(all_data,'parking', 'rooms')\n",
    "#the more rooms, the higher chance for 0 parking.\n",
    "\n",
    "plot_categorical(all_data, 'rooms','new')\n",
    "#the more rooms, the lower chance of being new. But mostlt is not new, so would be interesting to find somehting which the new ones had on common.\n",
    "\n",
    "plot_categorical(all_data, 'rooms','ceiling_groups')\n",
    "#material:bad, condition:bad, floor and stories:bad\n",
    "\n",
    "#check compared to area\n",
    "plot_categorical(all_data, 'rooms','area_groups')"
   ],
   "metadata": {
    "collapsed": false,
    "pycharm": {
     "name": "#%%\n"
    }
   }
  },
  {
   "cell_type": "code",
   "execution_count": null,
   "outputs": [],
   "source": [
    "#Bathrooms_priavte\n",
    "all_data['bathrooms_private'].value_counts().plot(kind='bar')\n",
    "#ikke noe spesielt å henter her"
   ],
   "metadata": {
    "collapsed": false,
    "pycharm": {
     "name": "#%%\n"
    }
   }
  },
  {
   "cell_type": "code",
   "execution_count": null,
   "outputs": [],
   "source": [
    "#bathrooms shared\n",
    "all_data['bathrooms_shared'].value_counts().plot(kind='bar')\n",
    "#ikke noe spesielt her heller"
   ],
   "metadata": {
    "collapsed": false,
    "pycharm": {
     "name": "#%%\n"
    }
   }
  },
  {
   "cell_type": "code",
   "execution_count": null,
   "outputs": [],
   "source": [
    "#Bathrooms_priavte and bathrooms_shared\n",
    "plot_categorical(all_data, 'bathrooms_shared','bathrooms_private')\n",
    "#very good as expected, lets see if there is any way to precit the two others"
   ],
   "metadata": {
    "collapsed": false,
    "pycharm": {
     "name": "#%%\n"
    }
   }
  },
  {
   "cell_type": "code",
   "execution_count": null,
   "outputs": [],
   "source": [
    "#check compared to area\n",
    "plot_categorical(all_data,'area_groups','bathrooms_private')\n",
    "#low area, most likely no private bathroom\n",
    "\n",
    "plot_categorical(all_data,'area_groups','bathrooms_shared')\n",
    "#low area, most likely shared bathroom, everybodt has a bathroom"
   ],
   "metadata": {
    "collapsed": false,
    "pycharm": {
     "name": "#%%\n"
    }
   }
  },
  {
   "cell_type": "code",
   "execution_count": null,
   "outputs": [],
   "source": [
    "#ceiling\n",
    "all_data['ceiling_groups'].value_counts().plot(kind='bar')\n",
    "\n",
    "#ceiling groups and layout, condtion and material\n",
    "plot_categorical(all_data,'ceiling_groups','material')\n",
    "plot_categorical(all_data,'area_groups','ceiling_groups')\n",
    "plot_categorical(all_data,'ceiling_groups','condition')\n",
    "plot_categorical(all_data,'new','ceiling_groups')\n",
    "plot_categorical(all_data,'ceiling_groups','rooms')\n",
    "plot_categorical(all_data,'ceiling_groups','parking')\n",
    "\n",
    "#Layout:bad, material:good, most likely material 2 if high ceiling, material 3 if super low\n",
    "#if low ceiling, condtion 1, if cieling in 3.0-3.1, condtion 0\n",
    "#if material 4, then low ceiling."
   ],
   "metadata": {
    "collapsed": false,
    "pycharm": {
     "name": "#%%\n"
    }
   }
  },
  {
   "cell_type": "code",
   "execution_count": null,
   "outputs": [],
   "source": [
    "all_data = add_direction(all_data)\n",
    "#all_data['district'].value_counts().plot(kind='bar')\n",
    "#plot_categorical(all_data,'district','radius_groups')\n",
    "#plot_categorical(all_data[all_data['radius'] < 0.02], 'direction','district')\n",
    "#if there is no missing values in a column, this can be used to guess other columns, if there is a lot of missing values, these columns should be guessed\n",
    "#plot_categorical()\n",
    "\n",
    "\n",
    "all_data.info()\n",
    "#layout is by"
   ],
   "metadata": {
    "collapsed": false,
    "pycharm": {
     "name": "#%%\n"
    }
   }
  },
  {
   "cell_type": "markdown",
   "source": [
    "## **Use of found information**\n",
    "Lets try to use the information we just discovered\n",
    "I want to mainly use this information to predict missing values.\n",
    "\n",
    "I will start by summing up what i learned, and then use this to make rules.\n",
    "\n",
    "Layout has by far the most missing values, and there is no correleation with other things to detect anything deifferent than that we can just put all the missing values in layout to 1.\n",
    "\n",
    "Next up is balconies and loggias. From my plot you can see that if you dont have a loggias, you have most likely one balcony.\n",
    "However if you have any loggias, you dont have balconies."
   ],
   "metadata": {
    "collapsed": false,
    "pycharm": {
     "name": "#%% md\n"
    }
   }
  },
  {
   "cell_type": "code",
   "execution_count": null,
   "outputs": [],
   "source": [
    "all_data_2 = all_data\n",
    "def fix_missing_value(df):\n",
    "    #layout, set everythin to 1\n",
    "    df['layout'].fillna(int(1.0),inplace=True)\n",
    "\n",
    "\n",
    "\n",
    "    #found correleation between number of stories and balconies,loggias\n",
    "    df.loc[(df['stories'] < 7.0)&df['loggias'].isna(),'loggias'] = 0\n",
    "    df.loc[(df['stories'] < 7.0)&df['balconies'].isna(),'balconies'] = 1\n",
    "\n",
    "    df.loc[((df['stories'] > 12) & (df['stories'] < 16))|((df['stories'] > 17) & (df['stories'] < 24))&(df['loggias'].isna()),'loggias'] = 1\n",
    "    df.loc[((df['stories'] > 12) & (df['stories'] < 16))|((df['stories'] > 17) & (df['stories'] < 24))&(df['loggias'].isna()),'balconies'] = 0\n",
    "\n",
    "\n",
    "    #use the correleation between balconies and loggias to replace nans,\n",
    "    df.loc[(df['loggias'] == 0.0 )& df['balconies'].isna(),'balconies'] = 1\n",
    "    df.loc[(df['balconies'] == 0.0 )& df['loggias'].isna(),'loggias'] = 1\n",
    "    df.loc[(df['loggias'] > 0.0 )& df['balconies'].isna(),'balconies'] = 0\n",
    "    df.loc[(df['balconies'] > 0.0 )& df['loggias'].isna(),'loggias'] = 0\n",
    "\n",
    "    #use correlation between material and ceiling groups\n",
    "    ceiling_under_2 = len(df[((df['material'] == 4)|(df['material'] == 3)) & df['ceiling'].isna()])\n",
    "    sample = df[df['ceiling'] < 2.6]['ceiling'].sample(n=ceiling_under_2,replace=True).to_numpy()\n",
    "    df.loc[((df['material'] == 4)|(df['material'] == 3)) & (df['ceiling'].isna()),'ceiling'] = sample\n",
    "    #use corelation between condition and ceiling groups\n",
    "    ceiling_under_2 = len(df[(df['condition'] == 1) & df['ceiling'].isna()])\n",
    "    sample = df[df['ceiling'] < 2.6]['ceiling'].sample(n=ceiling_under_2,replace=True).to_numpy()\n",
    "    df.loc[(df['condition'] == 1) & df['ceiling'].isna(),'ceiling'] = sample\n",
    "\n",
    "\n",
    "    #use correleation betwwen ceiling and area\n",
    "    ceiling_over_3 = len(df[(df['area_total'] > 104)&(df['ceiling'].isna())])\n",
    "    sample = df[df['ceiling'] > 3.0]['ceiling'].sample(n=ceiling_over_3,replace=True).to_numpy()\n",
    "    df.loc[(df['area_total'] > 104)&(df['ceiling'].isna() ),'ceiling'] = sample\n",
    "\n",
    "    ceiling_over_3 = len(df[(df['area_total'] > 75)&(df['ceiling'].isna())])\n",
    "    sample = df[df['ceiling'] > 2.95]['ceiling'].sample(n=ceiling_over_3,replace=True).to_numpy()\n",
    "    df.loc[(df['area_total'] > 75)&(df['ceiling'].isna() ),'ceiling'] = sample\n",
    "\n",
    "    ceiling_under_2 = len(df[(df['area_total'] < 55)&(df['ceiling'].isna())])\n",
    "    sample = df[df['ceiling'] < 2.8]['ceiling'].sample(n=ceiling_under_2,replace=True).to_numpy()\n",
    "    df.loc[(df['area_total'] < 55)&(df['ceiling'].isna() ),'ceiling'] = sample\n",
    "\n",
    "    #seller\n",
    "    #use correleation between seller and new\n",
    "    df.loc[(df['new'] == 1 )& df['seller'].isna(),'seller'] = 3\n",
    "\n",
    "    #use correleation between seller and constructed\n",
    "    df.loc[(df['constructed'] > 2018)& df['seller'].isna(),'seller'] = 3\n",
    "    df.loc[(df['constructed'] < 1990)& df['seller'].isna(),'seller'] = 1\n",
    "\n",
    "    #use correleation between seller and stories\n",
    "    df.loc[(df['stories'] > 17)& df['seller'].isna(),'seller'] = 3\n",
    "    df.loc[(df['stories'] < 9)& df['seller'].isna(),'seller'] = 1\n",
    "\n",
    "    #use correleation between seller and district\n",
    "    df.loc[((df['district'] == 3)|(df['district']==6))& df['seller'].isna(),'seller'] = 1\n",
    "    df.loc[((df['district'] == 11)|(df['district']==2))& df['seller'].isna(),'seller'] = 3\n",
    "\n",
    "    #conditon\n",
    "    #use correleation between condition and new\n",
    "    df.loc[(df['new'] == 1)& df['condition'].isna(),'condition'] = 0\n",
    "\n",
    "    #use correleation between condition and constructed year\n",
    "    df.loc[(df['constructed'] >= 2017)& df['condition'].isna(),'condition'] = 0\n",
    "    df.loc[(df['constructed'] <= 1989)& df['condition'].isna(),'condition'] = 1\n",
    "\n",
    "    #material\n",
    "    #use correlation between material and district\n",
    "    df.loc[(df['district'] == 3)& df['material'].isna(),'material'] = 3\n",
    "\n",
    "    #use correleation between material and constructed year\n",
    "    df.loc[((df['constructed'] > 1970)& (df['constructed'] <= 1989))&df['material'].isna(),'material'] = 3\n",
    "    df.loc[(df['constructed'] <= 1970)&df['material'].isna(),'material'] = 0\n",
    "\n",
    "    #use correleation between stories and material\n",
    "    df.loc[(df['stories'] < 7)& df['material'].isna(),'material'] = 0\n",
    "    df.loc[((df['stories'] > 7)&(df['stories'] < 9))& df['material'].isna(),'material'] = 3\n",
    "\n",
    "    #use correleation between conditon and material\n",
    "    df.loc[(df['condition'] == 3)& df['material'].isna(),'material'] = 3\n",
    "    df.loc[(df['condition'] == 0)& df['material'].isna(),'material'] = 2\n",
    "\n",
    "    #use correleation between parking and material\n",
    "    df.loc[((df['parking'] == 3)|(df['parking'] == 2))& df['material'].isna(),'material'] = 2\n",
    "\n",
    "    #user correlation between area and material\n",
    "    df.loc[(df['area_total'] > 104)& df['material'].isna(),'material'] = 2\n",
    "\n",
    "    #parking\n",
    "    #use coreletion between parking and material\n",
    "    df.loc[((df['material'] == 0)|(df['material'] == 3))& df['parking'].isna(),'parking'] = 1\n",
    "\n",
    "    #use correleation between stories and parking\n",
    "    df.loc[((df['stories'] > 30))& df['parking'].isna(),'parking'] = 0\n",
    "    df.loc[((df['stories'] > 7)&(df['stories'] < 9))& df['parking'].isna(),'parking'] = 1\n",
    "\n",
    "    #use correleation between radius and parking\n",
    "    df.loc[(df['radius'] < 0.0547)& df['parking'].isna(),'parking'] = 0\n",
    "    df.loc[(df['radius'] > 0.251)& df['parking'].isna(),'parking'] = 1\n",
    "\n",
    "    #windows_court and windows_street\n",
    "    #windows_street and balconies\n",
    "    df.loc[(df['balconies'] == 2)& df['windows_street'].isna(),'windows_street'] = 1\n",
    "\n",
    "    #windows street and area\n",
    "    df.loc[(df['area_total'] > 106)& df['windows_street'].isna(),'windows_street'] = 1\n",
    "    df.loc[(df['area_total'] < 47)& df['windows_street'].isna(),'windows_street'] = 0\n",
    "\n",
    "    #windwos_street and stories\n",
    "    df.loc[(df['stories'] > 40)& df['windows_street'].isna(),'windows_street'] = 1\n",
    "    df.loc[(df['stories'] < 9)& df['windows_street'].isna(),'windows_street'] = 0\n",
    "\n",
    "    #windows_street and windows_court\n",
    "    df.loc[(df['windows_street'] == 0)& df['windows_court'].isna(),'windows_court'] = 1\n",
    "\n",
    "    df.loc[((df['windows_street'] == 1)& (df['area_total'] > 75)) & df['windows_court'].isna(),'windows_court'] = 1\n",
    "    df.loc[((df['windows_street'] == 1)& (df['area_total'] < 47)) & df['windows_court'].isna(),'windows_court'] = 0\n",
    "\n",
    "    #balconies\n",
    "    #balconies and stories\n",
    "    df.loc[((df['stories'] >= 12)& (df['area_total'] <= 16)) & df['balconies'].isna(),'balconies'] = 0\n",
    "    df.loc[(df['stories'] < 7) & df['balconies'].isna(),'balconies'] = 1\n",
    "    df.loc[((df['stories'] > 17)& (df['area_total'] <= 24)) & df['balconies'].isna(),'balconies'] = 0\n",
    "\n",
    "    #matrial and balconies\n",
    "    df.loc[(df['material'] == 0) & df['balconies'].isna(),'balconies'] = 1\n",
    "    df.loc[(df['material'] == 2) & df['balconies'].isna(),'balconies'] = 0\n",
    "\n",
    "    #balconies and constructed\n",
    "    df.loc[(df['constructed'] < 1970) & df['balconies'].isna(),'balconies'] = 1\n",
    "    df.loc[(df['constructed'] > 2018) & df['balconies'].isna(),'balconies'] = 0\n",
    "\n",
    "    #loggias\n",
    "    #loggias and balconies\n",
    "    df.loc[(df['balconies'] == 0) & df['loggias'].isna(),'loggias'] = 1\n",
    "    df.loc[(df['balconies'] > 0) & df['loggias'].isna(),'loggias'] = 0\n",
    "\n",
    "    #loggias and stories\n",
    "    df.loc[(df['stories'] < 7) & df['loggias'].isna(),'loggias'] = 0\n",
    "    df.loc[((df['stories'] >= 17)& (df['area_total'] <= 24)) & df['loggias'].isna(),'loggias'] = 1\n",
    "\n",
    "    #bathrooms shared, bathroomes private\n",
    "\n",
    "    #loggias and blaconies\n",
    "\n",
    "\n",
    "\n",
    "    return df\n",
    "\n",
    "#all_data_2 = fix_missing_value(all_data_2)\n",
    "\n",
    "\n",
    "#all_data_2.info()\n",
    "\n",
    "\n"
   ],
   "metadata": {
    "collapsed": false,
    "pycharm": {
     "name": "#%%\n"
    }
   }
  },
  {
   "cell_type": "markdown",
   "source": [
    "## **Missing data Imputation**\n",
    "The work done above did not help out solution at all, it actually made it worse. Lets try using imputation from sklearn instead. Will also add a missing value column for each missing value.\n",
    "These columns is already one_hot_encoded and should not be a part of one_hot_encoding.\n",
    "They should also be added as catergorical features in light_gbm.\n",
    "Should be done after data is cleaned from clear errors.\n"
   ],
   "metadata": {
    "collapsed": false,
    "pycharm": {
     "name": "#%% md\n"
    }
   }
  },
  {
   "cell_type": "code",
   "execution_count": null,
   "outputs": [],
   "source": [
    "from sklearn.impute import SimpleImputer\n",
    "data,data_test = import_data()\n",
    "all_data = pd.concat([data,data_test])\n",
    "#make a copyt o avoid changing data\n",
    "new_data = all_data.copy()\n",
    "new_data.columns = all_data.columns\n",
    "\n",
    "#should not be based on price\n",
    "new_data = new_data.drop(columns=['price','area_kitchen','area_living','street','address'])\n",
    "\n",
    "#find which columns has missing values, indicating which columns should be imputed\n",
    "missing_cols = (col for col in new_data.columns\n",
    "                            if new_data[col].isnull().any())\n",
    "#makes a new column which has 1 if missing, and zero if not\n",
    "for col in missing_cols:\n",
    "    new_data[col + '_was_missing'] = new_data[col].isnull()*1\n",
    "\n",
    "#now the imputation part\n",
    "imputer = SimpleImputer()\n",
    "new_data_2 = pd.DataFrame(imputer.fit_transform(new_data))\n",
    "new_data_2.columns = new_data.columns\n",
    "\n",
    "#print(new_data_2.info())\n",
    "\n",
    "#now we dont have any missing values, lets make a function\n",
    "\n",
    "def impute_missing_values(df_train,df_test):\n",
    "    \"\"\"df and df_test should always come as a pair, to make sure that all data is imputed the same\"\"\"\n",
    "    #drop columns which should not be in the imputation\n",
    "    df_train = df_train.drop(columns=['price','area_kitchen','area_living','street','address'])\n",
    "    df_test = df_test.drop(columns=['area_kitchen','area_living','street','address'])\n",
    "\n",
    "    #Concat the two dataframes\n",
    "    df = pd.concat([df_train, df_test])\n",
    "\n",
    "    #find which columns is missing\n",
    "    missing_cols = (col for col in df.columns\n",
    "                            if df[col].isnull().any())\n",
    "\n",
    "    #add a was_missing column to all columns with missing data\n",
    "    for col in missing_cols:\n",
    "        df[col + '_was_missing'] = df[col].isnull()*1\n",
    "\n",
    "    #imputation\n",
    "    imputer = SimpleImputer()\n",
    "    df_2 = pd.DataFrame(imputer.fit_transform(df))\n",
    "    df_2.columns = df.columns\n",
    "\n",
    "    #now we need to split the two dataframes at the correct split\n",
    "    df_train = df_2.iloc[:df_train.shape[0]]\n",
    "    df_test_2 = df_2.iloc[-df_test.shape[0]:]\n",
    "    df_test = df_test_2.reset_index().drop(columns='index')\n",
    "\n",
    "    return df_train,df_test\n",
    "\n",
    "print(data.info())\n",
    "print(data_test.info())\n",
    "\n",
    "data_2, data_test_2 = impute_missing_values(data, data_test)\n",
    "\n",
    "print(data_2.info())\n",
    "print(data_test_2.info())"
   ],
   "metadata": {
    "collapsed": false,
    "pycharm": {
     "name": "#%%\n"
    }
   }
  },
  {
   "cell_type": "markdown",
   "source": [
    "## **Clustering geodata**\n",
    "\n",
    "To further use the location of each house, we want to go further than district, anbd see if we can make another type of clustering.\n",
    "Will use k_means clustering with price as target attibute, lets see what we get\n"
   ],
   "metadata": {
    "collapsed": false,
    "pycharm": {
     "name": "#%% md\n"
    }
   }
  },
  {
   "cell_type": "code",
   "execution_count": null,
   "outputs": [],
   "source": [
    "from sklearn.cluster import KMeans\n",
    "k_means = KMeans(n_clusters = 40, max_iter = 1000, init='k-means++')\n",
    "\n",
    "lat_long_pairs = data_train[['latitude','longitude']]\n",
    "target_data = np.log(data_train.price)/np.log(15)\n",
    "weighted_clusters = k_means.fit(lat_long_pairs,sample_weight = target_data)\n",
    "data_train['cluster_number'] = k_means.predict(lat_long_pairs, sample_weight = target_data)\n",
    "\n",
    "data_test = fix_geo_data(data_test)\n",
    "lat_long_pairs_test = data_test[['latitude','longitude']]\n",
    "print(lat_long_pairs_test.info())\n",
    "data_test['cluster_number'] = k_means.predict(lat_long_pairs_test)\n",
    "\n",
    "centers = k_means.cluster_centers_\n",
    "\n",
    "labels = data_train['cluster_number']\n",
    "labels_test = data_test['cluster_number']\n",
    "\n",
    "\n",
    "data_test.plot.scatter(x = 'latitude', y = 'longitude', c=labels_test, s=50, cmap='viridis')\n",
    "#data_train.plot.scatter(x = 'latitude', y = 'longitude', c=labels, s=50, cmap='viridis')\n",
    "plt.scatter(centers[:, 0], centers[:, 1], c='black', s=200, alpha=0.5)\n",
    "plt.title('Clustering GPS Co-ordinates to Form Regions - Weighted',fontsize=18, fontweight='bold')\n",
    "\n"
   ],
   "metadata": {
    "collapsed": false,
    "pycharm": {
     "name": "#%%\n"
    }
   }
  },
  {
   "cell_type": "code",
   "execution_count": null,
   "outputs": [],
   "source": [
    "data_train.plot.scatter(x = 'latitude', y = 'longitude', c=labels, s=50, cmap='viridis')\n",
    "#data_train.plot.scatter(x = 'latitude', y = 'longitude', c=labels, s=50, cmap='viridis')\n",
    "plt.scatter(centers[:, 0], centers[:, 1], c='black', s=200, alpha=0.5)\n",
    "plt.title('Clustering GPS Co-ordinates to Form Regions - Weighted',fontsize=18, fontweight='bold')"
   ],
   "metadata": {
    "collapsed": false,
    "pycharm": {
     "name": "#%%\n"
    }
   }
  },
  {
   "cell_type": "markdown",
   "source": [
    "### **Add trainstation cordinates**\n",
    "We want to check if there is any correleation between price and how close the apartment is to a railwaystation in moscow.\n",
    "We are also thinking about adding more centrum points so the models get a better sence of where things is located.\n",
    "\n",
    "Railwaystations: Kievsky, Paveletsky, Kursky, Belorussky, Rizhsky, Cherkizovo (Vostochniy), Yaroslavlsky, Kazansky, Leningradsky\n",
    "\n",
    "coordinates train sations:\n",
    "\n",
    "Want to add some other randomly selected points as well to represent the outer areas.\n",
    "\n",
    "best parks: Museum-Reserve Tsaritsyno, Vorobyovy Gory, MSU Botanical Garden Aptekarskiy Ogorod, Izmaylovsky Park\n",
    "\n",
    "water_treatment_proximity\n",
    "\n",
    "distance_to_top_tourist_spots(more attractive to rent?)\n",
    "\n",
    "distance_to_closest_metro_station: moscow is a city with a lot of traffic jams\n",
    "\n",
    "distance_to_closest_school:\n"
   ],
   "metadata": {
    "collapsed": false,
    "pycharm": {
     "name": "#%% md\n"
    }
   }
  },
  {
   "cell_type": "code",
   "execution_count": 42,
   "outputs": [
    {
     "name": "stdout",
     "output_type": "stream",
     "text": [
      "   id  seller       price  area_total  area_kitchen  area_living  floor  \\\n",
      "0   0     3.0   7139520.0        59.2          12.5         31.0    2.0   \n",
      "1   1     NaN  10500000.0        88.0          14.2         48.0   18.0   \n",
      "2   2     3.0   9019650.0        78.5          22.5         40.8   12.0   \n",
      "3   3     NaN  10500000.0        88.0          14.0         48.0   18.0   \n",
      "4   4     NaN  13900000.0        78.0          17.0         35.0    7.0   \n",
      "\n",
      "   rooms  layout  ceiling  ...   radius6   radius7   radius8   radius9  \\\n",
      "0    2.0     NaN     2.65  ...  0.218782  0.171794  0.358689  0.320881   \n",
      "1    3.0     1.0      NaN  ...  0.242237  0.206450  0.123089  0.066118   \n",
      "2    3.0     NaN     2.65  ...  0.173617  0.046868  0.262504  0.208984   \n",
      "3    3.0     NaN      NaN  ...  0.242237  0.206450  0.123089  0.066118   \n",
      "4    2.0     1.0     2.90  ...  0.233716  0.140305  0.353153  0.304780   \n",
      "\n",
      "   radius10  radius11  radius12  radius13  radius14  radius15  \n",
      "0  0.321317  0.362697  0.373651  0.347781  0.281384  0.217403  \n",
      "1  0.078059  0.086922  0.182223  0.213989  0.197793  0.231701  \n",
      "2  0.196668  0.257661  0.292548  0.279911  0.167726  0.112869  \n",
      "3  0.078059  0.086922  0.182223  0.213989  0.197793  0.231701  \n",
      "4  0.289771  0.351692  0.376374  0.356488  0.235495  0.169864  \n",
      "\n",
      "[5 rows x 50 columns]\n"
     ]
    }
   ],
   "source": [
    "import csv\n",
    "import pandas as pd\n",
    "import numpy as np\n",
    "from moscow_housing.display_data import import_data\n",
    "\n",
    "data_train,data_test = import_data()\n",
    "def add_parks_and_schools(df):\n",
    "    \"\"\"with parks we are going to add all as radius to different parks, will also do this with schools\"\"\"\n",
    "    parks = pd.read_csv('parks_cordinates.csv')\n",
    "    schools = pd.read_csv('school_cordinates.csv')\n",
    "    parks = convert_from_coordinates_to_lat_long(parks)\n",
    "    schools = convert_from_coordinates_to_lat_long(schools)\n",
    "\n",
    "    total = remove_duplicates(parks,schools)\n",
    "\n",
    "    for i, cordinate in enumerate(total):\n",
    "        df['radius'+ str(i)] = np.sqrt((cordinate[0]-df['latitude'])**2 + (cordinate[1]-df['longitude'])**2)\n",
    "\n",
    "\n",
    "    return df\n",
    "\n",
    "\n",
    "\n",
    "def remove_duplicates(parks,schools):\n",
    "    \"\"\"we want to remove places which is really close\"\"\"\n",
    "    schools = schools.drop(schools[schools['school']=='????????????'].index)\n",
    "    schools = schools.drop(schools[schools['school']=='Electronics_and_maths'].index)\n",
    "    schools = schools.drop(schools[schools['school']=='MSU'].index)\n",
    "    parks = parks.drop(parks[parks['park']=='vorobyovy_gory'].index)\n",
    "    parks = parks.drop(parks[parks['park']=='bittsevskiy_park'].index)\n",
    "\n",
    "    return np.concatenate((schools[['latitude','longitude']].to_numpy(),parks[['latitude','longitude']].to_numpy()))\n",
    "\n",
    "def closest_park(df):\n",
    "    parks = pd.read_csv('parks_cordinates.csv')\n",
    "    parks = convert_from_coordinates_to_lat_long(parks)\n",
    "\n",
    "    df = find_closest(df,parks,'park')\n",
    "\n",
    "    return df\n",
    "\n",
    "def closest_school(df):\n",
    "    schools = pd.read_csv('school_cordinates.csv')\n",
    "    schools = convert_from_coordinates_to_lat_long(schools)\n",
    "\n",
    "    df = find_closest(df,schools,'school')\n",
    "\n",
    "    return df\n",
    "\n",
    "def closest_attraction(df):\n",
    "    attractions = pd.read_csv('attractions_cordinates.csv')\n",
    "    attractions = convert_from_coordinates_to_lat_long(attractions)\n",
    "\n",
    "    df = find_closest(df,attractions,'atraction')\n",
    "\n",
    "    return df\n",
    "\n",
    "def closest_attraction(df):\n",
    "    attractions = pd.read_csv('attractions_cordinates.csv')\n",
    "    attractions = convert_from_coordinates_to_lat_long(attractions)\n",
    "\n",
    "    df = find_closest(df,attractions,'atraction')\n",
    "\n",
    "    return df\n",
    "\n",
    "def closest_train(df):\n",
    "    trains = pd.read_csv('train_cordinates.csv')\n",
    "    trains = convert_from_coordinates_to_lat_long(trains)\n",
    "\n",
    "    df = find_closest(df,trains,'train_station')\n",
    "\n",
    "    return df\n",
    "\n",
    "def closest_metro(df):\n",
    "    metroes = pd.read_csv('metro_cordinates.csv')\n",
    "    metroes = convert_from_coordinates_to_lat_long(metroes,metro=True)\n",
    "\n",
    "    df = find_closest(df, metroes,'metro_station')\n",
    "\n",
    "    return df\n",
    "\n",
    "def find_closest(df,df_with_coordinates,text):\n",
    "    \"\"\"finds closets location for each location in df to all the locations in df_with_coordinates\"\"\"\n",
    "    df[['closest_' + text,'distance_' + text]] = df.apply(closest,args=(df_with_coordinates,text),axis=1)\n",
    "    return df\n",
    "\n",
    "def closest(df, list_of_coordinates_and_category,text):\n",
    "    if df.id%1000==0:\n",
    "        print(df.id)\n",
    "    \"\"\"finds the closets coordinate in list of coordinates and the given coordinate\"\"\"\n",
    "    point= df[['latitude','longitude']].to_numpy()\n",
    "    list_of_coordinates_and_category['distances'] = list_of_coordinates_and_category.apply(calculate_distance,args=(point[0],point[1]),axis=1)\n",
    "    shortest_row = list_of_coordinates_and_category['distances'].idxmin()\n",
    "    return list_of_coordinates_and_category.iloc[shortest_row][[text,'distances']]\n",
    "    #calculate_distance(coordinate, list_of_coordinates_and_category[['longitude','latitude']])\n",
    "\n",
    "def calculate_distance(df,pointlat,pointlong):\n",
    "    \"\"\"calculates the distance between two points\"\"\"\n",
    "    distance = np.sqrt((pointlat-df['latitude'])**2 + (pointlong-df['longitude'])**2)\n",
    "    return distance\n",
    "\n",
    "def convert_from_coordinates_to_lat_long(df,metro=False):\n",
    "    if metro:\n",
    "        df[['latitude','longitude']] = df['coordinates'].str.split(\" \",1, expand=True)\n",
    "        df[['latitude','longitude']] = df[['latitude','longitude']].astype(float)\n",
    "    else:\n",
    "        df[['latitude','longitude']] = df['coordinates'].str.split(',',1, expand=True)\n",
    "        df[['latitude','longitude']] = df[['latitude','longitude']].astype(float)\n",
    "\n",
    "    return df\n",
    "\n",
    "#data_train = closest_metro(data_train)\n",
    "#print(data_train.columns)\n",
    "#print(data_train[['distance_metro_station','closest_metro_station','latitude','longitude']].head())"
   ],
   "metadata": {
    "collapsed": false,
    "pycharm": {
     "name": "#%%\n"
    }
   }
  },
  {
   "cell_type": "markdown",
   "source": [
    "## **Stuck**\n",
    "\n",
    "Rigt now we are really stuck, but angle worked really well for centrum radius, so lets add some more angles"
   ],
   "metadata": {
    "collapsed": false,
    "pycharm": {
     "name": "#%% md\n"
    }
   }
  },
  {
   "cell_type": "code",
   "execution_count": null,
   "outputs": [],
   "source": [
    "#make updatet add direction\n",
    "def add_direction(df, latitude=55.75, longitude=37.56,name=''):\n",
    "    \"\"\"adds direction to dataframe, can be one of eight categories (N,S,W,E)\"\"\"\n",
    "    #straight up (north)\n",
    "    normal_vector = np.array([0,1])\n",
    "    #normal_vector = np.tile(normal_vector,(df.shape[0],1))\n",
    "    #normal_vector = normal_vector.reshape((2,-df.shape[0]))\n",
    "    temp = pd.DataFrame()\n",
    "    temp['latitude'] = df['latitude']-latitude\n",
    "    temp['longitude'] = df['longitude']-longitude\n",
    "\n",
    "\n",
    "    apartment_vector = temp[['latitude','longitude']].to_numpy()\n",
    "\n",
    "\n",
    "    #print(np.shape(apartment_vector), np.shape(normal_vector))\n",
    "    angles = []\n",
    "    for vector in apartment_vector:\n",
    "        if vector[0] < 0:\n",
    "            temp_angle = -angle_between(vector,normal_vector)\n",
    "        else:\n",
    "            temp_angle = angle_between(vector,normal_vector)\n",
    "        angles.append(temp_angle)\n",
    "\n",
    "    angles = [element * 10 for element in angles]\n",
    "\n",
    "\n",
    "    angles_series = pd.Series(np.array(angles))\n",
    "    #angles_series.plot.hist()\n",
    "\n",
    "    df['angle'+name] = angles_series\n",
    "    max = df['angle'+name].max()\n",
    "    min = df['angle'+name].min()\n",
    "    bins = [min,min*7/8,min*5/8,min*3/8,min/8,max/8,max*3/8,max*5/8,max*7/8,max]\n",
    "    rounded_bins = [element for element in bins]\n",
    "    #print(rounded_bins)\n",
    "    direction = pd.cut(df['angle'+name], bins= rounded_bins,labels=['S','SW','W','NW','N','NE','E','SE','S'],ordered=False)\n",
    "    df['direction'+name] = direction\n",
    "    return df"
   ],
   "metadata": {
    "collapsed": false,
    "pycharm": {
     "name": "#%%\n"
    }
   }
  },
  {
   "cell_type": "markdown",
   "source": [
    "## **normalize data**\n",
    "we tried logging price, but maybe it is even better to normalize all integer data, or at least some of it"
   ],
   "metadata": {
    "collapsed": false,
    "pycharm": {
     "name": "#%% md\n"
    }
   }
  },
  {
   "cell_type": "code",
   "execution_count": 6,
   "outputs": [
    {
     "name": "stdout",
     "output_type": "stream",
     "text": [
      "0.0\n"
     ]
    },
    {
     "name": "stderr",
     "output_type": "stream",
     "text": [
      "C:\\Users\\Styrk\\AppData\\Local\\Temp/ipykernel_22224/2775923982.py:9: SettingWithCopyWarning: \n",
      "A value is trying to be set on a copy of a slice from a DataFrame.\n",
      "Try using .loc[row_indexer,col_indexer] = value instead\n",
      "\n",
      "See the caveats in the documentation: https://pandas.pydata.org/pandas-docs/stable/user_guide/indexing.html#returning-a-view-versus-a-copy\n",
      "  temp[column] = (temp[column]-min_df)/(max_df-min_df)\n",
      "C:\\Users\\Styrk\\AppData\\Local\\Temp/ipykernel_22224/2775923982.py:10: SettingWithCopyWarning: \n",
      "A value is trying to be set on a copy of a slice from a DataFrame.\n",
      "Try using .loc[row_indexer,col_indexer] = value instead\n",
      "\n",
      "See the caveats in the documentation: https://pandas.pydata.org/pandas-docs/stable/user_guide/indexing.html#returning-a-view-versus-a-copy\n",
      "  temp_test[column] = (temp_test[column]-min_df)/(max_df-min_df)\n"
     ]
    }
   ],
   "source": [
    "#here we can use a simple function, this function works pairwise\n",
    "def normalize_numerical(df,df_test, numerical_columns):\n",
    "    temp = df[numerical_columns]\n",
    "    temp_test = df_test[numerical_columns]\n",
    "    for column in numerical_columns:\n",
    "        min_df = min([temp[column].min(),temp_test[column].min()])\n",
    "        max_df = max([temp[column].max(),temp_test[column].max()])\n",
    "\n",
    "        temp[column] = (temp[column]-min_df)/(max_df-min_df)\n",
    "        temp_test[column] = (temp_test[column]-min_df)/(max_df-min_df)\n",
    "\n",
    "    df[numerical_columns] = temp\n",
    "    df_test[numerical_columns] = temp_test\n",
    "\n",
    "    return df,df_test\n",
    "import pandas as pd\n",
    "import numpy as np\n",
    "from moscow_housing.display_data import import_data\n",
    "\n",
    "data_train,data_test = import_data()\n",
    "\n",
    "\n",
    "num = ['ceiling']\n",
    "data_train,data_test = normalize_numerical(data_train,data_test,num)\n",
    "print(data_test.ceiling.min())"
   ],
   "metadata": {
    "collapsed": false,
    "pycharm": {
     "name": "#%%\n"
    }
   }
  },
  {
   "cell_type": "markdown",
   "source": [
    "We also saw some errores where floor were larger than stories, will fix this before adding high up:\n",
    "We think that high_up doesn't reward pent houses enough, meaning we want a new variable for penthouses\n"
   ],
   "metadata": {
    "collapsed": false,
    "pycharm": {
     "name": "#%% md\n"
    }
   }
  },
  {
   "cell_type": "code",
   "execution_count": 9,
   "outputs": [
    {
     "name": "stderr",
     "output_type": "stream",
     "text": [
      "C:\\Users\\Styrk\\AppData\\Local\\Temp/ipykernel_22224/3673722511.py:2: SettingWithCopyWarning: \n",
      "A value is trying to be set on a copy of a slice from a DataFrame\n",
      "\n",
      "See the caveats in the documentation: https://pandas.pydata.org/pandas-docs/stable/user_guide/indexing.html#returning-a-view-versus-a-copy\n",
      "  df['floor'][df['floor']>df['stories']] = df['stories']\n"
     ]
    },
    {
     "name": "stdout",
     "output_type": "stream",
     "text": [
      "Empty DataFrame\n",
      "Columns: [id, seller, price, area_total, area_kitchen, area_living, floor, rooms, layout, ceiling, bathrooms_shared, bathrooms_private, windows_court, windows_street, balconies, loggias, condition, phones, building_id, new, latitude, longitude, district, street, address, constructed, material, stories, elevator_without, elevator_passenger, elevator_service, parking, garbage_chute, heating]\n",
      "Index: []\n",
      "\n",
      "[0 rows x 34 columns]\n"
     ]
    },
    {
     "ename": "KeyError",
     "evalue": "'high_up'",
     "output_type": "error",
     "traceback": [
      "\u001B[1;31m---------------------------------------------------------------------------\u001B[0m",
      "\u001B[1;31mKeyError\u001B[0m                                  Traceback (most recent call last)",
      "\u001B[1;32m~\\AppData\\Local\\Programs\\Python\\Python39\\lib\\site-packages\\pandas\\core\\indexes\\base.py\u001B[0m in \u001B[0;36mget_loc\u001B[1;34m(self, key, method, tolerance)\u001B[0m\n\u001B[0;32m   3360\u001B[0m             \u001B[1;32mtry\u001B[0m\u001B[1;33m:\u001B[0m\u001B[1;33m\u001B[0m\u001B[1;33m\u001B[0m\u001B[0m\n\u001B[1;32m-> 3361\u001B[1;33m                 \u001B[1;32mreturn\u001B[0m \u001B[0mself\u001B[0m\u001B[1;33m.\u001B[0m\u001B[0m_engine\u001B[0m\u001B[1;33m.\u001B[0m\u001B[0mget_loc\u001B[0m\u001B[1;33m(\u001B[0m\u001B[0mcasted_key\u001B[0m\u001B[1;33m)\u001B[0m\u001B[1;33m\u001B[0m\u001B[1;33m\u001B[0m\u001B[0m\n\u001B[0m\u001B[0;32m   3362\u001B[0m             \u001B[1;32mexcept\u001B[0m \u001B[0mKeyError\u001B[0m \u001B[1;32mas\u001B[0m \u001B[0merr\u001B[0m\u001B[1;33m:\u001B[0m\u001B[1;33m\u001B[0m\u001B[1;33m\u001B[0m\u001B[0m\n",
      "\u001B[1;32m~\\AppData\\Local\\Programs\\Python\\Python39\\lib\\site-packages\\pandas\\_libs\\index.pyx\u001B[0m in \u001B[0;36mpandas._libs.index.IndexEngine.get_loc\u001B[1;34m()\u001B[0m\n",
      "\u001B[1;32m~\\AppData\\Local\\Programs\\Python\\Python39\\lib\\site-packages\\pandas\\_libs\\index.pyx\u001B[0m in \u001B[0;36mpandas._libs.index.IndexEngine.get_loc\u001B[1;34m()\u001B[0m\n",
      "\u001B[1;32mpandas\\_libs\\hashtable_class_helper.pxi\u001B[0m in \u001B[0;36mpandas._libs.hashtable.PyObjectHashTable.get_item\u001B[1;34m()\u001B[0m\n",
      "\u001B[1;32mpandas\\_libs\\hashtable_class_helper.pxi\u001B[0m in \u001B[0;36mpandas._libs.hashtable.PyObjectHashTable.get_item\u001B[1;34m()\u001B[0m\n",
      "\u001B[1;31mKeyError\u001B[0m: 'high_up'",
      "\nThe above exception was the direct cause of the following exception:\n",
      "\u001B[1;31mKeyError\u001B[0m                                  Traceback (most recent call last)",
      "\u001B[1;32m~\\AppData\\Local\\Temp/ipykernel_22224/3673722511.py\u001B[0m in \u001B[0;36m<module>\u001B[1;34m\u001B[0m\n\u001B[0;32m     13\u001B[0m     \u001B[1;32mreturn\u001B[0m \u001B[0mdf\u001B[0m\u001B[1;33m\u001B[0m\u001B[1;33m\u001B[0m\u001B[0m\n\u001B[0;32m     14\u001B[0m \u001B[1;33m\u001B[0m\u001B[0m\n\u001B[1;32m---> 15\u001B[1;33m \u001B[0mprint\u001B[0m\u001B[1;33m(\u001B[0m\u001B[0madd_penthouse\u001B[0m\u001B[1;33m(\u001B[0m\u001B[0mdata_train\u001B[0m\u001B[1;33m)\u001B[0m\u001B[1;33m[\u001B[0m\u001B[1;34m'penthouse'\u001B[0m\u001B[1;33m]\u001B[0m\u001B[1;33m)\u001B[0m\u001B[1;33m\u001B[0m\u001B[1;33m\u001B[0m\u001B[0m\n\u001B[0m\u001B[0;32m     16\u001B[0m \u001B[1;33m\u001B[0m\u001B[0m\n",
      "\u001B[1;32m~\\AppData\\Local\\Temp/ipykernel_22224/3673722511.py\u001B[0m in \u001B[0;36madd_penthouse\u001B[1;34m(df)\u001B[0m\n\u001B[0;32m     10\u001B[0m \u001B[1;33m\u001B[0m\u001B[0m\n\u001B[0;32m     11\u001B[0m \u001B[1;32mdef\u001B[0m \u001B[0madd_penthouse\u001B[0m\u001B[1;33m(\u001B[0m\u001B[0mdf\u001B[0m\u001B[1;33m)\u001B[0m\u001B[1;33m:\u001B[0m\u001B[1;33m\u001B[0m\u001B[1;33m\u001B[0m\u001B[0m\n\u001B[1;32m---> 12\u001B[1;33m     \u001B[0mdf\u001B[0m\u001B[1;33m[\u001B[0m\u001B[1;34m'penthouse'\u001B[0m\u001B[1;33m]\u001B[0m \u001B[1;33m=\u001B[0m \u001B[1;33m(\u001B[0m\u001B[0mdf\u001B[0m\u001B[1;33m[\u001B[0m\u001B[1;34m'floor'\u001B[0m\u001B[1;33m]\u001B[0m \u001B[1;33m*\u001B[0m \u001B[1;33m(\u001B[0m\u001B[0mdf\u001B[0m\u001B[1;33m[\u001B[0m\u001B[1;34m'high_up'\u001B[0m\u001B[1;33m]\u001B[0m \u001B[1;33m-\u001B[0m \u001B[1;36m0.4\u001B[0m\u001B[1;33m)\u001B[0m\u001B[1;33m**\u001B[0m\u001B[1;36m5\u001B[0m\u001B[1;33m)\u001B[0m\u001B[1;33m.\u001B[0m\u001B[0mastype\u001B[0m\u001B[1;33m(\u001B[0m\u001B[0mfloat\u001B[0m\u001B[1;33m)\u001B[0m\u001B[1;33m\u001B[0m\u001B[1;33m\u001B[0m\u001B[0m\n\u001B[0m\u001B[0;32m     13\u001B[0m     \u001B[1;32mreturn\u001B[0m \u001B[0mdf\u001B[0m\u001B[1;33m\u001B[0m\u001B[1;33m\u001B[0m\u001B[0m\n\u001B[0;32m     14\u001B[0m \u001B[1;33m\u001B[0m\u001B[0m\n",
      "\u001B[1;32m~\\AppData\\Local\\Programs\\Python\\Python39\\lib\\site-packages\\pandas\\core\\frame.py\u001B[0m in \u001B[0;36m__getitem__\u001B[1;34m(self, key)\u001B[0m\n\u001B[0;32m   3456\u001B[0m             \u001B[1;32mif\u001B[0m \u001B[0mself\u001B[0m\u001B[1;33m.\u001B[0m\u001B[0mcolumns\u001B[0m\u001B[1;33m.\u001B[0m\u001B[0mnlevels\u001B[0m \u001B[1;33m>\u001B[0m \u001B[1;36m1\u001B[0m\u001B[1;33m:\u001B[0m\u001B[1;33m\u001B[0m\u001B[1;33m\u001B[0m\u001B[0m\n\u001B[0;32m   3457\u001B[0m                 \u001B[1;32mreturn\u001B[0m \u001B[0mself\u001B[0m\u001B[1;33m.\u001B[0m\u001B[0m_getitem_multilevel\u001B[0m\u001B[1;33m(\u001B[0m\u001B[0mkey\u001B[0m\u001B[1;33m)\u001B[0m\u001B[1;33m\u001B[0m\u001B[1;33m\u001B[0m\u001B[0m\n\u001B[1;32m-> 3458\u001B[1;33m             \u001B[0mindexer\u001B[0m \u001B[1;33m=\u001B[0m \u001B[0mself\u001B[0m\u001B[1;33m.\u001B[0m\u001B[0mcolumns\u001B[0m\u001B[1;33m.\u001B[0m\u001B[0mget_loc\u001B[0m\u001B[1;33m(\u001B[0m\u001B[0mkey\u001B[0m\u001B[1;33m)\u001B[0m\u001B[1;33m\u001B[0m\u001B[1;33m\u001B[0m\u001B[0m\n\u001B[0m\u001B[0;32m   3459\u001B[0m             \u001B[1;32mif\u001B[0m \u001B[0mis_integer\u001B[0m\u001B[1;33m(\u001B[0m\u001B[0mindexer\u001B[0m\u001B[1;33m)\u001B[0m\u001B[1;33m:\u001B[0m\u001B[1;33m\u001B[0m\u001B[1;33m\u001B[0m\u001B[0m\n\u001B[0;32m   3460\u001B[0m                 \u001B[0mindexer\u001B[0m \u001B[1;33m=\u001B[0m \u001B[1;33m[\u001B[0m\u001B[0mindexer\u001B[0m\u001B[1;33m]\u001B[0m\u001B[1;33m\u001B[0m\u001B[1;33m\u001B[0m\u001B[0m\n",
      "\u001B[1;32m~\\AppData\\Local\\Programs\\Python\\Python39\\lib\\site-packages\\pandas\\core\\indexes\\base.py\u001B[0m in \u001B[0;36mget_loc\u001B[1;34m(self, key, method, tolerance)\u001B[0m\n\u001B[0;32m   3361\u001B[0m                 \u001B[1;32mreturn\u001B[0m \u001B[0mself\u001B[0m\u001B[1;33m.\u001B[0m\u001B[0m_engine\u001B[0m\u001B[1;33m.\u001B[0m\u001B[0mget_loc\u001B[0m\u001B[1;33m(\u001B[0m\u001B[0mcasted_key\u001B[0m\u001B[1;33m)\u001B[0m\u001B[1;33m\u001B[0m\u001B[1;33m\u001B[0m\u001B[0m\n\u001B[0;32m   3362\u001B[0m             \u001B[1;32mexcept\u001B[0m \u001B[0mKeyError\u001B[0m \u001B[1;32mas\u001B[0m \u001B[0merr\u001B[0m\u001B[1;33m:\u001B[0m\u001B[1;33m\u001B[0m\u001B[1;33m\u001B[0m\u001B[0m\n\u001B[1;32m-> 3363\u001B[1;33m                 \u001B[1;32mraise\u001B[0m \u001B[0mKeyError\u001B[0m\u001B[1;33m(\u001B[0m\u001B[0mkey\u001B[0m\u001B[1;33m)\u001B[0m \u001B[1;32mfrom\u001B[0m \u001B[0merr\u001B[0m\u001B[1;33m\u001B[0m\u001B[1;33m\u001B[0m\u001B[0m\n\u001B[0m\u001B[0;32m   3364\u001B[0m \u001B[1;33m\u001B[0m\u001B[0m\n\u001B[0;32m   3365\u001B[0m         \u001B[1;32mif\u001B[0m \u001B[0mis_scalar\u001B[0m\u001B[1;33m(\u001B[0m\u001B[0mkey\u001B[0m\u001B[1;33m)\u001B[0m \u001B[1;32mand\u001B[0m \u001B[0misna\u001B[0m\u001B[1;33m(\u001B[0m\u001B[0mkey\u001B[0m\u001B[1;33m)\u001B[0m \u001B[1;32mand\u001B[0m \u001B[1;32mnot\u001B[0m \u001B[0mself\u001B[0m\u001B[1;33m.\u001B[0m\u001B[0mhasnans\u001B[0m\u001B[1;33m:\u001B[0m\u001B[1;33m\u001B[0m\u001B[1;33m\u001B[0m\u001B[0m\n",
      "\u001B[1;31mKeyError\u001B[0m: 'high_up'"
     ]
    }
   ],
   "source": [
    "def fix_floors(df):\n",
    "    df['floor'][df['floor']>df['stories']] = df['stories']\n",
    "    return df\n",
    "data_train,data_test = import_data()\n",
    "\n",
    "\n",
    "\n",
    "data_train = fix_floors(data_train)\n",
    "print(data_train[data_train['floor']>data_train['stories']])\n",
    "\n",
    "def add_penthouse(df):\n",
    "    \"\"\"will reward buildings highup in high buildings\"\"\"\n",
    "    df['penthouse'] = (df['floor'] * (df['high_up'] - 0.7)**3).astype(float)\n",
    "    return df\n",
    "\n",
    "print(add_penthouse(data_train)['penthouse'])"
   ],
   "metadata": {
    "collapsed": false,
    "pycharm": {
     "name": "#%%\n"
    }
   }
  },
  {
   "cell_type": "markdown",
   "source": [
    "### **Simplyfying features**\n",
    "\n",
    "Features like bathrooms, loggias, balconies, phones\n",
    "bathrooms_shared, bathrooms_private, balconies, loggias,"
   ],
   "metadata": {
    "collapsed": false,
    "pycharm": {
     "name": "#%% md\n"
    }
   }
  },
  {
   "cell_type": "code",
   "execution_count": 11,
   "outputs": [
    {
     "name": "stdout",
     "output_type": "stream",
     "text": [
      "<class 'pandas.core.frame.DataFrame'>\n",
      "RangeIndex: 23285 entries, 0 to 23284\n",
      "Data columns (total 38 columns):\n",
      " #   Column                 Non-Null Count  Dtype  \n",
      "---  ------                 --------------  -----  \n",
      " 0   id                     23285 non-null  int64  \n",
      " 1   seller                 14455 non-null  float64\n",
      " 2   price                  23285 non-null  float64\n",
      " 3   area_total             23285 non-null  float64\n",
      " 4   area_kitchen           18564 non-null  float64\n",
      " 5   area_living            19403 non-null  float64\n",
      " 6   floor                  23285 non-null  float64\n",
      " 7   rooms                  23285 non-null  float64\n",
      " 8   layout                 5643 non-null   float64\n",
      " 9   ceiling                12192 non-null  float64\n",
      " 10  bathrooms_shared       19413 non-null  float64\n",
      " 11  bathrooms_private      19413 non-null  float64\n",
      " 12  windows_court          15213 non-null  float64\n",
      " 13  windows_street         15213 non-null  float64\n",
      " 14  balconies              12765 non-null  float64\n",
      " 15  loggias                12765 non-null  float64\n",
      " 16  condition              13475 non-null  float64\n",
      " 17  phones                 23205 non-null  float64\n",
      " 18  building_id            23285 non-null  int64  \n",
      " 19  new                    23021 non-null  float64\n",
      " 20  latitude               23285 non-null  float64\n",
      " 21  longitude              23285 non-null  float64\n",
      " 22  district               23155 non-null  float64\n",
      " 23  street                 23285 non-null  object \n",
      " 24  address                23285 non-null  object \n",
      " 25  constructed            22491 non-null  float64\n",
      " 26  material               19313 non-null  float64\n",
      " 27  stories                23285 non-null  float64\n",
      " 28  elevator_without       22928 non-null  float64\n",
      " 29  elevator_passenger     22928 non-null  float64\n",
      " 30  elevator_service       22928 non-null  float64\n",
      " 31  parking                16497 non-null  float64\n",
      " 32  garbage_chute          14474 non-null  float64\n",
      " 33  heating                15124 non-null  float64\n",
      " 34  bathrooms_shared_cat   23285 non-null  int32  \n",
      " 35  bathrooms_private_cat  23285 non-null  int32  \n",
      " 36  balconies_cat          23285 non-null  int32  \n",
      " 37  loggias_cat            23285 non-null  int32  \n",
      "dtypes: float64(30), int32(4), int64(2), object(2)\n",
      "memory usage: 6.4+ MB\n",
      "None        loggias  loggias_cat\n",
      "0          NaN            0\n",
      "1          0.0            0\n",
      "2          NaN            0\n",
      "3          1.0            1\n",
      "4          1.0            1\n",
      "...        ...          ...\n",
      "23280      1.0            1\n",
      "23281      NaN            0\n",
      "23282      NaN            0\n",
      "23283      NaN            0\n",
      "23284      NaN            0\n",
      "\n",
      "[23285 rows x 2 columns]\n"
     ]
    }
   ],
   "source": [
    "def simplify_features(df):\n",
    "    to_simplify = ['bathrooms_shared', 'bathrooms_private', 'balconies', 'loggias']\n",
    "    for feature in to_simplify:\n",
    "        df[feature + '_cat'] = (df[feature] > 0)*1\n",
    "    return df\n",
    "data_train,data_test = import_data()\n",
    "\n",
    "print(simplify_features(data_train).info(), simplify_features(data_train)[['loggias','loggias_cat']])"
   ],
   "metadata": {
    "collapsed": false,
    "pycharm": {
     "name": "#%%\n"
    }
   }
  },
  {
   "cell_type": "markdown",
   "source": [
    "\n",
    "# **Differences in test and training set**\n",
    "\n",
    "In this section i will try to look at the differences in the training and test set. Maybe there is some infomration which is really important in the training set, and not in the test set.\n"
   ],
   "metadata": {
    "collapsed": false,
    "pycharm": {
     "name": "#%% md\n"
    }
   }
  },
  {
   "cell_type": "code",
   "execution_count": null,
   "outputs": [],
   "source": [],
   "metadata": {
    "collapsed": false,
    "pycharm": {
     "name": "#%%\n"
    }
   }
  }
 ],
 "metadata": {
  "kernelspec": {
   "display_name": "Python 3 (ipykernel)",
   "language": "python",
   "name": "python3"
  },
  "language_info": {
   "codemirror_mode": {
    "name": "ipython",
    "version": 3
   },
   "file_extension": ".py",
   "mimetype": "text/x-python",
   "name": "python",
   "nbconvert_exporter": "python",
   "pygments_lexer": "ipython3",
   "version": "3.9.7"
  }
 },
 "nbformat": 4,
 "nbformat_minor": 1
}