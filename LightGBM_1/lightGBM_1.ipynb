{
 "cells": [
  {
   "cell_type": "markdown",
   "metadata": {
    "collapsed": true,
    "pycharm": {
     "name": "#%% md\n"
    }
   },
   "source": [
    "In this notebook I will test the model proposed in the ensemble learning lecture.\n",
    "Chapter with explenation about the algorithm behind the lightGBM, will write this after the coding.\n",
    "\n",
    "LightGBM is good in our case because it can deal with categorical values. We will start with importing the data, the data is already divided into test and training data."
   ]
  },
  {
   "cell_type": "code",
   "execution_count": 89,
   "metadata": {
    "pycharm": {
     "name": "#%%\n"
    }
   },
   "outputs": [],
   "source": [
    "import lightgbm as lgb\n",
    "from catboost import CatBoostRegressor\n",
    "import pandas as pd\n",
    "import numpy as np\n",
    "\n",
    "import matplotlib.pylab as plt\n",
    "plt.style.use('ggplot')"
   ]
  },
  {
   "cell_type": "markdown",
   "metadata": {
    "pycharm": {
     "name": "#%% md\n"
    }
   },
   "source": [
    "I want to use import_data function from another directory, and make the data ready for the model. LightGBM accepts categorical values, but they have to be encoded as no-negative integers.\n"
   ]
  },
  {
   "cell_type": "code",
   "execution_count": 90,
   "metadata": {
    "pycharm": {
     "name": "#%%\n"
    }
   },
   "outputs": [
    {
     "name": "stdout",
     "output_type": "stream",
     "text": [
      "first run 0.1834119728836997\n"
     ]
    }
   ],
   "source": [
    "from sklearn.model_selection import train_test_split\n",
    "from moscow_housing.display_data import import_data\n",
    "\n",
    "#We dont want our model to care about the id of the house or the seller\n",
    "#In my first run, i will replace missing values with the mean value\n",
    "data, data_test = import_data()\n",
    "Y = data.price\n",
    "id = data.id\n",
    "data = data.drop(columns=['price','id','seller'])\n",
    "\n",
    "\n",
    "for column in data.columns:\n",
    "    column_type = data[column].dtype\n",
    "    if column_type == 'object':\n",
    "        break\n",
    "    data[column] = data[column].replace(np.NaN, data[column].mean())\n",
    "\n",
    "#turn categorical features into correct type\n",
    "for column in data.columns:\n",
    "    column_type = data[column].dtype\n",
    "    if column_type == 'object':\n",
    "        data[column] = data[column].astype('category')\n",
    "\n",
    "\n",
    "X_train, X_test, y_train, y_test = train_test_split(data, Y, test_size=0.2, random_state=42)\n",
    "\n",
    "\n",
    "def root_mean_squared_log_error(y_true, y_pred):\n",
    "    # Alternatively: sklearn.metrics.mean_squared_log_error(y_true, y_pred) ** 0.5\n",
    "    assert (y_true >= 0).all()\n",
    "    assert (y_pred >= 0).all()\n",
    "    log_error = np.log1p(y_pred) - np.log1p(y_true)  # Note: log1p(x) = log(1 + x)\n",
    "    return np.mean(log_error ** 2) ** 0.5\n",
    "\n",
    "lightGBM_model = lgb.LGBMRegressor(\n",
    "    num_leaves=20,\n",
    "    max_depth=15,\n",
    "    random_state=42,\n",
    "    silent=True,\n",
    "    metric='mse',\n",
    "    n_jobs=4,\n",
    "    n_estimators=10000,\n",
    "    colsample_bytree=0.95,\n",
    "    subsample=0.9,\n",
    "    learning_rate=0.09)\n",
    "\n",
    "lightGBM_model.fit(X_train,y_train)\n",
    "prediction = lightGBM_model.predict(X_test)\n",
    "\n",
    "count = 0\n",
    "for i in prediction:\n",
    "    if i < 0:\n",
    "        prediction[count] = prediction.mean()\n",
    "    count += 1\n",
    "\n",
    "rmsle = root_mean_squared_log_error(y_test,prediction)\n",
    "print(\"first run\", rmsle)\n",
    "\n",
    "\n",
    "\n"
   ]
  },
  {
   "cell_type": "markdown",
   "metadata": {
    "pycharm": {
     "name": "#%% md\n"
    }
   },
   "source": [
    "Second attempt"
   ]
  },
  {
   "cell_type": "code",
   "execution_count": 91,
   "metadata": {
    "pycharm": {
     "name": "#%%\n"
    }
   },
   "outputs": [
    {
     "name": "stdout",
     "output_type": "stream",
     "text": [
      "[IterativeImputer] Completing matrix with shape (23285, 30)\n",
      "[IterativeImputer] Ending imputation round 1/10, elapsed time 1.57\n",
      "[IterativeImputer] Change: 1508.6948635194135, scaled tolerance: 2600000.0 \n",
      "[IterativeImputer] Early stopping criterion reached.\n",
      "done with transforming data\n"
     ]
    }
   ],
   "source": [
    "from sklearn.model_selection import train_test_split\n",
    "from moscow_housing.display_data import import_data\n",
    "from sklearn.linear_model import LinearRegression\n",
    "from sklearn.ensemble import RandomForestRegressor\n",
    "from sklearn.experimental import enable_iterative_imputer\n",
    "from sklearn.impute import IterativeImputer\n",
    "\n",
    "\n",
    "#We dont want our model to care about the id of the house or the seller\n",
    "#For my second run, i want to use linear regression to predict the missing values\n",
    "data_2, data_test_2 = import_data()\n",
    "id = data_2.id\n",
    "\n",
    "data_2 = data_2.drop(columns=['id', 'seller'])\n",
    "Y_2 = data_2.price\n",
    "\n",
    "\n",
    "data_without_NaN = data_2[['street','address']]\n",
    "data_2 = data_2.drop(columns=['street','address'])\n",
    "\n",
    "imp_mean = IterativeImputer(verbose= 2, random_state=0)\n",
    "transformed_data = imp_mean.fit_transform(data_2)\n",
    "\n",
    "print('done with transforming data')\n",
    "data_2_after_transformation = data_2"
   ]
  },
  {
   "cell_type": "markdown",
   "source": [
    "Now that the missing values has been predicted by the data, we need to get the data back as a pandas datafram instead of a numpy array"
   ],
   "metadata": {
    "collapsed": false,
    "pycharm": {
     "name": "#%% md\n"
    }
   }
  },
  {
   "cell_type": "code",
   "execution_count": 92,
   "outputs": [
    {
     "name": "stdout",
     "output_type": "stream",
     "text": [
      "second run 0.06719042389062292\n"
     ]
    }
   ],
   "source": [
    "data_2 = data_2_after_transformation\n",
    "Y = Y_2\n",
    "\n",
    "data_2 = pd.DataFrame(transformed_data, columns=data_2.columns)\n",
    "\n",
    "data[['street','address']] = data_without_NaN\n",
    "\n",
    "#turn categorical features into correct type\n",
    "for column in data_2.columns:\n",
    "    column_type = data_2[column].dtype\n",
    "    if column_type == 'object':\n",
    "        data_2[column] = data_2[column].astype('category')\n",
    "\n",
    "\n",
    "X_train, X_test, y_train, y_test = train_test_split(data_2, Y, test_size=0.2, random_state=42)\n",
    "\n",
    "\n",
    "def root_mean_squared_log_error(y_true, y_pred):\n",
    "    # Alternatively: sklearn.metrics.mean_squared_log_error(y_true, y_pred) ** 0.5\n",
    "    assert (y_true >= 0).all()\n",
    "    assert (y_pred >= 0).all()\n",
    "    log_error = np.log1p(y_pred) - np.log1p(y_true)  # Note: log1p(x) = log(1 + x)\n",
    "    return np.mean(log_error ** 2) ** 0.5\n",
    "\n",
    "\n",
    "lightGBM_model = lgb.LGBMRegressor(\n",
    "    num_leaves=20,\n",
    "    max_depth=15,\n",
    "    random_state=42,\n",
    "    silent=True,\n",
    "    metric='mse',\n",
    "    n_jobs=4,\n",
    "    n_estimators=10000,\n",
    "    colsample_bytree=0.95,\n",
    "    subsample=0.9,\n",
    "    learning_rate=0.09)\n",
    "\n",
    "lightGBM_model.fit(X_train,y_train)\n",
    "prediction = lightGBM_model.predict(X_test)\n",
    "\n",
    "count = 0\n",
    "for i in prediction:\n",
    "    if i < 0:\n",
    "        prediction[count] = prediction.mean()\n",
    "    count += 1\n",
    "\n",
    "rmsle = root_mean_squared_log_error(y_test,prediction)\n",
    "print(\"second run\", rmsle)"
   ],
   "metadata": {
    "collapsed": false,
    "pycharm": {
     "name": "#%%\n"
    }
   }
  }
 ],
 "metadata": {
  "kernelspec": {
   "display_name": "Python 3 (ipykernel)",
   "language": "python",
   "name": "python3"
  },
  "language_info": {
   "codemirror_mode": {
    "name": "ipython",
    "version": 3
   },
   "file_extension": ".py",
   "mimetype": "text/x-python",
   "name": "python",
   "nbconvert_exporter": "python",
   "pygments_lexer": "ipython3",
   "version": "3.9.7"
  }
 },
 "nbformat": 4,
 "nbformat_minor": 1
}